{
 "cells": [
  {
   "cell_type": "markdown",
   "metadata": {
    "colab_type": "text",
    "id": "j-ESpMFTVQUa"
   },
   "source": [
    "# Amazon Fine Food Reviews Analysis\n",
    "The Amazon Fine Food Reviews dataset consists of reviews of fine foods from Amazon.\n",
    "\n",
    " Number of reviews: 568,454                                                                                                     \n",
    " Number of users: 256,059                                                                                                       \n",
    " Number of products: 74,258                                                                                                                                                                                                             \n",
    " Number of Attributes/Columns in data: 10\n",
    " \n",
    " Attributes:\n",
    "1. IdRow Id\n",
    "2. ProductIdUnique identifier for the product\n",
    "3. UserIdUnqiue identifier for the user\n",
    "4. ProfileNameProfile name of the user\n",
    "5. HelpfulnessNumeratorNumber of users who found the review helpful\n",
    "6. HelpfulnessDenominatorNumber of users who indicated whether they found the review helpful\n",
    "7. ScoreRating between 1 and 5\n",
    "8. TimeTimestamp for the review\n",
    "9. SummaryBrief summary of the review\n",
    "10. TextText of the review"
   ]
  },
  {
   "cell_type": "code",
   "execution_count": 0,
   "metadata": {
    "colab": {},
    "colab_type": "code",
    "id": "D0b-cqrnVTwI"
   },
   "outputs": [],
   "source": [
    "# import packages\n",
    "import pandas as pd\n",
    "import numpy as np\n",
    "import matplotlib.pyplot as plt\n",
    "import seaborn as sns\n",
    "import string\n",
    "import sqlite3\n",
    "import re\n",
    "import nltk\n",
    "from nltk.corpus import stopwords\n",
    "from nltk.stem import PorterStemmer\n",
    "from nltk.stem import SnowballStemmer\n",
    "from nltk.stem.wordnet import WordNetLemmatizer\n",
    "from sklearn.metrics import accuracy_score,precision_score,recall_score,confusion_matrix,classification_report,f1_score\n",
    "import gensim\n",
    "import pickle"
   ]
  },
  {
   "cell_type": "code",
   "execution_count": 4,
   "metadata": {
    "colab": {
     "base_uri": "https://localhost:8080/",
     "height": 121
    },
    "colab_type": "code",
    "id": "Q4r4hucrVT46",
    "outputId": "351374cc-415f-4850-d419-61cdf98e7c0a"
   },
   "outputs": [
    {
     "name": "stdout",
     "output_type": "stream",
     "text": [
      "Go to this URL in a browser: https://accounts.google.com/o/oauth2/auth?client_id=947318989803-6bn6qk8qdgf4n4g3pfee6491hc0brc4i.apps.googleusercontent.com&redirect_uri=urn%3Aietf%3Awg%3Aoauth%3A2.0%3Aoob&scope=email%20https%3A%2F%2Fwww.googleapis.com%2Fauth%2Fdocs.test%20https%3A%2F%2Fwww.googleapis.com%2Fauth%2Fdrive%20https%3A%2F%2Fwww.googleapis.com%2Fauth%2Fdrive.photos.readonly%20https%3A%2F%2Fwww.googleapis.com%2Fauth%2Fpeopleapi.readonly&response_type=code\n",
      "\n",
      "Enter your authorization code:\n",
      "··········\n",
      "Mounted at /content/gdrive\n"
     ]
    }
   ],
   "source": [
    "from google.colab import drive\n",
    "drive.mount('/content/gdrive',force_remount=True)"
   ]
  },
  {
   "cell_type": "code",
   "execution_count": 5,
   "metadata": {
    "colab": {
     "base_uri": "https://localhost:8080/",
     "height": 118
    },
    "colab_type": "code",
    "id": "gofdkwHEZ1YW",
    "outputId": "38a6ad5b-bd94-4fa1-a2d5-46fa3d90875e"
   },
   "outputs": [
    {
     "name": "stdout",
     "output_type": "stream",
     "text": [
      " AAIC-Win-V1.1.zip   Loka_Pavan_CV.docx\n",
      " Classroom\t     Nikhil.pdf\n",
      "'Colab Notebooks'    Reviews.csv\n",
      " database.sqlite     TR_OfferLetter.pdf\n",
      " FilteredData_250K   Video_20150103031442_by_videoshow.mp4\n",
      "'final 10.psd'\t    'WhatsApp Chat with Kavya aka )1.txt.pdf'\n"
     ]
    }
   ],
   "source": [
    "!ls 'gdrive/My Drive'"
   ]
  },
  {
   "cell_type": "code",
   "execution_count": 0,
   "metadata": {
    "colab": {},
    "colab_type": "code",
    "id": "liwrWXkwVT9e"
   },
   "outputs": [],
   "source": [
    "data = pd.read_csv(\"gdrive/My Drive/Reviews.csv\")"
   ]
  },
  {
   "cell_type": "code",
   "execution_count": 0,
   "metadata": {
    "colab": {},
    "colab_type": "code",
    "id": "K4DTN3SvanKq"
   },
   "outputs": [],
   "source": [
    "# Data Cleaning :Duplication\n",
    "\n",
    "sort_data = data.sort_values('ProductId',axis =0,ascending=True)\n",
    "\n",
    "filtered_data = sort_data.drop_duplicates(subset={\"UserId\",\"ProfileName\",\"Time\",\"Text\"},keep='first',inplace=False)\n",
    "\n",
    "final = filtered_data[filtered_data.HelpfulnessNumerator<=filtered_data.HelpfulnessDenominator]"
   ]
  },
  {
   "cell_type": "code",
   "execution_count": 8,
   "metadata": {
    "colab": {
     "base_uri": "https://localhost:8080/",
     "height": 118
    },
    "colab_type": "code",
    "id": "aY_WwBtcVUGW",
    "outputId": "69093044-1fa1-416a-dbb2-259365c350c8"
   },
   "outputs": [
    {
     "name": "stderr",
     "output_type": "stream",
     "text": [
      "/usr/local/lib/python3.6/dist-packages/ipykernel_launcher.py:9: SettingWithCopyWarning: \n",
      "A value is trying to be set on a copy of a slice from a DataFrame.\n",
      "Try using .loc[row_indexer,col_indexer] = value instead\n",
      "\n",
      "See the caveats in the documentation: http://pandas.pydata.org/pandas-docs/stable/indexing.html#indexing-view-versus-copy\n",
      "  if __name__ == '__main__':\n"
     ]
    }
   ],
   "source": [
    "def partition(x):\n",
    "    if x < 3:\n",
    "        return 'negative'\n",
    "    return 'positive'\n",
    "\n",
    "#changing reviews with score greater than 3 to be positive and vice-versa\n",
    "actualScore = final['Score']\n",
    "positiveNegative = actualScore.map(partition) \n",
    "final['Score'] = positiveNegative"
   ]
  },
  {
   "cell_type": "code",
   "execution_count": 9,
   "metadata": {
    "colab": {
     "base_uri": "https://localhost:8080/",
     "height": 410
    },
    "colab_type": "code",
    "id": "VxGw8gQAVUKw",
    "outputId": "e36d0b52-9e97-4ae9-eed6-216a07f17b7b"
   },
   "outputs": [
    {
     "name": "stderr",
     "output_type": "stream",
     "text": [
      "/usr/local/lib/python3.6/dist-packages/seaborn/categorical.py:1428: FutureWarning: remove_na is deprecated and is a private function. Do not use.\n",
      "  stat_data = remove_na(group_data)\n"
     ]
    },
    {
     "data": {
      "image/png": "[encoded data removed]",
      "text/plain": [
       "<Figure size 576x396 with 1 Axes>"
      ]
     },
     "metadata": {
      "tags": []
     },
     "output_type": "display_data"
    }
   ],
   "source": [
    "filtered_data_final = final.head(50000)\n",
    "ax = plt.axes()\n",
    "sns.countplot(filtered_data_final.Score,ax=ax)\n",
    "ax.set_title('Sentiment Positive vs Negative Distribution')\n",
    "plt.show()"
   ]
  },
  {
   "cell_type": "code",
   "execution_count": 0,
   "metadata": {
    "colab": {},
    "colab_type": "code",
    "id": "VeTFX5aeVUPA"
   },
   "outputs": [],
   "source": [
    "# Data Cleaning :Duplication\n",
    "\n",
    "sort_data = filtered_data_final.sort_values('ProductId',axis =0,ascending=True)\n",
    "\n",
    "final = sort_data.drop_duplicates(subset={\"UserId\",\"ProfileName\",\"Time\",\"Text\"},keep='first',inplace=False)\n",
    "\n",
    "final = final[final.HelpfulnessNumerator<=final.HelpfulnessDenominator]"
   ]
  },
  {
   "cell_type": "code",
   "execution_count": 11,
   "metadata": {
    "colab": {
     "base_uri": "https://localhost:8080/",
     "height": 140
    },
    "colab_type": "code",
    "id": "d3cJzjQiVUKJ",
    "outputId": "5bb34583-cb06-4650-8cf6-6517f997019b"
   },
   "outputs": [
    {
     "data": {
      "text/html": [
       "<div>\n",
       "<style scoped>\n",
       "    .dataframe tbody tr th:only-of-type {\n",
       "        vertical-align: middle;\n",
       "    }\n",
       "\n",
       "    .dataframe tbody tr th {\n",
       "        vertical-align: top;\n",
       "    }\n",
       "\n",
       "    .dataframe thead th {\n",
       "        text-align: right;\n",
       "    }\n",
       "</style>\n",
       "<table border=\"1\" class=\"dataframe\">\n",
       "  <thead>\n",
       "    <tr style=\"text-align: right;\">\n",
       "      <th></th>\n",
       "      <th>Id</th>\n",
       "      <th>ProductId</th>\n",
       "      <th>UserId</th>\n",
       "      <th>ProfileName</th>\n",
       "      <th>HelpfulnessNumerator</th>\n",
       "      <th>HelpfulnessDenominator</th>\n",
       "      <th>Score</th>\n",
       "      <th>Time</th>\n",
       "      <th>Summary</th>\n",
       "      <th>Text</th>\n",
       "    </tr>\n",
       "  </thead>\n",
       "  <tbody>\n",
       "    <tr>\n",
       "      <th>150528</th>\n",
       "      <td>150529</td>\n",
       "      <td>0006641040</td>\n",
       "      <td>A25ACLV5KPB4W</td>\n",
       "      <td>Matt Hetling \"Matt\"</td>\n",
       "      <td>0</td>\n",
       "      <td>1</td>\n",
       "      <td>positive</td>\n",
       "      <td>1108425600</td>\n",
       "      <td>Nice cadence, catchy rhymes</td>\n",
       "      <td>In June&lt;br /&gt;I saw a charming group&lt;br /&gt;of ro...</td>\n",
       "    </tr>\n",
       "    <tr>\n",
       "      <th>150525</th>\n",
       "      <td>150526</td>\n",
       "      <td>0006641040</td>\n",
       "      <td>A3E9QZFE9KXH8J</td>\n",
       "      <td>R. Mitchell</td>\n",
       "      <td>11</td>\n",
       "      <td>18</td>\n",
       "      <td>negative</td>\n",
       "      <td>1129507200</td>\n",
       "      <td>awesome book poor size</td>\n",
       "      <td>This is one of the best children's books ever ...</td>\n",
       "    </tr>\n",
       "  </tbody>\n",
       "</table>\n",
       "</div>"
      ],
      "text/plain": [
       "            Id   ProductId          UserId          ProfileName  \\\n",
       "150528  150529  0006641040   A25ACLV5KPB4W  Matt Hetling \"Matt\"   \n",
       "150525  150526  0006641040  A3E9QZFE9KXH8J          R. Mitchell   \n",
       "\n",
       "        HelpfulnessNumerator  HelpfulnessDenominator     Score        Time  \\\n",
       "150528                     0                       1  positive  1108425600   \n",
       "150525                    11                      18  negative  1129507200   \n",
       "\n",
       "                            Summary  \\\n",
       "150528  Nice cadence, catchy rhymes   \n",
       "150525       awesome book poor size   \n",
       "\n",
       "                                                     Text  \n",
       "150528  In June<br />I saw a charming group<br />of ro...  \n",
       "150525  This is one of the best children's books ever ...  "
      ]
     },
     "execution_count": 11,
     "metadata": {
      "tags": []
     },
     "output_type": "execute_result"
    }
   ],
   "source": [
    "final.head(2)"
   ]
  },
  {
   "cell_type": "code",
   "execution_count": 0,
   "metadata": {
    "colab": {},
    "colab_type": "code",
    "id": "nqkUZMwoVUFx"
   },
   "outputs": [],
   "source": [
    "reviews = final.Text.values\n",
    "labels = np.array([1 if s==\"positive\" else 0 for s in final.Score.values])"
   ]
  },
  {
   "cell_type": "code",
   "execution_count": 0,
   "metadata": {
    "colab": {},
    "colab_type": "code",
    "id": "MgSdNRySVUBP"
   },
   "outputs": [],
   "source": [
    "#removing the punctuations from reviews\n",
    "\n",
    "from string import punctuation\n",
    "reviews_cleaned = []\n",
    "for i in range(len(reviews)):\n",
    "    reviews_cleaned.append(''.join([c.lower() for c in reviews[i] if c not in punctuation]))"
   ]
  },
  {
   "cell_type": "code",
   "execution_count": 14,
   "metadata": {
    "colab": {
     "base_uri": "https://localhost:8080/",
     "height": 34
    },
    "colab_type": "code",
    "id": "ASkZi3soVT84",
    "outputId": "13de150d-d995-4c07-d9be-c4df231ccb79"
   },
   "outputs": [
    {
     "name": "stdout",
     "output_type": "stream",
     "text": [
      "Vocabulary size:  70131\n"
     ]
    }
   ],
   "source": [
    "#creating a corpus of words in our reviews\n",
    "\n",
    "vocabulary = set(' '.join(reviews_cleaned).split())\n",
    "print(\"Vocabulary size: \", len(vocabulary))"
   ]
  },
  {
   "cell_type": "code",
   "execution_count": 0,
   "metadata": {
    "colab": {},
    "colab_type": "code",
    "id": "kAuxip7rcvKs"
   },
   "outputs": [],
   "source": [
    "#calculating the frequency of each word in the reviews\n",
    "from collections import Counter\n",
    "tot_count = Counter()\n",
    "\n",
    "for i in range(len(reviews)):\n",
    "   for word in reviews[i].split():\n",
    "        tot_count[word]+=1"
   ]
  },
  {
   "cell_type": "code",
   "execution_count": 0,
   "metadata": {
    "colab": {},
    "colab_type": "code",
    "id": "zNR2U9Vul72I"
   },
   "outputs": [],
   "source": [
    "total_count = tot_count.most_common()"
   ]
  },
  {
   "cell_type": "code",
   "execution_count": 0,
   "metadata": {
    "colab": {},
    "colab_type": "code",
    "id": "Q2ESdSWadPFW"
   },
   "outputs": [],
   "source": [
    "#picking up the top 5000 frequent words\n",
    "vocab_freq = []\n",
    "count = 1\n",
    "for word in total_count:\n",
    "    vocab_freq.append(word[0])\n",
    "    count = count+1\n",
    "    if count == 20000:\n",
    "      break"
   ]
  },
  {
   "cell_type": "code",
   "execution_count": 0,
   "metadata": {
    "colab": {},
    "colab_type": "code",
    "id": "xIrhmnuRfAjq"
   },
   "outputs": [],
   "source": [
    "reviews_cleaned = []\n",
    "    \n",
    "for review in reviews:\n",
    "    review_temp = [word for word in review.split() if word in vocab_freq]\n",
    "    reviews_cleaned.append(' '.join(review_temp))"
   ]
  },
  {
   "cell_type": "code",
   "execution_count": 19,
   "metadata": {
    "colab": {
     "base_uri": "https://localhost:8080/",
     "height": 34
    },
    "colab_type": "code",
    "id": "YT4U0C94fOZ3",
    "outputId": "26b09c21-2245-401b-aa2d-ac54e9ecc918"
   },
   "outputs": [
    {
     "data": {
      "text/plain": [
       "50000"
      ]
     },
     "execution_count": 19,
     "metadata": {
      "tags": []
     },
     "output_type": "execute_result"
    }
   ],
   "source": [
    "len(reviews_cleaned)"
   ]
  },
  {
   "cell_type": "code",
   "execution_count": 0,
   "metadata": {
    "colab": {},
    "colab_type": "code",
    "id": "jNzLYfJRdkaG"
   },
   "outputs": [],
   "source": [
    "# Store all the text from each review in a text variable\n",
    "text = ' '.join(reviews_cleaned)\n",
    "\n",
    "# List all the vocabulary contained in the reviews\n",
    "vocabulary = set(text.split(' '))\n",
    "\n",
    "# Map each word to an integer\n",
    "vocabulary_to_int = {word:i for i,word in enumerate(vocabulary,0)}"
   ]
  },
  {
   "cell_type": "code",
   "execution_count": 0,
   "metadata": {
    "colab": {},
    "colab_type": "code",
    "id": "6gcINgutVT4a"
   },
   "outputs": [],
   "source": [
    "#converting each word into a unique number\n",
    "reviews_to_int = []\n",
    "for i in range(len(reviews)):\n",
    "    to_int = [vocabulary_to_int[word] for word in reviews_cleaned[i].split()]\n",
    "    reviews_to_int.append(to_int)"
   ]
  },
  {
   "cell_type": "code",
   "execution_count": 22,
   "metadata": {
    "colab": {
     "base_uri": "https://localhost:8080/",
     "height": 50
    },
    "colab_type": "code",
    "id": "q8nfmW5rFWjN",
    "outputId": "d9897f4e-f785-40fb-96e3-5097e7999dfc"
   },
   "outputs": [
    {
     "name": "stdout",
     "output_type": "stream",
     "text": [
      "Shortest review: 1\n",
      "Longest revies: 1699\n"
     ]
    }
   ],
   "source": [
    "review_lengths = [len(review) for review in reviews_to_int]\n",
    "print(\"Shortest review:\", min(review_lengths))\n",
    "print(\"Longest revies:\",max(review_lengths))"
   ]
  },
  {
   "cell_type": "code",
   "execution_count": 0,
   "metadata": {
    "colab": {},
    "colab_type": "code",
    "id": "jIyiP36Fe3U6"
   },
   "outputs": [],
   "source": [
    "from keras.preprocessing import sequence\n",
    "# truncate and/or pad input sequences\n",
    "max_review_length = 500\n",
    "X = sequence.pad_sequences(reviews_to_int, maxlen=max_review_length)"
   ]
  },
  {
   "cell_type": "code",
   "execution_count": 0,
   "metadata": {
    "colab": {},
    "colab_type": "code",
    "id": "f-taFzTte3aI"
   },
   "outputs": [],
   "source": [
    "from sklearn import model_selection\n",
    "# split the data set into train and test\n",
    "X_train, X_test, y_train, y_test = model_selection.train_test_split(X, labels, test_size=0.3, random_state=0)"
   ]
  },
  {
   "cell_type": "code",
   "execution_count": 25,
   "metadata": {
    "colab": {
     "base_uri": "https://localhost:8080/",
     "height": 739
    },
    "colab_type": "code",
    "id": "ZuUVOedee3mJ",
    "outputId": "5de76c1a-67c9-4a73-9f45-1c2e4e5176ef"
   },
   "outputs": [
    {
     "name": "stdout",
     "output_type": "stream",
     "text": [
      "(35000, 500)\n",
      "[    0     0     0     0     0     0     0     0     0     0     0     0\n",
      "     0     0     0     0     0     0     0     0     0     0     0     0\n",
      "     0     0     0     0     0     0     0     0     0     0     0     0\n",
      "     0     0     0     0     0     0     0     0     0     0     0     0\n",
      "     0     0     0     0     0     0     0     0     0     0     0     0\n",
      "     0     0     0     0     0     0     0     0     0     0     0     0\n",
      "     0     0     0     0     0     0     0     0     0     0     0     0\n",
      "     0     0     0     0     0     0     0     0     0     0     0     0\n",
      "     0     0     0     0     0     0     0     0     0     0     0     0\n",
      "     0     0     0     0     0     0     0     0     0     0     0     0\n",
      "     0     0     0     0     0     0     0     0     0     0     0     0\n",
      "     0     0     0     0     0     0     0     0     0     0     0     0\n",
      "     0     0     0     0     0     0     0     0     0     0     0     0\n",
      "     0     0     0     0     0     0     0     0     0     0     0     0\n",
      "     0     0     0     0     0     0     0     0     0     0     0     0\n",
      "     0     0     0     0     0     0     0     0     0     0     0     0\n",
      "     0     0     0     0     0     0     0     0     0     0     0     0\n",
      "     0     0     0     0     0     0     0     0     0     0     0     0\n",
      "     0     0     0     0     0     0     0     0     0     0     0     0\n",
      "     0     0     0     0     0     0     0     0     0     0     0     0\n",
      "     0     0     0     0     0     0     0     0     0     0     0     0\n",
      "     0     0     0     0     0     0     0     0     0     0     0     0\n",
      "     0     0     0     0     0     0     0     0     0     0     0     0\n",
      "     0     0     0     0     0     0     0     0     0     0     0     0\n",
      "     0     0     0     0     0     0     0     0     0     0     0     0\n",
      "     0     0     0     0     0     0     0     0     0     0     0     0\n",
      "     0     0     0     0     0     0     0     0     0     0     0     0\n",
      "     0     0     0     0     0     0     0     0     0     0     0     0\n",
      "     0     0     0     0     0     0     0     0     0     0     0     0\n",
      "     0     0     0     0     0     0     0     0     0     0     0     0\n",
      "     0     0     0     0     0     0     0     0     0     0     0     0\n",
      "     0     0     0     0     0     0     0     0     0     0     0     0\n",
      "     0     0     0     0     0     0     0     0     0     0     0     0\n",
      "     0     0     0     0     0     0     0     0     0     0     0     0\n",
      "     0     0     0     0     0     0     0     0     0     0     0     0\n",
      "     0     0     0     0     0     0     0     0     0     0     0     0\n",
      "     0     0     0     0     0     0     0     0     0     0     0     0\n",
      "     0     0     0     0     0     0     0     0     0     0     0     0\n",
      "     0     0     0     0     0     0     0     0     0     0     0     0\n",
      "  6632  1089 15188 16864  8816 17938 15160 11935 19417 12721  1988  5167\n",
      "   485 11233  6632  1089 10936  1322  8816 12539 19548  5167 13543 11681\n",
      "  6632  9567  9003  6701 11271  3505   364 17609]\n"
     ]
    }
   ],
   "source": [
    "print(X_train.shape)\n",
    "print(X_train[1])"
   ]
  },
  {
   "cell_type": "code",
   "execution_count": 26,
   "metadata": {
    "colab": {
     "base_uri": "https://localhost:8080/",
     "height": 322
    },
    "colab_type": "code",
    "id": "lMiOSLbke3qT",
    "outputId": "69d273af-7395-48b6-e90b-245d9c04a1dd"
   },
   "outputs": [
    {
     "name": "stdout",
     "output_type": "stream",
     "text": [
      "WARNING:tensorflow:From /usr/local/lib/python3.6/dist-packages/tensorflow/python/framework/op_def_library.py:263: colocate_with (from tensorflow.python.framework.ops) is deprecated and will be removed in a future version.\n",
      "Instructions for updating:\n",
      "Colocations handled automatically by placer.\n",
      "_________________________________________________________________\n",
      "Layer (type)                 Output Shape              Param #   \n",
      "=================================================================\n",
      "embedding_1 (Embedding)      (None, 500, 32)           640000    \n",
      "_________________________________________________________________\n",
      "lstm_1 (LSTM)                (None, 50)                16600     \n",
      "_________________________________________________________________\n",
      "dense_1 (Dense)              (None, 1)                 51        \n",
      "=================================================================\n",
      "Total params: 656,651\n",
      "Trainable params: 656,651\n",
      "Non-trainable params: 0\n",
      "_________________________________________________________________\n",
      "None\n"
     ]
    }
   ],
   "source": [
    "from keras.models import Sequential\n",
    "from keras.layers import Dense\n",
    "from keras.layers import LSTM\n",
    "from keras.layers.embeddings import Embedding\n",
    "# create the model\n",
    "embedding_vecor_length = 32\n",
    "model = Sequential()\n",
    "model.add(Embedding(20000,embedding_vecor_length, input_length=max_review_length))\n",
    "model.add(LSTM(50))\n",
    "model.add(Dense(1, activation='sigmoid'))\n",
    "model.compile(loss='binary_crossentropy', optimizer='adam', metrics=['accuracy'])\n",
    "print(model.summary())\n",
    "#Refer: https://datascience.stackexchange.com/questions/10615/number-of-parameters-in-an-lstm-model"
   ]
  },
  {
   "cell_type": "code",
   "execution_count": 27,
   "metadata": {
    "colab": {
     "base_uri": "https://localhost:8080/",
     "height": 440
    },
    "colab_type": "code",
    "id": "QR3vRhGzt-Ej",
    "outputId": "5313c512-41fa-4e2d-902d-450dba50d13d"
   },
   "outputs": [
    {
     "name": "stdout",
     "output_type": "stream",
     "text": [
      "WARNING:tensorflow:From /usr/local/lib/python3.6/dist-packages/tensorflow/python/ops/math_ops.py:3066: to_int32 (from tensorflow.python.ops.math_ops) is deprecated and will be removed in a future version.\n",
      "Instructions for updating:\n",
      "Use tf.cast instead.\n",
      "Train on 35000 samples, validate on 15000 samples\n",
      "Epoch 1/10\n",
      "35000/35000 [==============================] - 148s 4ms/step - loss: 0.5197 - acc: 0.8471 - val_loss: 0.4053 - val_acc: 0.8597\n",
      "Epoch 2/10\n",
      "35000/35000 [==============================] - 145s 4ms/step - loss: 0.3861 - acc: 0.8590 - val_loss: 0.3692 - val_acc: 0.8597\n",
      "Epoch 3/10\n",
      "35000/35000 [==============================] - 145s 4ms/step - loss: 0.3108 - acc: 0.8657 - val_loss: 0.2775 - val_acc: 0.8819\n",
      "Epoch 4/10\n",
      "35000/35000 [==============================] - 145s 4ms/step - loss: 0.2219 - acc: 0.9088 - val_loss: 0.2633 - val_acc: 0.8904\n",
      "Epoch 5/10\n",
      "35000/35000 [==============================] - 145s 4ms/step - loss: 0.1752 - acc: 0.9312 - val_loss: 0.2686 - val_acc: 0.8942\n",
      "Epoch 6/10\n",
      "35000/35000 [==============================] - 146s 4ms/step - loss: 0.1393 - acc: 0.9472 - val_loss: 0.2788 - val_acc: 0.8880\n",
      "Epoch 7/10\n",
      "35000/35000 [==============================] - 147s 4ms/step - loss: 0.1116 - acc: 0.9591 - val_loss: 0.2977 - val_acc: 0.8904\n",
      "Epoch 8/10\n",
      "35000/35000 [==============================] - 147s 4ms/step - loss: 0.0906 - acc: 0.9694 - val_loss: 0.3325 - val_acc: 0.8887\n",
      "Epoch 9/10\n",
      "35000/35000 [==============================] - 147s 4ms/step - loss: 0.0722 - acc: 0.9768 - val_loss: 0.3587 - val_acc: 0.8871\n",
      "Epoch 10/10\n",
      "35000/35000 [==============================] - 147s 4ms/step - loss: 0.0572 - acc: 0.9828 - val_loss: 0.3969 - val_acc: 0.8837\n"
     ]
    }
   ],
   "source": [
    "history = model.fit(X_train, y_train,\n",
    "          batch_size= 1000,\n",
    "          epochs= 10,\n",
    "          verbose=1,\n",
    "          validation_data=(X_test, y_test))"
   ]
  },
  {
   "cell_type": "code",
   "execution_count": 28,
   "metadata": {
    "colab": {
     "base_uri": "https://localhost:8080/",
     "height": 50
    },
    "colab_type": "code",
    "id": "wJSYza9kEavL",
    "outputId": "6cdad69e-97b6-41c9-e841-1f81a1d0aba8"
   },
   "outputs": [
    {
     "name": "stdout",
     "output_type": "stream",
     "text": [
      "Test loss: 0.3969071713050206\n",
      "Test accuracy: 0.8837333333015442\n"
     ]
    }
   ],
   "source": [
    "score = model.evaluate(X_test, y_test, verbose=0)\n",
    "print('Test loss:', score[0])\n",
    "print('Test accuracy:', score[1])"
   ]
  },
  {
   "cell_type": "code",
   "execution_count": 29,
   "metadata": {
    "colab": {
     "base_uri": "https://localhost:8080/",
     "height": 347
    },
    "colab_type": "code",
    "id": "Pn1Jh5GXe3UF",
    "outputId": "f60c2467-fc9a-462e-f8ce-3634f884da85"
   },
   "outputs": [
    {
     "data": {
      "image/png": "[encoded data removed]",
      "text/plain": [
       "<Figure size 576x396 with 1 Axes>"
      ]
     },
     "metadata": {
      "tags": []
     },
     "output_type": "display_data"
    }
   ],
   "source": [
    "import matplotlib.pyplot as plt\n",
    "\n",
    "x = list(range(1,11))\n",
    "vy = history.history['val_loss']\n",
    "ty = history.history['loss']\n",
    "plt.plot(x, vy, 'b', label=\"Validation Loss\")\n",
    "plt.plot(x, ty, 'r', label=\"Train Loss\")\n",
    "plt.legend()\n",
    "plt.grid()\n",
    "plt.show()"
   ]
  },
  {
   "cell_type": "code",
   "execution_count": 32,
   "metadata": {
    "colab": {
     "base_uri": "https://localhost:8080/",
     "height": 319
    },
    "colab_type": "code",
    "id": "D_CJmsF0v5Lx",
    "outputId": "11c61440-f6c4-4a1f-f7c2-34e6e098b699"
   },
   "outputs": [
    {
     "name": "stdout",
     "output_type": "stream",
     "text": [
      "_________________________________________________________________\n",
      "Layer (type)                 Output Shape              Param #   \n",
      "=================================================================\n",
      "embedding_4 (Embedding)      (None, 500, 32)           640000    \n",
      "_________________________________________________________________\n",
      "lstm_5 (LSTM)                (None, 500, 32)           8320      \n",
      "_________________________________________________________________\n",
      "dropout_2 (Dropout)          (None, 500, 32)           0         \n",
      "_________________________________________________________________\n",
      "lstm_6 (LSTM)                (None, 32)                8320      \n",
      "_________________________________________________________________\n",
      "dense_2 (Dense)              (None, 1)                 33        \n",
      "=================================================================\n",
      "Total params: 656,673\n",
      "Trainable params: 656,673\n",
      "Non-trainable params: 0\n",
      "_________________________________________________________________\n",
      "None\n"
     ]
    }
   ],
   "source": [
    "from keras.layers import Dropout\n",
    "# create the model\n",
    "embedding_vecor_length = 32\n",
    "model = Sequential()\n",
    "model.add(Embedding(20000,embedding_vecor_length, input_length=max_review_length))\n",
    "model.add(LSTM(32,return_sequences=True))\n",
    "model.add(Dropout(0.2))\n",
    "model.add(LSTM(32))\n",
    "model.add(Dense(1, activation='sigmoid'))\n",
    "model.compile(loss='binary_crossentropy', optimizer='adam', metrics=['accuracy'])\n",
    "print(model.summary())\n",
    "#Refer: https://datascience.stackexchange.com/questions/10615/number-of-parameters-in-an-lstm-model"
   ]
  },
  {
   "cell_type": "code",
   "execution_count": 33,
   "metadata": {
    "colab": {
     "base_uri": "https://localhost:8080/",
     "height": 403
    },
    "colab_type": "code",
    "id": "7j6HtMN8v5WY",
    "outputId": "99bbe613-0366-486c-cc13-cc7f43dd8585"
   },
   "outputs": [
    {
     "name": "stdout",
     "output_type": "stream",
     "text": [
      "Train on 35000 samples, validate on 15000 samples\n",
      "Epoch 1/10\n",
      "35000/35000 [==============================] - 193s 6ms/step - loss: 0.5175 - acc: 0.8483 - val_loss: 0.4036 - val_acc: 0.8597\n",
      "Epoch 2/10\n",
      "35000/35000 [==============================] - 191s 5ms/step - loss: 0.3967 - acc: 0.8590 - val_loss: 0.3841 - val_acc: 0.8597\n",
      "Epoch 3/10\n",
      "35000/35000 [==============================] - 192s 5ms/step - loss: 0.3163 - acc: 0.8712 - val_loss: 0.2870 - val_acc: 0.8851\n",
      "Epoch 4/10\n",
      "35000/35000 [==============================] - 190s 5ms/step - loss: 0.2139 - acc: 0.9134 - val_loss: 0.2695 - val_acc: 0.8900\n",
      "Epoch 5/10\n",
      "35000/35000 [==============================] - 191s 5ms/step - loss: 0.1602 - acc: 0.9376 - val_loss: 0.2729 - val_acc: 0.8907\n",
      "Epoch 6/10\n",
      "35000/35000 [==============================] - 190s 5ms/step - loss: 0.1254 - acc: 0.9545 - val_loss: 0.3078 - val_acc: 0.8904\n",
      "Epoch 7/10\n",
      "35000/35000 [==============================] - 190s 5ms/step - loss: 0.0979 - acc: 0.9673 - val_loss: 0.3617 - val_acc: 0.8909\n",
      "Epoch 8/10\n",
      "35000/35000 [==============================] - 192s 5ms/step - loss: 0.0771 - acc: 0.9761 - val_loss: 0.3801 - val_acc: 0.8838\n",
      "Epoch 9/10\n",
      "35000/35000 [==============================] - 189s 5ms/step - loss: 0.0604 - acc: 0.9834 - val_loss: 0.4194 - val_acc: 0.8843\n",
      "Epoch 10/10\n",
      "35000/35000 [==============================] - 189s 5ms/step - loss: 0.0494 - acc: 0.9866 - val_loss: 0.4490 - val_acc: 0.8799\n",
      "Test loss: 0.44899171526034676\n",
      "Test accuracy: 0.8798666666666667\n"
     ]
    }
   ],
   "source": [
    "history = model.fit(X_train, y_train,\n",
    "          batch_size= 1000,\n",
    "          epochs= 10,\n",
    "          verbose=1,\n",
    "          validation_data=(X_test, y_test))\n",
    "score = model.evaluate(X_test, y_test, verbose=0)\n",
    "print('Test loss:', score[0])\n",
    "print('Test accuracy:', score[1])"
   ]
  },
  {
   "cell_type": "code",
   "execution_count": 34,
   "metadata": {
    "colab": {
     "base_uri": "https://localhost:8080/",
     "height": 347
    },
    "colab_type": "code",
    "id": "ClgB-h4ev5gV",
    "outputId": "bc91fc4c-1f11-4dab-e433-dc9f8abaca24"
   },
   "outputs": [
    {
     "data": {
      "image/png": "[encoded data removed]",
      "text/plain": [
       "<Figure size 576x396 with 1 Axes>"
      ]
     },
     "metadata": {
      "tags": []
     },
     "output_type": "display_data"
    }
   ],
   "source": [
    "x = list(range(1,11))\n",
    "vy = history.history['val_loss']\n",
    "ty = history.history['loss']\n",
    "plt.plot(x, vy, 'b', label=\"Validation Loss\")\n",
    "plt.plot(x, ty, 'r', label=\"Train Loss\")\n",
    "plt.legend()\n",
    "plt.grid()\n",
    "plt.show()"
   ]
  },
  {
   "cell_type": "code",
   "execution_count": 0,
   "metadata": {
    "colab": {},
    "colab_type": "code",
    "id": "yT2CeUdjA6d6"
   },
   "outputs": [],
   "source": [
    "from prettytable import PrettyTable\n",
    "plot = PrettyTable()\n",
    "\n",
    "plot.field_names = [\"LSTM layers\", \"DropOuts\",\"Train Accuracy\",\"Test accuracy\"]"
   ]
  },
  {
   "cell_type": "code",
   "execution_count": 0,
   "metadata": {
    "colab": {},
    "colab_type": "code",
    "id": "naqqG8RzA7Ac"
   },
   "outputs": [],
   "source": [
    "plot.add_row([\"1\", \"No\",0.9828,0.883733])\n",
    "plot.add_row([\"2\", \"Yes\",0.9866 ,0.87986])"
   ]
  },
  {
   "cell_type": "code",
   "execution_count": 37,
   "metadata": {
    "colab": {
     "base_uri": "https://localhost:8080/",
     "height": 118
    },
    "colab_type": "code",
    "id": "0BmNwmS2A7MX",
    "outputId": "2ca7de9e-7695-4748-bb88-6b6d8191cac0"
   },
   "outputs": [
    {
     "name": "stdout",
     "output_type": "stream",
     "text": [
      "+-------------+----------+----------------+---------------+\n",
      "| LSTM layers | DropOuts | Train Accuracy | Test accuracy |\n",
      "+-------------+----------+----------------+---------------+\n",
      "|      1      |    No    |     0.9828     |    0.883733   |\n",
      "|      2      |   Yes    |     0.9866     |    0.87986    |\n",
      "+-------------+----------+----------------+---------------+\n"
     ]
    }
   ],
   "source": [
    "print(plot)"
   ]
  }
 ],
 "metadata": {
  "colab": {
   "collapsed_sections": [],
   "name": "Untitled2.ipynb",
   "provenance": [],
   "version": "0.3.2"
  },
  "kernelspec": {
   "display_name": "Python 3",
   "language": "python",
   "name": "python3"
  },
  "language_info": {
   "codemirror_mode": {
    "name": "ipython",
    "version": 3
   },
   "file_extension": ".py",
   "mimetype": "text/x-python",
   "name": "python",
   "nbconvert_exporter": "python",
   "pygments_lexer": "ipython3",
   "version": "3.6.5"
  }
 },
 "nbformat": 4,
 "nbformat_minor": 1
}
