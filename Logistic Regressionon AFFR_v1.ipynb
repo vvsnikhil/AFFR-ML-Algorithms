{
 "cells": [
  {
   "cell_type": "markdown",
   "metadata": {},
   "source": [
    "# Amazon Fine Food Reviews Analysis\n",
    "The Amazon Fine Food Reviews dataset consists of reviews of fine foods from Amazon.\n",
    "\n",
    " Number of reviews: 568,454                                                                                                     \n",
    " Number of users: 256,059                                                                                                       \n",
    " Number of products: 74,258                                                                                                                                                                                                             \n",
    " Number of Attributes/Columns in data: 10\n",
    " \n",
    " Attributes:\n",
    "1. IdRow Id\n",
    "2. ProductIdUnique identifier for the product\n",
    "3. UserIdUnqiue identifier for the user\n",
    "4. ProfileNameProfile name of the user\n",
    "5. HelpfulnessNumeratorNumber of users who found the review helpful\n",
    "6. HelpfulnessDenominatorNumber of users who indicated whether they found the review helpful\n",
    "7. ScoreRating between 1 and 5\n",
    "8. TimeTimestamp for the review\n",
    "9. SummaryBrief summary of the review\n",
    "10. TextText of the review"
   ]
  },
  {
   "cell_type": "code",
   "execution_count": 123,
   "metadata": {},
   "outputs": [],
   "source": [
    "import warnings\n",
    "warnings.filterwarnings(\"ignore\")"
   ]
  },
  {
   "cell_type": "code",
   "execution_count": 124,
   "metadata": {},
   "outputs": [],
   "source": [
    "# import packages\n",
    "import pandas as pd\n",
    "import numpy as np\n",
    "import matplotlib.pyplot as plt\n",
    "import seaborn as sns\n",
    "import string\n",
    "import sqlite3\n",
    "import re\n",
    "import nltk\n",
    "from nltk.corpus import stopwords\n",
    "from nltk.stem import PorterStemmer\n",
    "from nltk.stem import SnowballStemmer\n",
    "from nltk.stem.wordnet import WordNetLemmatizer\n",
    "from sklearn.neighbors import KNeighborsClassifier\n",
    "from sklearn.metrics import accuracy_score,precision_score,recall_score,confusion_matrix,classification_report,f1_score\n",
    "from sklearn.decomposition import TruncatedSVD\n",
    "from sklearn import cross_validation\n",
    "from sklearn.cross_validation import cross_val_score\n",
    "from sklearn.feature_extraction.text import CountVectorizer\n",
    "from sklearn.feature_extraction.text import TfidfVectorizer\n",
    "import gensim\n",
    "import pickle"
   ]
  },
  {
   "cell_type": "code",
   "execution_count": 125,
   "metadata": {},
   "outputs": [],
   "source": [
    "# Loading 250 pts obtained after data preprocessing and sorting \n",
    "\n",
    "with open('C:/Users/U6069188/Python Projects/Pickle/FilteredData_250K','rb') as f:\n",
    "    FilteredData = pickle.load(f)"
   ]
  },
  {
   "cell_type": "code",
   "execution_count": 126,
   "metadata": {},
   "outputs": [
    {
     "data": {
      "text/plain": [
       "positive    212075\n",
       "negative     37925\n",
       "Name: Score, dtype: int64"
      ]
     },
     "execution_count": 126,
     "metadata": {},
     "output_type": "execute_result"
    }
   ],
   "source": [
    "#FilteredData = FilteredData.head(1000)\n",
    "\n",
    "FilteredData[\"Score\"].value_counts()"
   ]
  },
  {
   "cell_type": "code",
   "execution_count": 127,
   "metadata": {},
   "outputs": [
    {
     "data": {
      "text/plain": [
       "(250000,)"
      ]
     },
     "execution_count": 127,
     "metadata": {},
     "output_type": "execute_result"
    }
   ],
   "source": [
    "X = FilteredData[\"CleanedText\"]\n",
    "X.shape"
   ]
  },
  {
   "cell_type": "code",
   "execution_count": 128,
   "metadata": {},
   "outputs": [
    {
     "data": {
      "text/plain": [
       "(250000,)"
      ]
     },
     "execution_count": 128,
     "metadata": {},
     "output_type": "execute_result"
    }
   ],
   "source": [
    "y_dict = {'positive':1,'negative':-1}\n",
    "y = FilteredData['Score'].map(y_dict)\n",
    "\n",
    "y.shape"
   ]
  },
  {
   "cell_type": "code",
   "execution_count": 129,
   "metadata": {},
   "outputs": [],
   "source": [
    "X_train, X_test, y_train, y_test = cross_validation.train_test_split(X, y, train_size=.7)"
   ]
  },
  {
   "cell_type": "code",
   "execution_count": 130,
   "metadata": {},
   "outputs": [],
   "source": [
    "from sklearn.grid_search import GridSearchCV\n",
    "from sklearn.datasets import *\n",
    "from sklearn.linear_model import LogisticRegression\n",
    "from scipy.stats import uniform\n",
    "from sklearn.model_selection import RandomizedSearchCV\n",
    "from sklearn.metrics import accuracy_score,precision_score,recall_score,confusion_matrix,classification_report,f1_score\n",
    "\n",
    "def Run_CV_l2(X_train, y_train,X_test,y_test):\n",
    "    \n",
    "    tuned_parameters = [{'C': [10**-4, 10**-2, 10**0, 10**2, 10**4]}]\n",
    "    model_grid = GridSearchCV(LogisticRegression(), tuned_parameters, scoring = 'f1', cv=5)\n",
    "    model_grid.fit(X_train, y_train)\n",
    "    \n",
    "    print(model_grid.best_estimator_)\n",
    "    \n",
    "    optimalc_grid = list(model_grid.best_estimator_.get_params().items())[0]\n",
    "    print('optimal C value using GridSearchCV',optimalc_grid)\n",
    "    \n",
    "    print('*'*120)\n",
    "    \n",
    "    param_grid = {'C':uniform().rvs(size=10)}\n",
    "    model_rand = RandomizedSearchCV(LogisticRegression(),param_distributions=param_grid,scoring = 'f1', cv=5)\n",
    "    model_rand.fit(X_train, y_train)\n",
    "    \n",
    "    print(model_rand.best_estimator_)\n",
    "    optimalc_rand = list(model_rand.best_estimator_.get_params().items())[0]\n",
    "\n",
    "    print('optimal C value using RandomizedSearchCV',optimalc_rand)\n",
    "    return optimalc_grid,optimalc_rand,model_grid\n",
    "\n",
    "\n",
    "def Run_CV_l1(X_train, y_train,X_test,y_test):\n",
    "    \n",
    "    C = [10**-4, 10**-2, 10**0, 10**2, 10**4]\n",
    "    \n",
    "    penalty = ['l1']\n",
    "    hyperparameters = dict(C=C, penalty=penalty)\n",
    "    \n",
    "    model_grid = GridSearchCV(LogisticRegression(), hyperparameters, scoring = 'f1', cv=5)\n",
    "    model_grid.fit(X_train, y_train)\n",
    "    \n",
    "    print(model_grid.best_estimator_)\n",
    "    \n",
    "    optimalc_grid = list(model_grid.best_estimator_.get_params().items())[0]\n",
    "    print('optimal C value using GridSearchCV',optimalc_grid)\n",
    "    \n",
    "    print('*'*120)\n",
    "    \n",
    "    C = uniform().rvs(size=10)\n",
    "    hyperparameters = dict(C=C, penalty=penalty)\n",
    "    model_rand = RandomizedSearchCV(LogisticRegression(),param_distributions=hyperparameters,scoring = 'f1', cv=5)\n",
    "    model_rand.fit(X_train, y_train)\n",
    "    \n",
    "    print(model_rand.best_estimator_)\n",
    "    optimalc_rand = list(model_rand.best_estimator_.get_params().items())[0]\n",
    "\n",
    "    print('optimal C value using RandomizedSearchCV',optimalc_rand)\n",
    "    return optimalc_grid,optimalc_rand,model_grid\n",
    "    \n",
    "\n",
    "def Run_LogisticReg(X_train, y_train,X_test,y_test,optimalc,regularizer):\n",
    "    \n",
    "    model = LogisticRegression(C=optimalc,penalty = regularizer);\n",
    "    \n",
    "    model.fit(X_train, y_train)\n",
    "    pred = model.predict(X_test)\n",
    "    \n",
    "    #Accuracy on train data\n",
    "    train_acc = model.score(X_train, y_train)\n",
    "    train_err = 1-train_acc\n",
    "        \n",
    "    #Accuracy on test data\n",
    "    test_acc = accuracy_score(y_test, pred)*100\n",
    "    test_err = 1- test_acc\n",
    "        \n",
    "    print('*'*120)\n",
    "    print('Optimal C is' ,optimalc)\n",
    "    print('Accuracy for LogisticReg algorithm with lambda  is ' ,np.round((accuracy_score(y_test, pred)*100),decimals = 2))\n",
    "    print('F1 score for LogisticReg algorithm with lambda  is ' , np.round((f1_score(y_test, pred,average= 'macro')*100),decimals = 2))\n",
    "    print('Recall for LogisticReg agorithm with lambda is ' , np.round((recall_score(y_test, pred,average= 'macro')*100),decimals = 2))\n",
    "    print('Precision for LogisticReg algorithm with lambda is ' , np.round((precision_score(y_test, pred,average= 'macro')*100),decimals = 2))\n",
    "    print ('\\n Classification report for LogisticReg algorithm with lambda is \\n ' , classification_report(y_test,pred))\n",
    "    \n",
    "    cm= confusion_matrix(y_test, pred)\n",
    "    class_label = [\"negative\", \"positive\"]\n",
    "    df_cm = pd.DataFrame(cm, index = class_label, columns = class_label)\n",
    "    sns.heatmap(df_cm, annot = True, fmt = \"d\")\n",
    "    plt.title(\"Confusion Matrix\")\n",
    "    plt.xlabel(\"Predicted Label\")\n",
    "    plt.ylabel(\"True Label\")\n",
    "    plt.show()\n",
    "    \n",
    "    return train_err,test_err\n",
    "    \n",
    "def Run_L1RegTest(X_train, y_train,X_test,y_test,optimalc,regularizer='l1'):\n",
    "    c = optimalc\n",
    "    i = 1;\n",
    "    while i<=5:\n",
    "        model = LogisticRegression(C=c, penalty= regularizer);\n",
    "        model.fit(X_train, y_train)\n",
    "        pred = model.predict(X_test)\n",
    "        w = model.coef_\n",
    "        print('Sparcity of weigt vector is',np.count_nonzero(w))\n",
    "        print('Error when C =',c,' is ', 100 - np.round((accuracy_score(y_test, pred)*100),decimals = 2))\n",
    "        i+=1\n",
    "        c = c/10\n",
    "\n",
    "\n",
    "\n",
    "def FeatureImp(X_train,y_train,model,vectorizer):\n",
    "    w = model.best_estimator_.coef_\n",
    "    \n",
    "    B = vectorizer.get_feature_names()\n",
    "    \n",
    "    data_df = {'features': B, 'weightvec': list(w)[0]}\n",
    "    \n",
    "    df = pd.DataFrame(data = data_df)\n",
    "    data_nonzero = df[df['weightvec'] != 0]\n",
    "    \n",
    "    print(data_nonzero.sort_values('weightvec',ascending = False).head(10))\n",
    "    \n",
    "\n",
    "def percentage(x):\n",
    "    if(x>0):\n",
    "        x = x*100\n",
    "    else:\n",
    "        x = -x*100\n",
    "    return x\n",
    "\n",
    "def TestCollinear(X_train,y_train,model,features):\n",
    "    epsilon = np.random.normal(loc=0.0, scale=0.0000000001)\n",
    "    \n",
    "    X_train.data = X_train.data + epsilon\n",
    "    \n",
    "    C = [10**-4, 10**-2, 10**0, 10**2, 10**4]\n",
    "    penalty = ['l1']\n",
    "\n",
    "    hyperparameters = dict(C=C, penalty=penalty)\n",
    "    model_noise = GridSearchCV(LogisticRegression(), hyperparameters, scoring = 'f1', cv=5)\n",
    "    model_noise.fit(X_train, y_train)\n",
    "    w_noise = model_noise.best_estimator_.coef_\n",
    "    \n",
    "    w = model.best_estimator_.coef_\n",
    "    #print(np.nonzero(w))\n",
    "    data_df = {'features': features, 'weightvec': list(w)[0],'weightvec_noise':list(w_noise)[0]}\n",
    "\n",
    "    df = pd.DataFrame(data= data_df)\n",
    "\n",
    "    df = df[df['weightvec'] != 0]\n",
    "    \n",
    "    df['diffs'] = (df['weightvec']-df['weightvec_noise'])/(df['weightvec'])\n",
    "    li = []\n",
    "\n",
    "    ls = df['diffs']\n",
    "\n",
    "    for i in ls:\n",
    "        if i>0:\n",
    "            i=i*100\n",
    "        else:\n",
    "            i=-i*100\n",
    "        li.append(i)\n",
    "    \n",
    "    df['diffs'] = li\n",
    "\n",
    "    ls = df[df['diffs']>30]\n",
    "    print('Printing the top 10 values with percentage change in the weights greater than threshold 30 ')\n",
    "    print('*'*120)\n",
    "    print(ls.sort_values('diffs',ascending = False).head(10))"
   ]
  },
  {
   "cell_type": "markdown",
   "metadata": {},
   "source": [
    "# BOW"
   ]
  },
  {
   "cell_type": "code",
   "execution_count": 131,
   "metadata": {},
   "outputs": [],
   "source": [
    "with open('C:/Users/U6069188/Python Projects/Pickle/Bow','rb') as f:\n",
    "    bow = pickle.load(f)"
   ]
  },
  {
   "cell_type": "code",
   "execution_count": 132,
   "metadata": {},
   "outputs": [],
   "source": [
    "features = bow.get_feature_names()"
   ]
  },
  {
   "cell_type": "code",
   "execution_count": 133,
   "metadata": {},
   "outputs": [],
   "source": [
    "X_train_bow = bow.transform(X_train)"
   ]
  },
  {
   "cell_type": "code",
   "execution_count": 134,
   "metadata": {},
   "outputs": [],
   "source": [
    "X_test_bow = bow.transform(X_test)"
   ]
  },
  {
   "cell_type": "code",
   "execution_count": 135,
   "metadata": {},
   "outputs": [
    {
     "data": {
      "text/plain": [
       "(175000, 2268298)"
      ]
     },
     "execution_count": 135,
     "metadata": {},
     "output_type": "execute_result"
    }
   ],
   "source": [
    "from sklearn.preprocessing import StandardScaler\n",
    "\n",
    "X_train_bow = StandardScaler(with_mean = False).fit_transform(X_train_bow)\n",
    "X_train_bow.shape"
   ]
  },
  {
   "cell_type": "code",
   "execution_count": 136,
   "metadata": {},
   "outputs": [
    {
     "data": {
      "text/plain": [
       "(75000, 2268298)"
      ]
     },
     "execution_count": 136,
     "metadata": {},
     "output_type": "execute_result"
    }
   ],
   "source": [
    "X_test_bow = StandardScaler(with_mean = False).fit_transform(X_test_bow)\n",
    "X_test_bow.shape"
   ]
  },
  {
   "cell_type": "code",
   "execution_count": 137,
   "metadata": {},
   "outputs": [
    {
     "name": "stdout",
     "output_type": "stream",
     "text": [
      "LogisticRegression(C=1, class_weight=None, dual=False, fit_intercept=True,\n",
      "          intercept_scaling=1, max_iter=100, multi_class='ovr', n_jobs=1,\n",
      "          penalty='l2', random_state=None, solver='liblinear', tol=0.0001,\n",
      "          verbose=0, warm_start=False)\n",
      "optimal C value using GridSearchCV ('C', 1)\n",
      "************************************************************************************************************************\n",
      "LogisticRegression(C=0.773725209287023, class_weight=None, dual=False,\n",
      "          fit_intercept=True, intercept_scaling=1, max_iter=100,\n",
      "          multi_class='ovr', n_jobs=1, penalty='l2', random_state=None,\n",
      "          solver='liblinear', tol=0.0001, verbose=0, warm_start=False)\n",
      "optimal C value using RandomizedSearchCV ('C', 0.773725209287023)\n"
     ]
    }
   ],
   "source": [
    "optc_grid_l2_bow,optc_rand_l2_bow,model_grid_l2_bow = Run_CV_l2(X_train_bow, y_train,X_test_bow,y_test)"
   ]
  },
  {
   "cell_type": "code",
   "execution_count": 138,
   "metadata": {},
   "outputs": [
    {
     "name": "stdout",
     "output_type": "stream",
     "text": [
      "LogisticRegression(C=0.01, class_weight=None, dual=False, fit_intercept=True,\n",
      "          intercept_scaling=1, max_iter=100, multi_class='ovr', n_jobs=1,\n",
      "          penalty='l1', random_state=None, solver='liblinear', tol=0.0001,\n",
      "          verbose=0, warm_start=False)\n",
      "optimal C value using GridSearchCV ('C', 0.01)\n",
      "************************************************************************************************************************\n",
      "LogisticRegression(C=0.015484725439227742, class_weight=None, dual=False,\n",
      "          fit_intercept=True, intercept_scaling=1, max_iter=100,\n",
      "          multi_class='ovr', n_jobs=1, penalty='l1', random_state=None,\n",
      "          solver='liblinear', tol=0.0001, verbose=0, warm_start=False)\n",
      "optimal C value using RandomizedSearchCV ('C', 0.015484725439227742)\n"
     ]
    }
   ],
   "source": [
    "optc_grid_l1_bow,optc_rand_l1_bow,model_grid_l1_bow = Run_CV_l1(X_train_bow, y_train,X_test_bow,y_test)"
   ]
  },
  {
   "cell_type": "code",
   "execution_count": 139,
   "metadata": {},
   "outputs": [
    {
     "name": "stdout",
     "output_type": "stream",
     "text": [
      "************************************************************************************************************************\n",
      "Optimal C is 0.01\n",
      "Accuracy for LogisticReg algorithm with lambda  is  91.84\n",
      "F1 score for LogisticReg algorithm with lambda  is  81.51\n",
      "Recall for LogisticReg agorithm with lambda is  77.06\n",
      "Precision for LogisticReg algorithm with lambda is  89.32\n",
      "\n",
      " Classification report for LogisticReg algorithm with lambda is \n",
      "               precision    recall  f1-score   support\n",
      "\n",
      "         -1       0.86      0.56      0.68     11506\n",
      "          1       0.92      0.98      0.95     63494\n",
      "\n",
      "avg / total       0.91      0.92      0.91     75000\n",
      "\n"
     ]
    },
    {
     "data": {
      "image/png": "[encoded data removed]",
      "text/plain": [
       "<Figure size 432x288 with 2 Axes>"
      ]
     },
     "metadata": {},
     "output_type": "display_data"
    }
   ],
   "source": [
    "train_err_l1_bow,test_err_l1_bow = Run_LogisticReg(X_train_bow, y_train,X_test_bow,y_test,optc_grid_l1_bow[1],'l1')"
   ]
  },
  {
   "cell_type": "code",
   "execution_count": 140,
   "metadata": {},
   "outputs": [
    {
     "name": "stdout",
     "output_type": "stream",
     "text": [
      "************************************************************************************************************************\n",
      "Optimal C is 1\n",
      "Accuracy for LogisticReg algorithm with lambda  is  89.83\n",
      "F1 score for LogisticReg algorithm with lambda  is  74.35\n",
      "Recall for LogisticReg agorithm with lambda is  69.27\n",
      "Precision for LogisticReg algorithm with lambda is  88.53\n",
      "\n",
      " Classification report for LogisticReg algorithm with lambda is \n",
      "               precision    recall  f1-score   support\n",
      "\n",
      "         -1       0.87      0.40      0.54     11506\n",
      "          1       0.90      0.99      0.94     63494\n",
      "\n",
      "avg / total       0.90      0.90      0.88     75000\n",
      "\n"
     ]
    },
    {
     "data": {
      "image/png": "[encoded data removed]",
      "text/plain": [
       "<Figure size 432x288 with 2 Axes>"
      ]
     },
     "metadata": {},
     "output_type": "display_data"
    }
   ],
   "source": [
    "train_err_l2_bow,test_err_l2_bow = Run_LogisticReg(X_train_bow, y_train,X_test_bow,y_test,optc_grid_l2_bow[1],'l2')"
   ]
  },
  {
   "cell_type": "code",
   "execution_count": 141,
   "metadata": {},
   "outputs": [
    {
     "name": "stdout",
     "output_type": "stream",
     "text": [
      "Sparcity of weigt vector is 70938\n",
      "Error when C = 0.01  is  8.159999999999997\n",
      "Sparcity of weigt vector is 318\n",
      "Error when C = 0.001  is  10.459999999999994\n",
      "Sparcity of weigt vector is 3\n",
      "Error when C = 0.0001  is  15.340000000000003\n",
      "Sparcity of weigt vector is 0\n",
      "Error when C = 1e-05  is  84.66\n",
      "Sparcity of weigt vector is 0\n",
      "Error when C = 1.0000000000000002e-06  is  84.66\n"
     ]
    }
   ],
   "source": [
    "Run_L1RegTest(X_train_bow, y_train,X_test_bow,y_test,optc_grid_l1_bow[1])"
   ]
  },
  {
   "cell_type": "code",
   "execution_count": 142,
   "metadata": {},
   "outputs": [
    {
     "name": "stdout",
     "output_type": "stream",
     "text": [
      "               features  weightvec\n",
      "878624            great   0.832134\n",
      "1168065            love   0.639564\n",
      "177071             best   0.567199\n",
      "523929           delici   0.503288\n",
      "856886             good   0.456069\n",
      "1451946         perfect   0.390589\n",
      "946652   high recommend   0.368588\n",
      "677252            excel   0.358933\n",
      "718563          favorit   0.284518\n",
      "1323043            nice   0.274166\n"
     ]
    }
   ],
   "source": [
    "FeatureImp(X_train_bow, y_train,model_grid_l1_bow,bow)"
   ]
  },
  {
   "cell_type": "code",
   "execution_count": 143,
   "metadata": {},
   "outputs": [
    {
     "name": "stdout",
     "output_type": "stream",
     "text": [
      "Printing the top 10 values with percentage change in the weights greater than threshold 30 \n",
      "************************************************************************************************************************\n",
      "               features     weightvec  weightvec_noise         diffs\n",
      "2175983    wast attempt -3.993533e-10        -0.000445  1.114606e+08\n",
      "2109943  undercook need -1.350702e-09        -0.001017  7.530711e+07\n",
      "1467265     pictur nido -2.034462e-09        -0.001059  5.204607e+07\n",
      "596183          dri guy -6.447385e-09        -0.001498  2.324072e+07\n",
      "1775889     show disney -6.447385e-09        -0.000983  1.524720e+07\n",
      "1841248      sorri buck  1.570726e-08         0.001371  8.726180e+06\n",
      "1130383        like mae -2.316019e-09        -0.000138  5.955593e+06\n",
      "1480238     plant charg  1.796812e-08         0.001061  5.902367e+06\n",
      "45066      alloy replac -8.257909e-08        -0.004050  4.904100e+06\n",
      "2002734     textur blah -1.738488e-08        -0.000742  4.269262e+06\n"
     ]
    }
   ],
   "source": [
    "TestCollinear(X_train_bow, y_train,model_grid_l1_bow,features)"
   ]
  },
  {
   "cell_type": "markdown",
   "metadata": {},
   "source": [
    "# Tf-Idf"
   ]
  },
  {
   "cell_type": "code",
   "execution_count": 144,
   "metadata": {},
   "outputs": [],
   "source": [
    "with open('C:/Users/U6069188/Python Projects/Pickle/tfidf','rb') as f:\n",
    "    tfidf = pickle.load(f)\n",
    "\n",
    "tfidf = TfidfVectorizer(ngram_range=(1,2)).fit(X_train)"
   ]
  },
  {
   "cell_type": "code",
   "execution_count": 145,
   "metadata": {},
   "outputs": [],
   "source": [
    "features = tfidf.get_feature_names()"
   ]
  },
  {
   "cell_type": "code",
   "execution_count": 146,
   "metadata": {},
   "outputs": [],
   "source": [
    "X_train_tfidf = tfidf.transform(X_train)"
   ]
  },
  {
   "cell_type": "code",
   "execution_count": 147,
   "metadata": {},
   "outputs": [],
   "source": [
    "X_test_tfidf= tfidf.transform(X_test)"
   ]
  },
  {
   "cell_type": "code",
   "execution_count": 148,
   "metadata": {},
   "outputs": [
    {
     "data": {
      "text/plain": [
       "(175000, 1802519)"
      ]
     },
     "execution_count": 148,
     "metadata": {},
     "output_type": "execute_result"
    }
   ],
   "source": [
    "from sklearn.preprocessing import StandardScaler\n",
    "\n",
    "X_train_tfidf = StandardScaler(with_mean = False).fit_transform(X_train_tfidf)\n",
    "X_train_tfidf.shape"
   ]
  },
  {
   "cell_type": "code",
   "execution_count": 149,
   "metadata": {},
   "outputs": [
    {
     "data": {
      "text/plain": [
       "(75000, 1802519)"
      ]
     },
     "execution_count": 149,
     "metadata": {},
     "output_type": "execute_result"
    }
   ],
   "source": [
    "X_test_tfidf = StandardScaler(with_mean = False).fit_transform(X_test_tfidf)\n",
    "X_test_tfidf.shape"
   ]
  },
  {
   "cell_type": "code",
   "execution_count": 150,
   "metadata": {},
   "outputs": [
    {
     "name": "stdout",
     "output_type": "stream",
     "text": [
      "LogisticRegression(C=100, class_weight=None, dual=False, fit_intercept=True,\n",
      "          intercept_scaling=1, max_iter=100, multi_class='ovr', n_jobs=1,\n",
      "          penalty='l2', random_state=None, solver='liblinear', tol=0.0001,\n",
      "          verbose=0, warm_start=False)\n",
      "optimal C value using GridSearchCV ('C', 100)\n",
      "************************************************************************************************************************\n",
      "LogisticRegression(C=0.6119908526979553, class_weight=None, dual=False,\n",
      "          fit_intercept=True, intercept_scaling=1, max_iter=100,\n",
      "          multi_class='ovr', n_jobs=1, penalty='l2', random_state=None,\n",
      "          solver='liblinear', tol=0.0001, verbose=0, warm_start=False)\n",
      "optimal C value using RandomizedSearchCV ('C', 0.6119908526979553)\n"
     ]
    }
   ],
   "source": [
    "optc_grid_l2_tfidf,optc_rand_l2_tfidf,model_grid_l2_tfidf = Run_CV_l2(X_train_tfidf, y_train,X_test_tfidf,y_test)"
   ]
  },
  {
   "cell_type": "code",
   "execution_count": 151,
   "metadata": {},
   "outputs": [
    {
     "name": "stdout",
     "output_type": "stream",
     "text": [
      "LogisticRegression(C=0.01, class_weight=None, dual=False, fit_intercept=True,\n",
      "          intercept_scaling=1, max_iter=100, multi_class='ovr', n_jobs=1,\n",
      "          penalty='l1', random_state=None, solver='liblinear', tol=0.0001,\n",
      "          verbose=0, warm_start=False)\n",
      "optimal C value using GridSearchCV ('C', 0.01)\n",
      "************************************************************************************************************************\n",
      "LogisticRegression(C=0.7115075139314194, class_weight=None, dual=False,\n",
      "          fit_intercept=True, intercept_scaling=1, max_iter=100,\n",
      "          multi_class='ovr', n_jobs=1, penalty='l1', random_state=None,\n",
      "          solver='liblinear', tol=0.0001, verbose=0, warm_start=False)\n",
      "optimal C value using RandomizedSearchCV ('C', 0.7115075139314194)\n"
     ]
    }
   ],
   "source": [
    "optc_grid_l1_tfidf,optc_rand_l1_tfidf,model_grid_l1_tfidf = Run_CV_l1(X_train_tfidf, y_train,X_test_tfidf,y_test)"
   ]
  },
  {
   "cell_type": "code",
   "execution_count": 152,
   "metadata": {},
   "outputs": [
    {
     "name": "stdout",
     "output_type": "stream",
     "text": [
      "************************************************************************************************************************\n",
      "Optimal C is 0.01\n",
      "Accuracy for LogisticReg algorithm with lambda  is  92.38\n",
      "F1 score for LogisticReg algorithm with lambda  is  83.05\n",
      "Recall for LogisticReg agorithm with lambda is  78.82\n",
      "Precision for LogisticReg algorithm with lambda is  89.97\n",
      "\n",
      " Classification report for LogisticReg algorithm with lambda is \n",
      "               precision    recall  f1-score   support\n",
      "\n",
      "         -1       0.87      0.59      0.70     11506\n",
      "          1       0.93      0.98      0.96     63494\n",
      "\n",
      "avg / total       0.92      0.92      0.92     75000\n",
      "\n"
     ]
    },
    {
     "data": {
      "image/png": "[encoded data removed]",
      "text/plain": [
       "<Figure size 432x288 with 2 Axes>"
      ]
     },
     "metadata": {},
     "output_type": "display_data"
    }
   ],
   "source": [
    "train_err_l1_tfidf,test_err_l1_tfidf = Run_LogisticReg(X_train_tfidf, y_train,X_test_tfidf,y_test,optc_grid_l1_tfidf[1],'l1')"
   ]
  },
  {
   "cell_type": "code",
   "execution_count": 153,
   "metadata": {},
   "outputs": [
    {
     "name": "stdout",
     "output_type": "stream",
     "text": [
      "************************************************************************************************************************\n",
      "Optimal C is 100\n",
      "Accuracy for LogisticReg algorithm with lambda  is  89.39\n",
      "F1 score for LogisticReg algorithm with lambda  is  71.6\n",
      "Recall for LogisticReg agorithm with lambda is  66.47\n",
      "Precision for LogisticReg algorithm with lambda is  90.98\n",
      "\n",
      " Classification report for LogisticReg algorithm with lambda is \n",
      "               precision    recall  f1-score   support\n",
      "\n",
      "         -1       0.93      0.33      0.49     11506\n",
      "          1       0.89      1.00      0.94     63494\n",
      "\n",
      "avg / total       0.90      0.89      0.87     75000\n",
      "\n"
     ]
    },
    {
     "data": {
      "image/png": "[encoded data removed]",
      "text/plain": [
       "<Figure size 432x288 with 2 Axes>"
      ]
     },
     "metadata": {},
     "output_type": "display_data"
    }
   ],
   "source": [
    "train_err_l2_tfidf,test_err_l2_tfidf = Run_LogisticReg(X_train_tfidf, y_train,X_test_tfidf,y_test,optc_grid_l2_tfidf[1],'l2')"
   ]
  },
  {
   "cell_type": "code",
   "execution_count": 154,
   "metadata": {},
   "outputs": [
    {
     "name": "stdout",
     "output_type": "stream",
     "text": [
      "Sparcity of weigt vector is 65127\n",
      "Error when C = 0.01  is  7.6299999999999955\n",
      "Sparcity of weigt vector is 364\n",
      "Error when C = 0.001  is  9.920000000000002\n",
      "Sparcity of weigt vector is 3\n",
      "Error when C = 0.0001  is  15.340000000000003\n",
      "Sparcity of weigt vector is 0\n",
      "Error when C = 1e-05  is  84.66\n",
      "Sparcity of weigt vector is 0\n",
      "Error when C = 1.0000000000000002e-06  is  84.66\n"
     ]
    }
   ],
   "source": [
    "Run_L1RegTest(X_train_tfidf, y_train,X_test_tfidf,y_test,optc_grid_l1_tfidf[1])"
   ]
  },
  {
   "cell_type": "code",
   "execution_count": 155,
   "metadata": {},
   "outputs": [
    {
     "name": "stdout",
     "output_type": "stream",
     "text": [
      "               features  weightvec\n",
      "698309            great   0.893343\n",
      "927848             love   0.695485\n",
      "140347             best   0.607259\n",
      "415990           delici   0.514709\n",
      "680901             good   0.439550\n",
      "1153923         perfect   0.409925\n",
      "537709            excel   0.370030\n",
      "752267   high recommend   0.350008\n",
      "570430          favorit   0.281984\n",
      "1050992            nice   0.259014\n"
     ]
    }
   ],
   "source": [
    "FeatureImp(X_train_tfidf, y_train,model_grid_l1_tfidf,tfidf)"
   ]
  },
  {
   "cell_type": "code",
   "execution_count": 156,
   "metadata": {},
   "outputs": [
    {
     "name": "stdout",
     "output_type": "stream",
     "text": [
      "Printing the top 10 values with percentage change in the weights greater than threshold 30 \n",
      "************************************************************************************************************************\n",
      "                 features     weightvec  weightvec_noise         diffs\n",
      "59555           anoth lap -1.568398e-09        -0.002034  1.296645e+08\n",
      "468319          dove lose -1.582929e-09        -0.000399  2.523395e+07\n",
      "1536223  suggest yorkshir -9.604725e-09        -0.001823  1.897855e+07\n",
      "1252783  qualiti therefor -1.043933e-09        -0.000128  1.230715e+07\n",
      "832133       jerki perhap -1.639046e-08        -0.001802  1.099480e+07\n",
      "1588667      terribl look -1.522306e-09        -0.000137  9.011023e+06\n",
      "1545711        sure omega -3.965232e-08        -0.002129  5.370135e+06\n",
      "66765        anywher tone -3.655696e-08        -0.001771  4.843304e+06\n",
      "183112          box owner -5.351268e-08        -0.002547  4.759581e+06\n",
      "89163        attempt pick -1.792444e-07        -0.007904  4.409676e+06\n"
     ]
    }
   ],
   "source": [
    "TestCollinear(X_train_tfidf, y_train,model_grid_l1_tfidf,features)"
   ]
  },
  {
   "cell_type": "markdown",
   "metadata": {},
   "source": [
    "# AvgW2V"
   ]
  },
  {
   "cell_type": "code",
   "execution_count": 157,
   "metadata": {},
   "outputs": [],
   "source": [
    "with open('C:/Users/U6069188/Python Projects/Pickle/AvgW2V','rb') as f:\n",
    "    AvgW2V = pickle.load(f)"
   ]
  },
  {
   "cell_type": "code",
   "execution_count": 158,
   "metadata": {},
   "outputs": [],
   "source": [
    "X = np.array(AvgW2V)"
   ]
  },
  {
   "cell_type": "code",
   "execution_count": 159,
   "metadata": {},
   "outputs": [],
   "source": [
    "X_train, X_test, y_train, y_test = cross_validation.train_test_split(X, y, train_size=.7)"
   ]
  },
  {
   "cell_type": "code",
   "execution_count": 160,
   "metadata": {},
   "outputs": [
    {
     "data": {
      "text/plain": [
       "(175000, 50)"
      ]
     },
     "execution_count": 160,
     "metadata": {},
     "output_type": "execute_result"
    }
   ],
   "source": [
    "X_train = StandardScaler(with_mean = False).fit_transform(X_train)\n",
    "X_train.shape"
   ]
  },
  {
   "cell_type": "code",
   "execution_count": 161,
   "metadata": {},
   "outputs": [
    {
     "data": {
      "text/plain": [
       "(75000, 50)"
      ]
     },
     "execution_count": 161,
     "metadata": {},
     "output_type": "execute_result"
    }
   ],
   "source": [
    "X_test = StandardScaler(with_mean = False).fit_transform(X_test)\n",
    "X_test.shape"
   ]
  },
  {
   "cell_type": "code",
   "execution_count": 162,
   "metadata": {},
   "outputs": [
    {
     "name": "stdout",
     "output_type": "stream",
     "text": [
      "LogisticRegression(C=10000, class_weight=None, dual=False, fit_intercept=True,\n",
      "          intercept_scaling=1, max_iter=100, multi_class='ovr', n_jobs=1,\n",
      "          penalty='l1', random_state=None, solver='liblinear', tol=0.0001,\n",
      "          verbose=0, warm_start=False)\n",
      "optimal C value using GridSearchCV ('C', 10000)\n",
      "************************************************************************************************************************\n",
      "LogisticRegression(C=0.9031935622881324, class_weight=None, dual=False,\n",
      "          fit_intercept=True, intercept_scaling=1, max_iter=100,\n",
      "          multi_class='ovr', n_jobs=1, penalty='l1', random_state=None,\n",
      "          solver='liblinear', tol=0.0001, verbose=0, warm_start=False)\n",
      "optimal C value using RandomizedSearchCV ('C', 0.9031935622881324)\n"
     ]
    }
   ],
   "source": [
    "optc_grid_l1_AvgW2V,optc_rand_l1_AvgW2V,model_grid_l1_AvgW2V = Run_CV_l1(X_train, y_train,X_test,y_test)"
   ]
  },
  {
   "cell_type": "code",
   "execution_count": 163,
   "metadata": {},
   "outputs": [
    {
     "name": "stdout",
     "output_type": "stream",
     "text": [
      "LogisticRegression(C=100, class_weight=None, dual=False, fit_intercept=True,\n",
      "          intercept_scaling=1, max_iter=100, multi_class='ovr', n_jobs=1,\n",
      "          penalty='l2', random_state=None, solver='liblinear', tol=0.0001,\n",
      "          verbose=0, warm_start=False)\n",
      "optimal C value using GridSearchCV ('C', 100)\n",
      "************************************************************************************************************************\n",
      "LogisticRegression(C=0.3494077947128522, class_weight=None, dual=False,\n",
      "          fit_intercept=True, intercept_scaling=1, max_iter=100,\n",
      "          multi_class='ovr', n_jobs=1, penalty='l2', random_state=None,\n",
      "          solver='liblinear', tol=0.0001, verbose=0, warm_start=False)\n",
      "optimal C value using RandomizedSearchCV ('C', 0.3494077947128522)\n"
     ]
    }
   ],
   "source": [
    "optc_grid_l2_AvgW2V,optc_rand_l2_AvgW2V,model_grid_l2_AvgW2V = Run_CV_l2(X_train, y_train,X_test,y_test)"
   ]
  },
  {
   "cell_type": "code",
   "execution_count": 164,
   "metadata": {},
   "outputs": [
    {
     "name": "stdout",
     "output_type": "stream",
     "text": [
      "************************************************************************************************************************\n",
      "Optimal C is 10000\n",
      "Accuracy for LogisticReg algorithm with lambda  is  90.08\n",
      "F1 score for LogisticReg algorithm with lambda  is  77.87\n",
      "Recall for LogisticReg agorithm with lambda is  74.37\n",
      "Precision for LogisticReg algorithm with lambda is  83.66\n",
      "\n",
      " Classification report for LogisticReg algorithm with lambda is \n",
      "               precision    recall  f1-score   support\n",
      "\n",
      "         -1       0.76      0.52      0.61     11451\n",
      "          1       0.92      0.97      0.94     63549\n",
      "\n",
      "avg / total       0.89      0.90      0.89     75000\n",
      "\n"
     ]
    },
    {
     "data": {
      "image/png": "[encoded data removed]",
      "text/plain": [
       "<Figure size 432x288 with 2 Axes>"
      ]
     },
     "metadata": {},
     "output_type": "display_data"
    }
   ],
   "source": [
    "train_err_l1_AvgW2V,test_err_l1_AvgW2V = Run_LogisticReg(X_train, y_train,X_test,y_test,optc_grid_l1_AvgW2V[1],'l1')"
   ]
  },
  {
   "cell_type": "code",
   "execution_count": 165,
   "metadata": {},
   "outputs": [
    {
     "name": "stdout",
     "output_type": "stream",
     "text": [
      "************************************************************************************************************************\n",
      "Optimal C is 100\n",
      "Accuracy for LogisticReg algorithm with lambda  is  90.08\n",
      "F1 score for LogisticReg algorithm with lambda  is  77.87\n",
      "Recall for LogisticReg agorithm with lambda is  74.37\n",
      "Precision for LogisticReg algorithm with lambda is  83.66\n",
      "\n",
      " Classification report for LogisticReg algorithm with lambda is \n",
      "               precision    recall  f1-score   support\n",
      "\n",
      "         -1       0.76      0.52      0.61     11451\n",
      "          1       0.92      0.97      0.94     63549\n",
      "\n",
      "avg / total       0.89      0.90      0.89     75000\n",
      "\n"
     ]
    },
    {
     "data": {
      "image/png": "[encoded data removed]",
      "text/plain": [
       "<Figure size 432x288 with 2 Axes>"
      ]
     },
     "metadata": {},
     "output_type": "display_data"
    }
   ],
   "source": [
    "train_err_l2_AvgW2V,test_err_l2_AvgW2V = Run_LogisticReg(X_train, y_train,X_test,y_test,optc_grid_l2_AvgW2V[1],'l2')"
   ]
  },
  {
   "cell_type": "code",
   "execution_count": 166,
   "metadata": {},
   "outputs": [
    {
     "name": "stdout",
     "output_type": "stream",
     "text": [
      "Sparcity of weigt vector is 50\n",
      "Error when C = 10000  is  9.930000000000007\n",
      "Sparcity of weigt vector is 50\n",
      "Error when C = 1000.0  is  9.920000000000002\n",
      "Sparcity of weigt vector is 50\n",
      "Error when C = 100.0  is  9.920000000000002\n",
      "Sparcity of weigt vector is 50\n",
      "Error when C = 10.0  is  9.920000000000002\n",
      "Sparcity of weigt vector is 50\n",
      "Error when C = 1.0  is  9.920000000000002\n"
     ]
    }
   ],
   "source": [
    "Run_L1RegTest(X_train, y_train,X_test,y_test,optc_grid_l1_AvgW2V[1])"
   ]
  },
  {
   "cell_type": "markdown",
   "metadata": {},
   "source": [
    "# TfIdf W2V"
   ]
  },
  {
   "cell_type": "code",
   "execution_count": 167,
   "metadata": {},
   "outputs": [],
   "source": [
    "with open('C:/Users/U6069188/Python Projects/Pickle/tfidf_sent_vectors','rb') as f:\n",
    "    tfidf_sent_vectors = pickle.load(f)"
   ]
  },
  {
   "cell_type": "code",
   "execution_count": 168,
   "metadata": {},
   "outputs": [],
   "source": [
    "X = np.array(tfidf_sent_vectors)"
   ]
  },
  {
   "cell_type": "code",
   "execution_count": 169,
   "metadata": {},
   "outputs": [],
   "source": [
    "X_train, X_test, y_train, y_test = cross_validation.train_test_split(X, y, train_size=.7)"
   ]
  },
  {
   "cell_type": "code",
   "execution_count": 170,
   "metadata": {},
   "outputs": [
    {
     "data": {
      "text/plain": [
       "(175000, 50)"
      ]
     },
     "execution_count": 170,
     "metadata": {},
     "output_type": "execute_result"
    }
   ],
   "source": [
    "X_train = StandardScaler(with_mean = False).fit_transform(X_train)\n",
    "X_train.shape"
   ]
  },
  {
   "cell_type": "code",
   "execution_count": 171,
   "metadata": {},
   "outputs": [
    {
     "data": {
      "text/plain": [
       "(75000, 50)"
      ]
     },
     "execution_count": 171,
     "metadata": {},
     "output_type": "execute_result"
    }
   ],
   "source": [
    "X_test = StandardScaler(with_mean = False).fit_transform(X_test)\n",
    "X_test.shape"
   ]
  },
  {
   "cell_type": "code",
   "execution_count": 172,
   "metadata": {},
   "outputs": [
    {
     "name": "stdout",
     "output_type": "stream",
     "text": [
      "LogisticRegression(C=1, class_weight=None, dual=False, fit_intercept=True,\n",
      "          intercept_scaling=1, max_iter=100, multi_class='ovr', n_jobs=1,\n",
      "          penalty='l1', random_state=None, solver='liblinear', tol=0.0001,\n",
      "          verbose=0, warm_start=False)\n",
      "optimal C value using GridSearchCV ('C', 1)\n",
      "************************************************************************************************************************\n",
      "LogisticRegression(C=0.19463891782434628, class_weight=None, dual=False,\n",
      "          fit_intercept=True, intercept_scaling=1, max_iter=100,\n",
      "          multi_class='ovr', n_jobs=1, penalty='l1', random_state=None,\n",
      "          solver='liblinear', tol=0.0001, verbose=0, warm_start=False)\n",
      "optimal C value using RandomizedSearchCV ('C', 0.19463891782434628)\n"
     ]
    }
   ],
   "source": [
    "optc_grid_l1_tfidfW2V,optc_rand_l1_tfidfW2V,model_grid_l1_tfidfW2V  = Run_CV_l1(X_train, y_train,X_test,y_test)"
   ]
  },
  {
   "cell_type": "code",
   "execution_count": 173,
   "metadata": {},
   "outputs": [
    {
     "name": "stdout",
     "output_type": "stream",
     "text": [
      "LogisticRegression(C=10000, class_weight=None, dual=False, fit_intercept=True,\n",
      "          intercept_scaling=1, max_iter=100, multi_class='ovr', n_jobs=1,\n",
      "          penalty='l2', random_state=None, solver='liblinear', tol=0.0001,\n",
      "          verbose=0, warm_start=False)\n",
      "optimal C value using GridSearchCV ('C', 10000)\n",
      "************************************************************************************************************************\n",
      "LogisticRegression(C=0.21260180862155098, class_weight=None, dual=False,\n",
      "          fit_intercept=True, intercept_scaling=1, max_iter=100,\n",
      "          multi_class='ovr', n_jobs=1, penalty='l2', random_state=None,\n",
      "          solver='liblinear', tol=0.0001, verbose=0, warm_start=False)\n",
      "optimal C value using RandomizedSearchCV ('C', 0.21260180862155098)\n"
     ]
    }
   ],
   "source": [
    "optc_grid_l2_tfidfW2V,optc_rand_l2_tfidfW2V,model_grid_l2_tfidfW2V  = Run_CV_l2(X_train, y_train,X_test,y_test)"
   ]
  },
  {
   "cell_type": "code",
   "execution_count": 174,
   "metadata": {},
   "outputs": [
    {
     "name": "stdout",
     "output_type": "stream",
     "text": [
      "************************************************************************************************************************\n",
      "Optimal C is 1\n",
      "Accuracy for LogisticReg algorithm with lambda  is  88.61\n",
      "F1 score for LogisticReg algorithm with lambda  is  73.35\n",
      "Recall for LogisticReg agorithm with lambda is  69.64\n",
      "Precision for LogisticReg algorithm with lambda is  80.94\n",
      "\n",
      " Classification report for LogisticReg algorithm with lambda is \n",
      "               precision    recall  f1-score   support\n",
      "\n",
      "         -1       0.72      0.42      0.53     11464\n",
      "          1       0.90      0.97      0.94     63536\n",
      "\n",
      "avg / total       0.87      0.89      0.87     75000\n",
      "\n"
     ]
    },
    {
     "data": {
      "image/png": "[encoded data removed]",
      "text/plain": [
       "<Figure size 432x288 with 2 Axes>"
      ]
     },
     "metadata": {},
     "output_type": "display_data"
    }
   ],
   "source": [
    "train_err_l1_tfidfW2V,test_err_l1_tfidfW2V = Run_LogisticReg(X_train, y_train,X_test,y_test,optc_grid_l1_tfidfW2V[1],'l1')"
   ]
  },
  {
   "cell_type": "code",
   "execution_count": 175,
   "metadata": {},
   "outputs": [
    {
     "name": "stdout",
     "output_type": "stream",
     "text": [
      "************************************************************************************************************************\n",
      "Optimal C is 10000\n",
      "Accuracy for LogisticReg algorithm with lambda  is  88.62\n",
      "F1 score for LogisticReg algorithm with lambda  is  73.38\n",
      "Recall for LogisticReg agorithm with lambda is  69.67\n",
      "Precision for LogisticReg algorithm with lambda is  80.96\n",
      "\n",
      " Classification report for LogisticReg algorithm with lambda is \n",
      "               precision    recall  f1-score   support\n",
      "\n",
      "         -1       0.72      0.42      0.53     11464\n",
      "          1       0.90      0.97      0.94     63536\n",
      "\n",
      "avg / total       0.87      0.89      0.87     75000\n",
      "\n"
     ]
    },
    {
     "data": {
      "image/png": "[encoded data removed]",
      "text/plain": [
       "<Figure size 432x288 with 2 Axes>"
      ]
     },
     "metadata": {},
     "output_type": "display_data"
    }
   ],
   "source": [
    "train_err_l2_tfidfW2V,test_err_l2_tfidfW2V = Run_LogisticReg(X_train, y_train,X_test,y_test,optc_grid_l2_tfidfW2V[1],'l2')"
   ]
  },
  {
   "cell_type": "code",
   "execution_count": 176,
   "metadata": {},
   "outputs": [
    {
     "name": "stdout",
     "output_type": "stream",
     "text": [
      "Sparcity of weigt vector is 50\n",
      "Error when C = 1  is  11.39\n",
      "Sparcity of weigt vector is 50\n",
      "Error when C = 0.1  is  11.39\n",
      "Sparcity of weigt vector is 47\n",
      "Error when C = 0.01  is  11.409999999999997\n",
      "Sparcity of weigt vector is 32\n",
      "Error when C = 0.001  is  12.040000000000006\n",
      "Sparcity of weigt vector is 8\n",
      "Error when C = 0.0001  is  15.260000000000005\n"
     ]
    }
   ],
   "source": [
    "Run_L1RegTest(X_train, y_train,X_test,y_test,optc_grid_l1_tfidfW2V[1])"
   ]
  },
  {
   "cell_type": "code",
   "execution_count": 193,
   "metadata": {},
   "outputs": [],
   "source": [
    "from prettytable import PrettyTable\n",
    "    \n",
    "x = PrettyTable()"
   ]
  },
  {
   "cell_type": "code",
   "execution_count": 194,
   "metadata": {},
   "outputs": [],
   "source": [
    "x.field_names = [\"Model\", \"Regularizer\" , \"Optimal C Value (1/Lambda)\", \"Train Error\", \"Test Error\"]"
   ]
  },
  {
   "cell_type": "code",
   "execution_count": 195,
   "metadata": {},
   "outputs": [],
   "source": [
    "x.add_row([\"Logistic Reg For Bow\",\"L1\",optc_grid_l1_bow, train_err_l1_bow*100,101+test_err_l1_bow])\n",
    "x.add_row([\"Logistic Reg For Bow\",\"L2\",optc_grid_l2_bow, train_err_l2_bow*100,101+test_err_l2_bow])\n",
    "x.add_row([\"Logistic Reg For TfIdf\",\"L1\",optc_grid_l1_tfidf, train_err_l1_tfidf*100,101+test_err_l1_tfidf])\n",
    "x.add_row([\"Logistic Reg For TfIdf\",\"L2\",optc_grid_l2_tfidf, train_err_l2_tfidf*100,101+test_err_l2_tfidf])\n",
    "x.add_row([\"Logistic Reg For AvgW2V\",\"L1\",optc_grid_l1_AvgW2V, train_err_l1_AvgW2V*100,101+test_err_l1_AvgW2V])\n",
    "x.add_row([\"Logistic Reg For AvgW2V\",\"L2\",optc_grid_l2_AvgW2V, train_err_l2_AvgW2V*100,101+test_err_l2_AvgW2V])\n",
    "x.add_row([\"Logistic Reg For tfidfW2V\",\"L1\",optc_grid_l1_tfidfW2V, train_err_l1_tfidfW2V*100,101+test_err_l1_tfidfW2V])\n",
    "x.add_row([\"Logistic Reg For tfidfW2V\",\"L2\",optc_grid_l2_tfidfW2V, train_err_l2_tfidfW2V*100,101+test_err_l2_tfidfW2V])"
   ]
  },
  {
   "cell_type": "code",
   "execution_count": 196,
   "metadata": {},
   "outputs": [
    {
     "name": "stdout",
     "output_type": "stream",
     "text": [
      "+---------------------------+-------------+----------------------------+-----------------------+--------------------+\n",
      "|           Model           | Regularizer | Optimal C Value (1/Lambda) |      Train Error      |     Test Error     |\n",
      "+---------------------------+-------------+----------------------------+-----------------------+--------------------+\n",
      "|    Logistic Reg For Bow   |      L1     |        ('C', 0.01)         |   0.1502857142857139  | 10.161333333333332 |\n",
      "|    Logistic Reg For Bow   |      L2     |          ('C', 1)          | 0.0022857142857102275 | 12.171999999999997 |\n",
      "|   Logistic Reg For TfIdf  |      L1     |        ('C', 0.01)         |  0.02114285714285291  | 9.618666666666655  |\n",
      "|   Logistic Reg For TfIdf  |      L2     |         ('C', 100)         | 0.0022857142857102275 | 12.614666666666665 |\n",
      "|  Logistic Reg For AvgW2V  |      L1     |        ('C', 10000)        |   9.997714285714288   | 11.924000000000007 |\n",
      "|  Logistic Reg For AvgW2V  |      L2     |         ('C', 100)         |   9.991428571428573   | 11.924000000000007 |\n",
      "| Logistic Reg For tfidfW2V |      L1     |          ('C', 1)          |   11.341142857142861  | 13.38666666666667  |\n",
      "| Logistic Reg For tfidfW2V |      L2     |        ('C', 10000)        |   11.347428571428575  | 13.377333333333326 |\n",
      "+---------------------------+-------------+----------------------------+-----------------------+--------------------+\n"
     ]
    }
   ],
   "source": [
    "print(x)"
   ]
  },
  {
   "cell_type": "markdown",
   "metadata": {},
   "source": [
    "Observations:\n",
    "\n",
    "1. We can see that when lambda is increasing spacity is reduced and error is increasing for all vectorizers.\n",
    "2. As we acn see from the above table Test Error is Min for TfIdf vectorizer for L1 regularizer.\n",
    "3. Collinearity exists for both Bow and TfIdf models.This explains that few features are linearly dependent on other features and I have taken the threshold value as 30."
   ]
  }
 ],
 "metadata": {
  "kernelspec": {
   "display_name": "Python 3",
   "language": "python",
   "name": "python3"
  },
  "language_info": {
   "codemirror_mode": {
    "name": "ipython",
    "version": 3
   },
   "file_extension": ".py",
   "mimetype": "text/x-python",
   "name": "python",
   "nbconvert_exporter": "python",
   "pygments_lexer": "ipython3",
   "version": "3.6.5"
  }
 },
 "nbformat": 4,
 "nbformat_minor": 2
}
