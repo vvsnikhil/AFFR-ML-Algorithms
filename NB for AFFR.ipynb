{
 "cells": [
  {
   "cell_type": "markdown",
   "metadata": {},
   "source": [
    "# Amazon Fine Food Reviews Analysis\n",
    "The Amazon Fine Food Reviews dataset consists of reviews of fine foods from Amazon.\n",
    "\n",
    " Number of reviews: 568,454                                                                                                     \n",
    " Number of users: 256,059                                                                                                       \n",
    " Number of products: 74,258                                                                                                                                                                                                             \n",
    " Number of Attributes/Columns in data: 10\n",
    " \n",
    " Attributes:\n",
    "1. IdRow Id\n",
    "2. ProductIdUnique identifier for the product\n",
    "3. UserIdUnqiue identifier for the user\n",
    "4. ProfileNameProfile name of the user\n",
    "5. HelpfulnessNumeratorNumber of users who found the review helpful\n",
    "6. HelpfulnessDenominatorNumber of users who indicated whether they found the review helpful\n",
    "7. ScoreRating between 1 and 5\n",
    "8. TimeTimestamp for the review\n",
    "9. SummaryBrief summary of the review\n",
    "10. TextText of the review"
   ]
  },
  {
   "cell_type": "code",
   "execution_count": 2,
   "metadata": {},
   "outputs": [],
   "source": [
    "import warnings\n",
    "warnings.filterwarnings(\"ignore\")"
   ]
  },
  {
   "cell_type": "code",
   "execution_count": 3,
   "metadata": {},
   "outputs": [],
   "source": [
    "# import packages\n",
    "import pandas as pd\n",
    "import numpy as np\n",
    "import matplotlib.pyplot as plt\n",
    "import seaborn as sns\n",
    "import string\n",
    "import sqlite3\n",
    "import re\n",
    "import nltk\n",
    "from nltk.corpus import stopwords\n",
    "from nltk.stem import PorterStemmer\n",
    "from nltk.stem import SnowballStemmer\n",
    "from nltk.stem.wordnet import WordNetLemmatizer\n",
    "from sklearn.neighbors import KNeighborsClassifier\n",
    "from sklearn.metrics import accuracy_score,precision_score,recall_score,confusion_matrix,classification_report,f1_score\n",
    "from sklearn.decomposition import TruncatedSVD\n",
    "from sklearn import cross_validation\n",
    "from sklearn.cross_validation import cross_val_score\n",
    "from sklearn.feature_extraction.text import CountVectorizer\n",
    "from sklearn.feature_extraction.text import TfidfVectorizer\n",
    "import gensim"
   ]
  },
  {
   "cell_type": "code",
   "execution_count": 4,
   "metadata": {},
   "outputs": [],
   "source": [
    "con = sqlite3.connect('./AmazonFFR/database.sqlite')\n",
    "\n",
    "# not taking into consideration those reviews with Score=3 as we need only positive and negative reviews\n",
    "filtered_data = pd.read_sql_query(\"\"\"\n",
    "SELECT * FROM Reviews\n",
    "WHERE Score !=3\"\"\",con)"
   ]
  },
  {
   "cell_type": "code",
   "execution_count": 5,
   "metadata": {},
   "outputs": [],
   "source": [
    "def partition(x):\n",
    "    if x < 3:\n",
    "        return 'negative'\n",
    "    return 'positive'\n",
    "\n",
    "#changing reviews with score greater than 3 to be positive and vice-versa\n",
    "actualScore = filtered_data['Score']\n",
    "positiveNegative = actualScore.map(partition) \n",
    "filtered_data['Score'] = positiveNegative"
   ]
  },
  {
   "cell_type": "code",
   "execution_count": 6,
   "metadata": {},
   "outputs": [],
   "source": [
    "filtered_data_final = filtered_data"
   ]
  },
  {
   "cell_type": "code",
   "execution_count": 7,
   "metadata": {},
   "outputs": [
    {
     "data": {
      "text/plain": [
       "positive    443777\n",
       "negative     82037\n",
       "Name: Score, dtype: int64"
      ]
     },
     "execution_count": 7,
     "metadata": {},
     "output_type": "execute_result"
    }
   ],
   "source": [
    "filtered_data_final['Score'].value_counts()"
   ]
  },
  {
   "cell_type": "code",
   "execution_count": 8,
   "metadata": {},
   "outputs": [],
   "source": [
    "# Data Cleaning :Duplication\n",
    "\n",
    "sort_data = filtered_data_final.sort_values('ProductId',axis =0,ascending=True)\n",
    "\n",
    "final = sort_data.drop_duplicates(subset={\"UserId\",\"ProfileName\",\"Time\",\"Text\"},keep='first',inplace=False)\n",
    "\n",
    "final = final[final.HelpfulnessNumerator<=final.HelpfulnessDenominator]"
   ]
  },
  {
   "cell_type": "code",
   "execution_count": 9,
   "metadata": {},
   "outputs": [
    {
     "data": {
      "text/plain": [
       "positive    307061\n",
       "negative     57110\n",
       "Name: Score, dtype: int64"
      ]
     },
     "execution_count": 9,
     "metadata": {},
     "output_type": "execute_result"
    }
   ],
   "source": [
    "final['Score'].value_counts()"
   ]
  },
  {
   "cell_type": "code",
   "execution_count": 10,
   "metadata": {},
   "outputs": [
    {
     "data": {
      "text/html": [
       "<div>\n",
       "<style scoped>\n",
       "    .dataframe tbody tr th:only-of-type {\n",
       "        vertical-align: middle;\n",
       "    }\n",
       "\n",
       "    .dataframe tbody tr th {\n",
       "        vertical-align: top;\n",
       "    }\n",
       "\n",
       "    .dataframe thead th {\n",
       "        text-align: right;\n",
       "    }\n",
       "</style>\n",
       "<table border=\"1\" class=\"dataframe\">\n",
       "  <thead>\n",
       "    <tr style=\"text-align: right;\">\n",
       "      <th></th>\n",
       "      <th>Id</th>\n",
       "      <th>ProductId</th>\n",
       "      <th>UserId</th>\n",
       "      <th>ProfileName</th>\n",
       "      <th>HelpfulnessNumerator</th>\n",
       "      <th>HelpfulnessDenominator</th>\n",
       "      <th>Score</th>\n",
       "      <th>Time</th>\n",
       "      <th>Summary</th>\n",
       "      <th>Text</th>\n",
       "    </tr>\n",
       "  </thead>\n",
       "  <tbody>\n",
       "    <tr>\n",
       "      <th>138706</th>\n",
       "      <td>150524</td>\n",
       "      <td>0006641040</td>\n",
       "      <td>ACITT7DI6IDDL</td>\n",
       "      <td>shari zychinski</td>\n",
       "      <td>0</td>\n",
       "      <td>0</td>\n",
       "      <td>positive</td>\n",
       "      <td>939340800</td>\n",
       "      <td>EVERY book is educational</td>\n",
       "      <td>this witty little book makes my son laugh at l...</td>\n",
       "    </tr>\n",
       "    <tr>\n",
       "      <th>138683</th>\n",
       "      <td>150501</td>\n",
       "      <td>0006641040</td>\n",
       "      <td>AJ46FKXOVC7NR</td>\n",
       "      <td>Nicholas A Mesiano</td>\n",
       "      <td>2</td>\n",
       "      <td>2</td>\n",
       "      <td>positive</td>\n",
       "      <td>940809600</td>\n",
       "      <td>This whole series is great way to spend time w...</td>\n",
       "      <td>I can remember seeing the show when it aired o...</td>\n",
       "    </tr>\n",
       "    <tr>\n",
       "      <th>417839</th>\n",
       "      <td>451856</td>\n",
       "      <td>B00004CXX9</td>\n",
       "      <td>AIUWLEQ1ADEG5</td>\n",
       "      <td>Elizabeth Medina</td>\n",
       "      <td>0</td>\n",
       "      <td>0</td>\n",
       "      <td>positive</td>\n",
       "      <td>944092800</td>\n",
       "      <td>Entertainingl Funny!</td>\n",
       "      <td>Beetlejuice is a well written movie ..... ever...</td>\n",
       "    </tr>\n",
       "    <tr>\n",
       "      <th>346055</th>\n",
       "      <td>374359</td>\n",
       "      <td>B00004CI84</td>\n",
       "      <td>A344SMIA5JECGM</td>\n",
       "      <td>Vincent P. Ross</td>\n",
       "      <td>1</td>\n",
       "      <td>2</td>\n",
       "      <td>positive</td>\n",
       "      <td>944438400</td>\n",
       "      <td>A modern day fairy tale</td>\n",
       "      <td>A twist of rumplestiskin captured on film, sta...</td>\n",
       "    </tr>\n",
       "    <tr>\n",
       "      <th>417838</th>\n",
       "      <td>451855</td>\n",
       "      <td>B00004CXX9</td>\n",
       "      <td>AJH6LUC1UT1ON</td>\n",
       "      <td>The Phantom of the Opera</td>\n",
       "      <td>0</td>\n",
       "      <td>0</td>\n",
       "      <td>positive</td>\n",
       "      <td>946857600</td>\n",
       "      <td>FANTASTIC!</td>\n",
       "      <td>Beetlejuice is an excellent and funny movie. K...</td>\n",
       "    </tr>\n",
       "    <tr>\n",
       "      <th>346116</th>\n",
       "      <td>374422</td>\n",
       "      <td>B00004CI84</td>\n",
       "      <td>A1048CYU0OV4O8</td>\n",
       "      <td>Judy L. Eans</td>\n",
       "      <td>2</td>\n",
       "      <td>2</td>\n",
       "      <td>positive</td>\n",
       "      <td>947376000</td>\n",
       "      <td>GREAT</td>\n",
       "      <td>THIS IS ONE MOVIE THAT SHOULD BE IN YOUR MOVIE...</td>\n",
       "    </tr>\n",
       "    <tr>\n",
       "      <th>346041</th>\n",
       "      <td>374343</td>\n",
       "      <td>B00004CI84</td>\n",
       "      <td>A1B2IZU1JLZA6</td>\n",
       "      <td>Wes</td>\n",
       "      <td>19</td>\n",
       "      <td>23</td>\n",
       "      <td>negative</td>\n",
       "      <td>948240000</td>\n",
       "      <td>WARNING: CLAMSHELL EDITION IS EDITED TV VERSION</td>\n",
       "      <td>I, myself always enjoyed this movie, it's very...</td>\n",
       "    </tr>\n",
       "    <tr>\n",
       "      <th>70688</th>\n",
       "      <td>76882</td>\n",
       "      <td>B00002N8SM</td>\n",
       "      <td>A32DW342WBJ6BX</td>\n",
       "      <td>Buttersugar</td>\n",
       "      <td>0</td>\n",
       "      <td>0</td>\n",
       "      <td>positive</td>\n",
       "      <td>948672000</td>\n",
       "      <td>A sure death for flies</td>\n",
       "      <td>I bought a few of these after my apartment was...</td>\n",
       "    </tr>\n",
       "    <tr>\n",
       "      <th>346141</th>\n",
       "      <td>374450</td>\n",
       "      <td>B00004CI84</td>\n",
       "      <td>ACJR7EQF9S6FP</td>\n",
       "      <td>Jeremy Robertson</td>\n",
       "      <td>2</td>\n",
       "      <td>3</td>\n",
       "      <td>positive</td>\n",
       "      <td>951523200</td>\n",
       "      <td>Bettlejuice...Bettlejuice...BETTLEJUICE!</td>\n",
       "      <td>What happens when you say his name three times...</td>\n",
       "    </tr>\n",
       "    <tr>\n",
       "      <th>346094</th>\n",
       "      <td>374400</td>\n",
       "      <td>B00004CI84</td>\n",
       "      <td>A2DEE7F9XKP3ZR</td>\n",
       "      <td>jerome</td>\n",
       "      <td>0</td>\n",
       "      <td>3</td>\n",
       "      <td>positive</td>\n",
       "      <td>959990400</td>\n",
       "      <td>Research - Beatlejuice video - French version</td>\n",
       "      <td>I'm getting crazy.I'm looking for Beatlejuice ...</td>\n",
       "    </tr>\n",
       "    <tr>\n",
       "      <th>417883</th>\n",
       "      <td>451903</td>\n",
       "      <td>B00004CXX9</td>\n",
       "      <td>A2DEE7F9XKP3ZR</td>\n",
       "      <td>jerome</td>\n",
       "      <td>0</td>\n",
       "      <td>1</td>\n",
       "      <td>positive</td>\n",
       "      <td>959990400</td>\n",
       "      <td>Research</td>\n",
       "      <td>I'm getting crazy.&lt;p&gt;Is it really impossible t...</td>\n",
       "    </tr>\n",
       "    <tr>\n",
       "      <th>1146</th>\n",
       "      <td>1245</td>\n",
       "      <td>B00002Z754</td>\n",
       "      <td>A29Z5PI9BW2PU3</td>\n",
       "      <td>Robbie</td>\n",
       "      <td>7</td>\n",
       "      <td>7</td>\n",
       "      <td>positive</td>\n",
       "      <td>961718400</td>\n",
       "      <td>Great Product</td>\n",
       "      <td>This was a really good idea and the final prod...</td>\n",
       "    </tr>\n",
       "    <tr>\n",
       "      <th>1145</th>\n",
       "      <td>1244</td>\n",
       "      <td>B00002Z754</td>\n",
       "      <td>A3B8RCEI0FXFI6</td>\n",
       "      <td>B G Chase</td>\n",
       "      <td>10</td>\n",
       "      <td>10</td>\n",
       "      <td>positive</td>\n",
       "      <td>962236800</td>\n",
       "      <td>WOW Make your own 'slickers' !</td>\n",
       "      <td>I just received my shipment and could hardly w...</td>\n",
       "    </tr>\n",
       "    <tr>\n",
       "      <th>121041</th>\n",
       "      <td>131217</td>\n",
       "      <td>B00004RAMX</td>\n",
       "      <td>A5NQLNC6QPGSI</td>\n",
       "      <td>Kim Nason</td>\n",
       "      <td>7</td>\n",
       "      <td>8</td>\n",
       "      <td>positive</td>\n",
       "      <td>965001600</td>\n",
       "      <td>End your Gopher Problems</td>\n",
       "      <td>I have just recently purchased the Woodstream ...</td>\n",
       "    </tr>\n",
       "    <tr>\n",
       "      <th>138001</th>\n",
       "      <td>149770</td>\n",
       "      <td>B00004S1C5</td>\n",
       "      <td>A1KXONFPU2XQ5K</td>\n",
       "      <td>Stephanie Manley</td>\n",
       "      <td>8</td>\n",
       "      <td>8</td>\n",
       "      <td>positive</td>\n",
       "      <td>965779200</td>\n",
       "      <td>Very easy to use</td>\n",
       "      <td>This are so much easier to use than the Wilson...</td>\n",
       "    </tr>\n",
       "    <tr>\n",
       "      <th>138017</th>\n",
       "      <td>149789</td>\n",
       "      <td>B00004S1C6</td>\n",
       "      <td>A1KXONFPU2XQ5K</td>\n",
       "      <td>Stephanie Manley</td>\n",
       "      <td>26</td>\n",
       "      <td>28</td>\n",
       "      <td>positive</td>\n",
       "      <td>965779200</td>\n",
       "      <td>A must have!</td>\n",
       "      <td>These are easy to use, they do not make a mess...</td>\n",
       "    </tr>\n",
       "    <tr>\n",
       "      <th>346115</th>\n",
       "      <td>374421</td>\n",
       "      <td>B00004CI84</td>\n",
       "      <td>A1FJOY14X3MUHE</td>\n",
       "      <td>Justin Howard</td>\n",
       "      <td>2</td>\n",
       "      <td>2</td>\n",
       "      <td>positive</td>\n",
       "      <td>966297600</td>\n",
       "      <td>A fresh, original film from master storyteller...</td>\n",
       "      <td>This is such a great film, I don't even know h...</td>\n",
       "    </tr>\n",
       "    <tr>\n",
       "      <th>346102</th>\n",
       "      <td>374408</td>\n",
       "      <td>B00004CI84</td>\n",
       "      <td>A1GB1Q193DNFGR</td>\n",
       "      <td>Bruce Lee Pullen</td>\n",
       "      <td>5</td>\n",
       "      <td>5</td>\n",
       "      <td>positive</td>\n",
       "      <td>970531200</td>\n",
       "      <td>Fabulous Comedic Fanasy Directed by a Master</td>\n",
       "      <td>Beetlejuice is an awe-inspiring wonderfully am...</td>\n",
       "    </tr>\n",
       "    <tr>\n",
       "      <th>138000</th>\n",
       "      <td>149768</td>\n",
       "      <td>B00004S1C5</td>\n",
       "      <td>A7P76IGRZZBFJ</td>\n",
       "      <td>E. Thompson \"Soooooper Genius\"</td>\n",
       "      <td>18</td>\n",
       "      <td>18</td>\n",
       "      <td>positive</td>\n",
       "      <td>975974400</td>\n",
       "      <td>Who Needs Wilton?</td>\n",
       "      <td>I'm sick of scads of nasty toothpicks all over...</td>\n",
       "    </tr>\n",
       "    <tr>\n",
       "      <th>346078</th>\n",
       "      <td>374383</td>\n",
       "      <td>B00004CI84</td>\n",
       "      <td>A34NBH479RB0E</td>\n",
       "      <td>\"dmab6395\"</td>\n",
       "      <td>0</td>\n",
       "      <td>1</td>\n",
       "      <td>positive</td>\n",
       "      <td>977184000</td>\n",
       "      <td>FUNNY</td>\n",
       "      <td>I THOUGHT THIS MOVIE WAS SO FUNNY, MICHAEL KEA...</td>\n",
       "    </tr>\n",
       "    <tr>\n",
       "      <th>346054</th>\n",
       "      <td>374358</td>\n",
       "      <td>B00004CI84</td>\n",
       "      <td>A1HWMNSQF14MP8</td>\n",
       "      <td>will@socialaw.com</td>\n",
       "      <td>1</td>\n",
       "      <td>2</td>\n",
       "      <td>positive</td>\n",
       "      <td>978134400</td>\n",
       "      <td>A Afterlife Success</td>\n",
       "      <td>Many movies, have dealt with the figure of dea...</td>\n",
       "    </tr>\n",
       "    <tr>\n",
       "      <th>138018</th>\n",
       "      <td>149790</td>\n",
       "      <td>B00004S1C6</td>\n",
       "      <td>A1IU7S4HCK1XK0</td>\n",
       "      <td>Joanna Daneman</td>\n",
       "      <td>25</td>\n",
       "      <td>27</td>\n",
       "      <td>positive</td>\n",
       "      <td>982800000</td>\n",
       "      <td>Make your own Martha Stewart style cakes and c...</td>\n",
       "      <td>I don't know why anyone would ever use those l...</td>\n",
       "    </tr>\n",
       "    <tr>\n",
       "      <th>417901</th>\n",
       "      <td>451923</td>\n",
       "      <td>B00004CXX9</td>\n",
       "      <td>ANIMV3SPDD8SH</td>\n",
       "      <td>Guy De Federicis</td>\n",
       "      <td>1</td>\n",
       "      <td>12</td>\n",
       "      <td>negative</td>\n",
       "      <td>992217600</td>\n",
       "      <td>CASPER IS THE GHOST WITH THE MOST</td>\n",
       "      <td>Michael Keaton brings no distinguishing charac...</td>\n",
       "    </tr>\n",
       "    <tr>\n",
       "      <th>346037</th>\n",
       "      <td>374339</td>\n",
       "      <td>B00004CI84</td>\n",
       "      <td>AZRJH4JFB59VC</td>\n",
       "      <td>Lynwood E. Hines</td>\n",
       "      <td>21</td>\n",
       "      <td>23</td>\n",
       "      <td>negative</td>\n",
       "      <td>997228800</td>\n",
       "      <td>Great movie, terrible DVD</td>\n",
       "      <td>I am continually amazed at the shoddy treatmen...</td>\n",
       "    </tr>\n",
       "    <tr>\n",
       "      <th>346140</th>\n",
       "      <td>374449</td>\n",
       "      <td>B00004CI84</td>\n",
       "      <td>A3K3YJWV0N54ZO</td>\n",
       "      <td>Joey</td>\n",
       "      <td>2</td>\n",
       "      <td>3</td>\n",
       "      <td>positive</td>\n",
       "      <td>1001289600</td>\n",
       "      <td>Beetlejuice is a greatmovie, but they cheated ...</td>\n",
       "      <td>Just to warn you. when in trying to trick you ...</td>\n",
       "    </tr>\n",
       "    <tr>\n",
       "      <th>138020</th>\n",
       "      <td>149792</td>\n",
       "      <td>B00004S1C6</td>\n",
       "      <td>A3B5QJVM1TLYJG</td>\n",
       "      <td>Dan Crevier</td>\n",
       "      <td>11</td>\n",
       "      <td>12</td>\n",
       "      <td>positive</td>\n",
       "      <td>1003795200</td>\n",
       "      <td>Nice, bright colors!</td>\n",
       "      <td>I bought these to decorate some dia de los mue...</td>\n",
       "    </tr>\n",
       "    <tr>\n",
       "      <th>346033</th>\n",
       "      <td>374335</td>\n",
       "      <td>B00004CI84</td>\n",
       "      <td>A3L5V40F14R2GP</td>\n",
       "      <td>AARON</td>\n",
       "      <td>0</td>\n",
       "      <td>0</td>\n",
       "      <td>positive</td>\n",
       "      <td>1004054400</td>\n",
       "      <td>Beetlejuice! Beetlejuice! Beatlejuice!</td>\n",
       "      <td>Winona Ryder is HOT! HOT! HOT! as the gothic d...</td>\n",
       "    </tr>\n",
       "    <tr>\n",
       "      <th>138682</th>\n",
       "      <td>150500</td>\n",
       "      <td>0006641040</td>\n",
       "      <td>A1IJKK6Q1GTEAY</td>\n",
       "      <td>A Customer</td>\n",
       "      <td>2</td>\n",
       "      <td>2</td>\n",
       "      <td>positive</td>\n",
       "      <td>1009324800</td>\n",
       "      <td>It Was a favorite!</td>\n",
       "      <td>This was a favorite book of mine when I was a ...</td>\n",
       "    </tr>\n",
       "    <tr>\n",
       "      <th>333930</th>\n",
       "      <td>361317</td>\n",
       "      <td>B00005IX96</td>\n",
       "      <td>A3ODTU118FKC5J</td>\n",
       "      <td>Rosemarie E Smith</td>\n",
       "      <td>5</td>\n",
       "      <td>7</td>\n",
       "      <td>positive</td>\n",
       "      <td>1010275200</td>\n",
       "      <td>A little piece of heaven.</td>\n",
       "      <td>For years I have been trying to simulate a tru...</td>\n",
       "    </tr>\n",
       "    <tr>\n",
       "      <th>346032</th>\n",
       "      <td>374334</td>\n",
       "      <td>B00004CI84</td>\n",
       "      <td>A2HIZRVOKXKZ52</td>\n",
       "      <td>KAY N. FOWLER</td>\n",
       "      <td>0</td>\n",
       "      <td>0</td>\n",
       "      <td>positive</td>\n",
       "      <td>1012780800</td>\n",
       "      <td>Beetlejuice - Great Fun for Everyone!</td>\n",
       "      <td>When vacationing Adam and Barbara Maitland mee...</td>\n",
       "    </tr>\n",
       "    <tr>\n",
       "      <th>...</th>\n",
       "      <td>...</td>\n",
       "      <td>...</td>\n",
       "      <td>...</td>\n",
       "      <td>...</td>\n",
       "      <td>...</td>\n",
       "      <td>...</td>\n",
       "      <td>...</td>\n",
       "      <td>...</td>\n",
       "      <td>...</td>\n",
       "      <td>...</td>\n",
       "    </tr>\n",
       "    <tr>\n",
       "      <th>5472</th>\n",
       "      <td>5924</td>\n",
       "      <td>B00523NRVO</td>\n",
       "      <td>A2JDXKFZ0PFHKU</td>\n",
       "      <td>James W. Shondel</td>\n",
       "      <td>0</td>\n",
       "      <td>0</td>\n",
       "      <td>positive</td>\n",
       "      <td>1351209600</td>\n",
       "      <td>The perfect pop!</td>\n",
       "      <td>These lollipops are are well done, look exactl...</td>\n",
       "    </tr>\n",
       "    <tr>\n",
       "      <th>443952</th>\n",
       "      <td>480032</td>\n",
       "      <td>B003IHO8OG</td>\n",
       "      <td>A21XO4RCPWMEVK</td>\n",
       "      <td>The Prufessa</td>\n",
       "      <td>0</td>\n",
       "      <td>0</td>\n",
       "      <td>positive</td>\n",
       "      <td>1351209600</td>\n",
       "      <td>Gives Me The Focus I Need</td>\n",
       "      <td>This past summer I started experimenting with ...</td>\n",
       "    </tr>\n",
       "    <tr>\n",
       "      <th>189914</th>\n",
       "      <td>205938</td>\n",
       "      <td>B00005C2M2</td>\n",
       "      <td>A3IVNUHADVJKFA</td>\n",
       "      <td>Krystalyn A Kirschner</td>\n",
       "      <td>0</td>\n",
       "      <td>0</td>\n",
       "      <td>positive</td>\n",
       "      <td>1351209600</td>\n",
       "      <td>Perfect Gift</td>\n",
       "      <td>I got these to give out in a goodie bag for th...</td>\n",
       "    </tr>\n",
       "    <tr>\n",
       "      <th>116874</th>\n",
       "      <td>126741</td>\n",
       "      <td>B003IHO8LE</td>\n",
       "      <td>A1ZR68U4ZVLQCQ</td>\n",
       "      <td>Kenneth R. Hunt</td>\n",
       "      <td>0</td>\n",
       "      <td>0</td>\n",
       "      <td>positive</td>\n",
       "      <td>1351209600</td>\n",
       "      <td>Subtle yet effective</td>\n",
       "      <td>Though I, like many, aren't happy with the pri...</td>\n",
       "    </tr>\n",
       "    <tr>\n",
       "      <th>442739</th>\n",
       "      <td>478718</td>\n",
       "      <td>B00529PECI</td>\n",
       "      <td>A3H4L7TJKQHW4Q</td>\n",
       "      <td>notAyesperson \"Always in search of good books\"</td>\n",
       "      <td>0</td>\n",
       "      <td>0</td>\n",
       "      <td>negative</td>\n",
       "      <td>1351209600</td>\n",
       "      <td>One of the better one's</td>\n",
       "      <td>I tried one stick of this, and two other flavo...</td>\n",
       "    </tr>\n",
       "    <tr>\n",
       "      <th>510670</th>\n",
       "      <td>552162</td>\n",
       "      <td>B008PYVINQ</td>\n",
       "      <td>A1DRWYIO7JN1MD</td>\n",
       "      <td>Charles h</td>\n",
       "      <td>0</td>\n",
       "      <td>0</td>\n",
       "      <td>negative</td>\n",
       "      <td>1351209600</td>\n",
       "      <td>bot very cheesy</td>\n",
       "      <td>Got this about a month ago.first of all it sme...</td>\n",
       "    </tr>\n",
       "    <tr>\n",
       "      <th>138478</th>\n",
       "      <td>150285</td>\n",
       "      <td>B001SAVSHU</td>\n",
       "      <td>A1SGK9Z6F04XI5</td>\n",
       "      <td>Ann L. Everett \"Grandmother Ann\"</td>\n",
       "      <td>0</td>\n",
       "      <td>0</td>\n",
       "      <td>positive</td>\n",
       "      <td>1351209600</td>\n",
       "      <td>Sesame seed packets from Amazon</td>\n",
       "      <td>I particularly like this method of packaging. ...</td>\n",
       "    </tr>\n",
       "    <tr>\n",
       "      <th>479033</th>\n",
       "      <td>518008</td>\n",
       "      <td>B00529PFX6</td>\n",
       "      <td>A3H4L7TJKQHW4Q</td>\n",
       "      <td>notAyesperson \"Always in search of good books\"</td>\n",
       "      <td>0</td>\n",
       "      <td>0</td>\n",
       "      <td>negative</td>\n",
       "      <td>1351209600</td>\n",
       "      <td>Expensive</td>\n",
       "      <td>This is too expensive and very tough and salty...</td>\n",
       "    </tr>\n",
       "    <tr>\n",
       "      <th>190494</th>\n",
       "      <td>206554</td>\n",
       "      <td>B003HFA3XY</td>\n",
       "      <td>A1PLO6OW6O2Z1</td>\n",
       "      <td>Debra Sandifer \"lldcs\"</td>\n",
       "      <td>0</td>\n",
       "      <td>0</td>\n",
       "      <td>negative</td>\n",
       "      <td>1351209600</td>\n",
       "      <td>Not very tasty!</td>\n",
       "      <td>I love Arnold Plamer's and Starbucks has the b...</td>\n",
       "    </tr>\n",
       "    <tr>\n",
       "      <th>479530</th>\n",
       "      <td>518539</td>\n",
       "      <td>B0002YW26E</td>\n",
       "      <td>A506HOOCVL8GW</td>\n",
       "      <td>J. Kurz \"J. Q. Public\"</td>\n",
       "      <td>0</td>\n",
       "      <td>0</td>\n",
       "      <td>positive</td>\n",
       "      <td>1351209600</td>\n",
       "      <td>You won't believe what you'll catch!</td>\n",
       "      <td>I have been using this product for many years....</td>\n",
       "    </tr>\n",
       "    <tr>\n",
       "      <th>340517</th>\n",
       "      <td>368402</td>\n",
       "      <td>B007689U8W</td>\n",
       "      <td>A3FW29GQ2BNLHI</td>\n",
       "      <td>M. Spalding</td>\n",
       "      <td>0</td>\n",
       "      <td>0</td>\n",
       "      <td>positive</td>\n",
       "      <td>1351209600</td>\n",
       "      <td>Outstanding!</td>\n",
       "      <td>Fantastic flavor! The dark chocolate is creamy...</td>\n",
       "    </tr>\n",
       "    <tr>\n",
       "      <th>157477</th>\n",
       "      <td>170765</td>\n",
       "      <td>B00765PU2K</td>\n",
       "      <td>A1HZOO8M8RMQUR</td>\n",
       "      <td>S. Jensen \"gardener\"</td>\n",
       "      <td>0</td>\n",
       "      <td>0</td>\n",
       "      <td>positive</td>\n",
       "      <td>1351209600</td>\n",
       "      <td>Just what I expected!</td>\n",
       "      <td>I bought these in order to make vanilla and ka...</td>\n",
       "    </tr>\n",
       "    <tr>\n",
       "      <th>510455</th>\n",
       "      <td>551936</td>\n",
       "      <td>B000Y2CT6M</td>\n",
       "      <td>A4QPC05GM1H32</td>\n",
       "      <td>hollis101</td>\n",
       "      <td>0</td>\n",
       "      <td>0</td>\n",
       "      <td>positive</td>\n",
       "      <td>1351209600</td>\n",
       "      <td>Fantastic Instant Refried beans</td>\n",
       "      <td>Fantastic Instant Refried Beans have been a st...</td>\n",
       "    </tr>\n",
       "    <tr>\n",
       "      <th>236715</th>\n",
       "      <td>256792</td>\n",
       "      <td>B003G52BN0</td>\n",
       "      <td>A2O4V3MCB7EPPU</td>\n",
       "      <td>Bellingham Bookworm</td>\n",
       "      <td>0</td>\n",
       "      <td>0</td>\n",
       "      <td>positive</td>\n",
       "      <td>1351209600</td>\n",
       "      <td>One of my favorite K-cups flavors</td>\n",
       "      <td>This is one of my favorite k-cup flavors.  The...</td>\n",
       "    </tr>\n",
       "    <tr>\n",
       "      <th>441646</th>\n",
       "      <td>477560</td>\n",
       "      <td>B000084ETY</td>\n",
       "      <td>A1HRYC60VTMYC0</td>\n",
       "      <td>Ace</td>\n",
       "      <td>0</td>\n",
       "      <td>0</td>\n",
       "      <td>positive</td>\n",
       "      <td>1351209600</td>\n",
       "      <td>Cee Cee LOOOVES it, This I Know</td>\n",
       "      <td>The only reason I am giving it 4 stars instead...</td>\n",
       "    </tr>\n",
       "    <tr>\n",
       "      <th>344476</th>\n",
       "      <td>372663</td>\n",
       "      <td>B0083T6HC0</td>\n",
       "      <td>A3O8OORDK17OBT</td>\n",
       "      <td>N. Clark</td>\n",
       "      <td>0</td>\n",
       "      <td>0</td>\n",
       "      <td>negative</td>\n",
       "      <td>1351209600</td>\n",
       "      <td>Steer Clear-not as described</td>\n",
       "      <td>I wanted to try different K cups and didnt wan...</td>\n",
       "    </tr>\n",
       "    <tr>\n",
       "      <th>113341</th>\n",
       "      <td>122941</td>\n",
       "      <td>B0054ES1MG</td>\n",
       "      <td>A25QCYSED869Q3</td>\n",
       "      <td>EmoMiami</td>\n",
       "      <td>0</td>\n",
       "      <td>0</td>\n",
       "      <td>positive</td>\n",
       "      <td>1351209600</td>\n",
       "      <td>If you like mint candy......</td>\n",
       "      <td>This is the best hard mint candy in the world....</td>\n",
       "    </tr>\n",
       "    <tr>\n",
       "      <th>302755</th>\n",
       "      <td>327910</td>\n",
       "      <td>B0075JTJ42</td>\n",
       "      <td>A20SW5W6FQU0TY</td>\n",
       "      <td>felipe restrepo</td>\n",
       "      <td>0</td>\n",
       "      <td>0</td>\n",
       "      <td>positive</td>\n",
       "      <td>1351209600</td>\n",
       "      <td>Nice</td>\n",
       "      <td>Super give me full recovery after training in ...</td>\n",
       "    </tr>\n",
       "    <tr>\n",
       "      <th>426410</th>\n",
       "      <td>461154</td>\n",
       "      <td>B0002NVKZ4</td>\n",
       "      <td>A94YB71KEDA3X</td>\n",
       "      <td>Joy</td>\n",
       "      <td>0</td>\n",
       "      <td>0</td>\n",
       "      <td>positive</td>\n",
       "      <td>1351209600</td>\n",
       "      <td>Our pantry staple!</td>\n",
       "      <td>I first tried these last year and absolutely f...</td>\n",
       "    </tr>\n",
       "    <tr>\n",
       "      <th>136439</th>\n",
       "      <td>148075</td>\n",
       "      <td>B001R3BQNY</td>\n",
       "      <td>A1EAVF2W1QBTU1</td>\n",
       "      <td>M. Mack \"mack85\"</td>\n",
       "      <td>0</td>\n",
       "      <td>0</td>\n",
       "      <td>positive</td>\n",
       "      <td>1351209600</td>\n",
       "      <td>WoW I was a Phsyco path at work</td>\n",
       "      <td>Finally I was a physo path at work! I go in at...</td>\n",
       "    </tr>\n",
       "    <tr>\n",
       "      <th>90340</th>\n",
       "      <td>98294</td>\n",
       "      <td>B0002LY6W0</td>\n",
       "      <td>A1BX08Y0GIT5RU</td>\n",
       "      <td>L. Nguyen \"Always on the lookout for a good d...</td>\n",
       "      <td>0</td>\n",
       "      <td>0</td>\n",
       "      <td>positive</td>\n",
       "      <td>1351209600</td>\n",
       "      <td>The BEST fig spread on the market</td>\n",
       "      <td>This is my go to spread when I serve a cheese ...</td>\n",
       "    </tr>\n",
       "    <tr>\n",
       "      <th>391396</th>\n",
       "      <td>423201</td>\n",
       "      <td>B0055RU9RC</td>\n",
       "      <td>A1PLO6OW6O2Z1</td>\n",
       "      <td>Debra Sandifer \"lldcs\"</td>\n",
       "      <td>0</td>\n",
       "      <td>0</td>\n",
       "      <td>positive</td>\n",
       "      <td>1351209600</td>\n",
       "      <td>Love it!</td>\n",
       "      <td>My dog has digestive issues and this product w...</td>\n",
       "    </tr>\n",
       "    <tr>\n",
       "      <th>304749</th>\n",
       "      <td>330055</td>\n",
       "      <td>B0057QFOK8</td>\n",
       "      <td>AFRQ2IIV4MBLK</td>\n",
       "      <td>Itserk Noddyl \"Dedicated Reader\"</td>\n",
       "      <td>0</td>\n",
       "      <td>0</td>\n",
       "      <td>positive</td>\n",
       "      <td>1351209600</td>\n",
       "      <td>Yum!!</td>\n",
       "      <td>I go through a lot of this garlic olive oil - ...</td>\n",
       "    </tr>\n",
       "    <tr>\n",
       "      <th>433753</th>\n",
       "      <td>469063</td>\n",
       "      <td>B00750E0X6</td>\n",
       "      <td>A2CPS5MWG87O7E</td>\n",
       "      <td>k.kollevoll</td>\n",
       "      <td>0</td>\n",
       "      <td>0</td>\n",
       "      <td>negative</td>\n",
       "      <td>1351209600</td>\n",
       "      <td>not what i expected</td>\n",
       "      <td>when i ordered this i expected a big box full ...</td>\n",
       "    </tr>\n",
       "    <tr>\n",
       "      <th>275846</th>\n",
       "      <td>298945</td>\n",
       "      <td>B0012C2GFM</td>\n",
       "      <td>A2T28XGN21AZ0A</td>\n",
       "      <td>Hubert Farnsworth</td>\n",
       "      <td>0</td>\n",
       "      <td>0</td>\n",
       "      <td>negative</td>\n",
       "      <td>1351209600</td>\n",
       "      <td>Super healthy but tastes like ass</td>\n",
       "      <td>I have no idea what these people are thinking ...</td>\n",
       "    </tr>\n",
       "    <tr>\n",
       "      <th>511105</th>\n",
       "      <td>552637</td>\n",
       "      <td>B0012EYELE</td>\n",
       "      <td>AWQOTHBNJBSVB</td>\n",
       "      <td>Gregory E. Grant \"GG\"</td>\n",
       "      <td>0</td>\n",
       "      <td>0</td>\n",
       "      <td>negative</td>\n",
       "      <td>1351209600</td>\n",
       "      <td>Couldn't tell you how it tasted</td>\n",
       "      <td>The bottle was not sealed, and when I opened t...</td>\n",
       "    </tr>\n",
       "    <tr>\n",
       "      <th>282454</th>\n",
       "      <td>306008</td>\n",
       "      <td>B0058CGLH6</td>\n",
       "      <td>A3QRR5YN6ALFPG</td>\n",
       "      <td>james a riche</td>\n",
       "      <td>0</td>\n",
       "      <td>0</td>\n",
       "      <td>negative</td>\n",
       "      <td>1351209600</td>\n",
       "      <td>If you like Campbells Pepper pot soup then don...</td>\n",
       "      <td>Not at all like pepper pot soup, it is just a ...</td>\n",
       "    </tr>\n",
       "    <tr>\n",
       "      <th>311138</th>\n",
       "      <td>336872</td>\n",
       "      <td>B0012KB4U2</td>\n",
       "      <td>AGQBI6601XH2R</td>\n",
       "      <td>DaniC</td>\n",
       "      <td>0</td>\n",
       "      <td>0</td>\n",
       "      <td>positive</td>\n",
       "      <td>1351209600</td>\n",
       "      <td>Both cats love these!</td>\n",
       "      <td>They only like this brand and flavor of treat....</td>\n",
       "    </tr>\n",
       "    <tr>\n",
       "      <th>524273</th>\n",
       "      <td>566798</td>\n",
       "      <td>B001PQTYN2</td>\n",
       "      <td>A3OTHWG8LLCLMU</td>\n",
       "      <td>PACKERS FAN \"Gordon Boone\"</td>\n",
       "      <td>1</td>\n",
       "      <td>1</td>\n",
       "      <td>positive</td>\n",
       "      <td>1351209600</td>\n",
       "      <td>Great</td>\n",
       "      <td>If you like a great , hot, sauce then buy this...</td>\n",
       "    </tr>\n",
       "    <tr>\n",
       "      <th>355171</th>\n",
       "      <td>384161</td>\n",
       "      <td>B000EVWQZW</td>\n",
       "      <td>A2PCNXBSKCABG5</td>\n",
       "      <td>Whit</td>\n",
       "      <td>0</td>\n",
       "      <td>0</td>\n",
       "      <td>positive</td>\n",
       "      <td>1351209600</td>\n",
       "      <td>Versatile Mix</td>\n",
       "      <td>This mix makes a good bread or can also be use...</td>\n",
       "    </tr>\n",
       "  </tbody>\n",
       "</table>\n",
       "<p>364171 rows × 10 columns</p>\n",
       "</div>"
      ],
      "text/plain": [
       "            Id   ProductId          UserId  \\\n",
       "138706  150524  0006641040   ACITT7DI6IDDL   \n",
       "138683  150501  0006641040   AJ46FKXOVC7NR   \n",
       "417839  451856  B00004CXX9   AIUWLEQ1ADEG5   \n",
       "346055  374359  B00004CI84  A344SMIA5JECGM   \n",
       "417838  451855  B00004CXX9   AJH6LUC1UT1ON   \n",
       "346116  374422  B00004CI84  A1048CYU0OV4O8   \n",
       "346041  374343  B00004CI84   A1B2IZU1JLZA6   \n",
       "70688    76882  B00002N8SM  A32DW342WBJ6BX   \n",
       "346141  374450  B00004CI84   ACJR7EQF9S6FP   \n",
       "346094  374400  B00004CI84  A2DEE7F9XKP3ZR   \n",
       "417883  451903  B00004CXX9  A2DEE7F9XKP3ZR   \n",
       "1146      1245  B00002Z754  A29Z5PI9BW2PU3   \n",
       "1145      1244  B00002Z754  A3B8RCEI0FXFI6   \n",
       "121041  131217  B00004RAMX   A5NQLNC6QPGSI   \n",
       "138001  149770  B00004S1C5  A1KXONFPU2XQ5K   \n",
       "138017  149789  B00004S1C6  A1KXONFPU2XQ5K   \n",
       "346115  374421  B00004CI84  A1FJOY14X3MUHE   \n",
       "346102  374408  B00004CI84  A1GB1Q193DNFGR   \n",
       "138000  149768  B00004S1C5   A7P76IGRZZBFJ   \n",
       "346078  374383  B00004CI84   A34NBH479RB0E   \n",
       "346054  374358  B00004CI84  A1HWMNSQF14MP8   \n",
       "138018  149790  B00004S1C6  A1IU7S4HCK1XK0   \n",
       "417901  451923  B00004CXX9   ANIMV3SPDD8SH   \n",
       "346037  374339  B00004CI84   AZRJH4JFB59VC   \n",
       "346140  374449  B00004CI84  A3K3YJWV0N54ZO   \n",
       "138020  149792  B00004S1C6  A3B5QJVM1TLYJG   \n",
       "346033  374335  B00004CI84  A3L5V40F14R2GP   \n",
       "138682  150500  0006641040  A1IJKK6Q1GTEAY   \n",
       "333930  361317  B00005IX96  A3ODTU118FKC5J   \n",
       "346032  374334  B00004CI84  A2HIZRVOKXKZ52   \n",
       "...        ...         ...             ...   \n",
       "5472      5924  B00523NRVO  A2JDXKFZ0PFHKU   \n",
       "443952  480032  B003IHO8OG  A21XO4RCPWMEVK   \n",
       "189914  205938  B00005C2M2  A3IVNUHADVJKFA   \n",
       "116874  126741  B003IHO8LE  A1ZR68U4ZVLQCQ   \n",
       "442739  478718  B00529PECI  A3H4L7TJKQHW4Q   \n",
       "510670  552162  B008PYVINQ  A1DRWYIO7JN1MD   \n",
       "138478  150285  B001SAVSHU  A1SGK9Z6F04XI5   \n",
       "479033  518008  B00529PFX6  A3H4L7TJKQHW4Q   \n",
       "190494  206554  B003HFA3XY   A1PLO6OW6O2Z1   \n",
       "479530  518539  B0002YW26E   A506HOOCVL8GW   \n",
       "340517  368402  B007689U8W  A3FW29GQ2BNLHI   \n",
       "157477  170765  B00765PU2K  A1HZOO8M8RMQUR   \n",
       "510455  551936  B000Y2CT6M   A4QPC05GM1H32   \n",
       "236715  256792  B003G52BN0  A2O4V3MCB7EPPU   \n",
       "441646  477560  B000084ETY  A1HRYC60VTMYC0   \n",
       "344476  372663  B0083T6HC0  A3O8OORDK17OBT   \n",
       "113341  122941  B0054ES1MG  A25QCYSED869Q3   \n",
       "302755  327910  B0075JTJ42  A20SW5W6FQU0TY   \n",
       "426410  461154  B0002NVKZ4   A94YB71KEDA3X   \n",
       "136439  148075  B001R3BQNY  A1EAVF2W1QBTU1   \n",
       "90340    98294  B0002LY6W0  A1BX08Y0GIT5RU   \n",
       "391396  423201  B0055RU9RC   A1PLO6OW6O2Z1   \n",
       "304749  330055  B0057QFOK8   AFRQ2IIV4MBLK   \n",
       "433753  469063  B00750E0X6  A2CPS5MWG87O7E   \n",
       "275846  298945  B0012C2GFM  A2T28XGN21AZ0A   \n",
       "511105  552637  B0012EYELE   AWQOTHBNJBSVB   \n",
       "282454  306008  B0058CGLH6  A3QRR5YN6ALFPG   \n",
       "311138  336872  B0012KB4U2   AGQBI6601XH2R   \n",
       "524273  566798  B001PQTYN2  A3OTHWG8LLCLMU   \n",
       "355171  384161  B000EVWQZW  A2PCNXBSKCABG5   \n",
       "\n",
       "                                             ProfileName  \\\n",
       "138706                                   shari zychinski   \n",
       "138683                                Nicholas A Mesiano   \n",
       "417839                                  Elizabeth Medina   \n",
       "346055                                   Vincent P. Ross   \n",
       "417838                          The Phantom of the Opera   \n",
       "346116                                      Judy L. Eans   \n",
       "346041                                               Wes   \n",
       "70688                                        Buttersugar   \n",
       "346141                                  Jeremy Robertson   \n",
       "346094                                            jerome   \n",
       "417883                                            jerome   \n",
       "1146                                              Robbie   \n",
       "1145                                           B G Chase   \n",
       "121041                                         Kim Nason   \n",
       "138001                                  Stephanie Manley   \n",
       "138017                                  Stephanie Manley   \n",
       "346115                                     Justin Howard   \n",
       "346102                                  Bruce Lee Pullen   \n",
       "138000                    E. Thompson \"Soooooper Genius\"   \n",
       "346078                                        \"dmab6395\"   \n",
       "346054                                 will@socialaw.com   \n",
       "138018                                    Joanna Daneman   \n",
       "417901                                  Guy De Federicis   \n",
       "346037                                  Lynwood E. Hines   \n",
       "346140                                              Joey   \n",
       "138020                                       Dan Crevier   \n",
       "346033                                             AARON   \n",
       "138682                                        A Customer   \n",
       "333930                                 Rosemarie E Smith   \n",
       "346032                                     KAY N. FOWLER   \n",
       "...                                                  ...   \n",
       "5472                                    James W. Shondel   \n",
       "443952                                      The Prufessa   \n",
       "189914                             Krystalyn A Kirschner   \n",
       "116874                                   Kenneth R. Hunt   \n",
       "442739    notAyesperson \"Always in search of good books\"   \n",
       "510670                                         Charles h   \n",
       "138478                  Ann L. Everett \"Grandmother Ann\"   \n",
       "479033    notAyesperson \"Always in search of good books\"   \n",
       "190494                            Debra Sandifer \"lldcs\"   \n",
       "479530                            J. Kurz \"J. Q. Public\"   \n",
       "340517                                       M. Spalding   \n",
       "157477                              S. Jensen \"gardener\"   \n",
       "510455                                         hollis101   \n",
       "236715                               Bellingham Bookworm   \n",
       "441646                                               Ace   \n",
       "344476                                          N. Clark   \n",
       "113341                                          EmoMiami   \n",
       "302755                                   felipe restrepo   \n",
       "426410                                               Joy   \n",
       "136439                                  M. Mack \"mack85\"   \n",
       "90340   L. Nguyen \"Always on the lookout for a good d...   \n",
       "391396                            Debra Sandifer \"lldcs\"   \n",
       "304749                  Itserk Noddyl \"Dedicated Reader\"   \n",
       "433753                                       k.kollevoll   \n",
       "275846                                 Hubert Farnsworth   \n",
       "511105                             Gregory E. Grant \"GG\"   \n",
       "282454                                     james a riche   \n",
       "311138                                             DaniC   \n",
       "524273                        PACKERS FAN \"Gordon Boone\"   \n",
       "355171                                              Whit   \n",
       "\n",
       "        HelpfulnessNumerator  HelpfulnessDenominator     Score        Time  \\\n",
       "138706                     0                       0  positive   939340800   \n",
       "138683                     2                       2  positive   940809600   \n",
       "417839                     0                       0  positive   944092800   \n",
       "346055                     1                       2  positive   944438400   \n",
       "417838                     0                       0  positive   946857600   \n",
       "346116                     2                       2  positive   947376000   \n",
       "346041                    19                      23  negative   948240000   \n",
       "70688                      0                       0  positive   948672000   \n",
       "346141                     2                       3  positive   951523200   \n",
       "346094                     0                       3  positive   959990400   \n",
       "417883                     0                       1  positive   959990400   \n",
       "1146                       7                       7  positive   961718400   \n",
       "1145                      10                      10  positive   962236800   \n",
       "121041                     7                       8  positive   965001600   \n",
       "138001                     8                       8  positive   965779200   \n",
       "138017                    26                      28  positive   965779200   \n",
       "346115                     2                       2  positive   966297600   \n",
       "346102                     5                       5  positive   970531200   \n",
       "138000                    18                      18  positive   975974400   \n",
       "346078                     0                       1  positive   977184000   \n",
       "346054                     1                       2  positive   978134400   \n",
       "138018                    25                      27  positive   982800000   \n",
       "417901                     1                      12  negative   992217600   \n",
       "346037                    21                      23  negative   997228800   \n",
       "346140                     2                       3  positive  1001289600   \n",
       "138020                    11                      12  positive  1003795200   \n",
       "346033                     0                       0  positive  1004054400   \n",
       "138682                     2                       2  positive  1009324800   \n",
       "333930                     5                       7  positive  1010275200   \n",
       "346032                     0                       0  positive  1012780800   \n",
       "...                      ...                     ...       ...         ...   \n",
       "5472                       0                       0  positive  1351209600   \n",
       "443952                     0                       0  positive  1351209600   \n",
       "189914                     0                       0  positive  1351209600   \n",
       "116874                     0                       0  positive  1351209600   \n",
       "442739                     0                       0  negative  1351209600   \n",
       "510670                     0                       0  negative  1351209600   \n",
       "138478                     0                       0  positive  1351209600   \n",
       "479033                     0                       0  negative  1351209600   \n",
       "190494                     0                       0  negative  1351209600   \n",
       "479530                     0                       0  positive  1351209600   \n",
       "340517                     0                       0  positive  1351209600   \n",
       "157477                     0                       0  positive  1351209600   \n",
       "510455                     0                       0  positive  1351209600   \n",
       "236715                     0                       0  positive  1351209600   \n",
       "441646                     0                       0  positive  1351209600   \n",
       "344476                     0                       0  negative  1351209600   \n",
       "113341                     0                       0  positive  1351209600   \n",
       "302755                     0                       0  positive  1351209600   \n",
       "426410                     0                       0  positive  1351209600   \n",
       "136439                     0                       0  positive  1351209600   \n",
       "90340                      0                       0  positive  1351209600   \n",
       "391396                     0                       0  positive  1351209600   \n",
       "304749                     0                       0  positive  1351209600   \n",
       "433753                     0                       0  negative  1351209600   \n",
       "275846                     0                       0  negative  1351209600   \n",
       "511105                     0                       0  negative  1351209600   \n",
       "282454                     0                       0  negative  1351209600   \n",
       "311138                     0                       0  positive  1351209600   \n",
       "524273                     1                       1  positive  1351209600   \n",
       "355171                     0                       0  positive  1351209600   \n",
       "\n",
       "                                                  Summary  \\\n",
       "138706                          EVERY book is educational   \n",
       "138683  This whole series is great way to spend time w...   \n",
       "417839                               Entertainingl Funny!   \n",
       "346055                            A modern day fairy tale   \n",
       "417838                                         FANTASTIC!   \n",
       "346116                                              GREAT   \n",
       "346041    WARNING: CLAMSHELL EDITION IS EDITED TV VERSION   \n",
       "70688                              A sure death for flies   \n",
       "346141           Bettlejuice...Bettlejuice...BETTLEJUICE!   \n",
       "346094      Research - Beatlejuice video - French version   \n",
       "417883                                           Research   \n",
       "1146                                        Great Product   \n",
       "1145                       WOW Make your own 'slickers' !   \n",
       "121041                           End your Gopher Problems   \n",
       "138001                                   Very easy to use   \n",
       "138017                                       A must have!   \n",
       "346115  A fresh, original film from master storyteller...   \n",
       "346102       Fabulous Comedic Fanasy Directed by a Master   \n",
       "138000                                  Who Needs Wilton?   \n",
       "346078                                              FUNNY   \n",
       "346054                                A Afterlife Success   \n",
       "138018  Make your own Martha Stewart style cakes and c...   \n",
       "417901                  CASPER IS THE GHOST WITH THE MOST   \n",
       "346037                          Great movie, terrible DVD   \n",
       "346140  Beetlejuice is a greatmovie, but they cheated ...   \n",
       "138020                               Nice, bright colors!   \n",
       "346033             Beetlejuice! Beetlejuice! Beatlejuice!   \n",
       "138682                                 It Was a favorite!   \n",
       "333930                          A little piece of heaven.   \n",
       "346032              Beetlejuice - Great Fun for Everyone!   \n",
       "...                                                   ...   \n",
       "5472                                     The perfect pop!   \n",
       "443952                          Gives Me The Focus I Need   \n",
       "189914                                       Perfect Gift   \n",
       "116874                               Subtle yet effective   \n",
       "442739                            One of the better one's   \n",
       "510670                                    bot very cheesy   \n",
       "138478                    Sesame seed packets from Amazon   \n",
       "479033                                          Expensive   \n",
       "190494                                    Not very tasty!   \n",
       "479530               You won't believe what you'll catch!   \n",
       "340517                                       Outstanding!   \n",
       "157477                              Just what I expected!   \n",
       "510455                    Fantastic Instant Refried beans   \n",
       "236715                  One of my favorite K-cups flavors   \n",
       "441646                    Cee Cee LOOOVES it, This I Know   \n",
       "344476                       Steer Clear-not as described   \n",
       "113341                       If you like mint candy......   \n",
       "302755                                               Nice   \n",
       "426410                                 Our pantry staple!   \n",
       "136439                    WoW I was a Phsyco path at work   \n",
       "90340                   The BEST fig spread on the market   \n",
       "391396                                           Love it!   \n",
       "304749                                              Yum!!   \n",
       "433753                                not what i expected   \n",
       "275846                  Super healthy but tastes like ass   \n",
       "511105                    Couldn't tell you how it tasted   \n",
       "282454  If you like Campbells Pepper pot soup then don...   \n",
       "311138                              Both cats love these!   \n",
       "524273                                              Great   \n",
       "355171                                      Versatile Mix   \n",
       "\n",
       "                                                     Text  \n",
       "138706  this witty little book makes my son laugh at l...  \n",
       "138683  I can remember seeing the show when it aired o...  \n",
       "417839  Beetlejuice is a well written movie ..... ever...  \n",
       "346055  A twist of rumplestiskin captured on film, sta...  \n",
       "417838  Beetlejuice is an excellent and funny movie. K...  \n",
       "346116  THIS IS ONE MOVIE THAT SHOULD BE IN YOUR MOVIE...  \n",
       "346041  I, myself always enjoyed this movie, it's very...  \n",
       "70688   I bought a few of these after my apartment was...  \n",
       "346141  What happens when you say his name three times...  \n",
       "346094  I'm getting crazy.I'm looking for Beatlejuice ...  \n",
       "417883  I'm getting crazy.<p>Is it really impossible t...  \n",
       "1146    This was a really good idea and the final prod...  \n",
       "1145    I just received my shipment and could hardly w...  \n",
       "121041  I have just recently purchased the Woodstream ...  \n",
       "138001  This are so much easier to use than the Wilson...  \n",
       "138017  These are easy to use, they do not make a mess...  \n",
       "346115  This is such a great film, I don't even know h...  \n",
       "346102  Beetlejuice is an awe-inspiring wonderfully am...  \n",
       "138000  I'm sick of scads of nasty toothpicks all over...  \n",
       "346078  I THOUGHT THIS MOVIE WAS SO FUNNY, MICHAEL KEA...  \n",
       "346054  Many movies, have dealt with the figure of dea...  \n",
       "138018  I don't know why anyone would ever use those l...  \n",
       "417901  Michael Keaton brings no distinguishing charac...  \n",
       "346037  I am continually amazed at the shoddy treatmen...  \n",
       "346140  Just to warn you. when in trying to trick you ...  \n",
       "138020  I bought these to decorate some dia de los mue...  \n",
       "346033  Winona Ryder is HOT! HOT! HOT! as the gothic d...  \n",
       "138682  This was a favorite book of mine when I was a ...  \n",
       "333930  For years I have been trying to simulate a tru...  \n",
       "346032  When vacationing Adam and Barbara Maitland mee...  \n",
       "...                                                   ...  \n",
       "5472    These lollipops are are well done, look exactl...  \n",
       "443952  This past summer I started experimenting with ...  \n",
       "189914  I got these to give out in a goodie bag for th...  \n",
       "116874  Though I, like many, aren't happy with the pri...  \n",
       "442739  I tried one stick of this, and two other flavo...  \n",
       "510670  Got this about a month ago.first of all it sme...  \n",
       "138478  I particularly like this method of packaging. ...  \n",
       "479033  This is too expensive and very tough and salty...  \n",
       "190494  I love Arnold Plamer's and Starbucks has the b...  \n",
       "479530  I have been using this product for many years....  \n",
       "340517  Fantastic flavor! The dark chocolate is creamy...  \n",
       "157477  I bought these in order to make vanilla and ka...  \n",
       "510455  Fantastic Instant Refried Beans have been a st...  \n",
       "236715  This is one of my favorite k-cup flavors.  The...  \n",
       "441646  The only reason I am giving it 4 stars instead...  \n",
       "344476  I wanted to try different K cups and didnt wan...  \n",
       "113341  This is the best hard mint candy in the world....  \n",
       "302755  Super give me full recovery after training in ...  \n",
       "426410  I first tried these last year and absolutely f...  \n",
       "136439  Finally I was a physo path at work! I go in at...  \n",
       "90340   This is my go to spread when I serve a cheese ...  \n",
       "391396  My dog has digestive issues and this product w...  \n",
       "304749  I go through a lot of this garlic olive oil - ...  \n",
       "433753  when i ordered this i expected a big box full ...  \n",
       "275846  I have no idea what these people are thinking ...  \n",
       "511105  The bottle was not sealed, and when I opened t...  \n",
       "282454  Not at all like pepper pot soup, it is just a ...  \n",
       "311138  They only like this brand and flavor of treat....  \n",
       "524273  If you like a great , hot, sauce then buy this...  \n",
       "355171  This mix makes a good bread or can also be use...  \n",
       "\n",
       "[364171 rows x 10 columns]"
      ]
     },
     "execution_count": 10,
     "metadata": {},
     "output_type": "execute_result"
    }
   ],
   "source": [
    "final.sort_values('Time')"
   ]
  },
  {
   "cell_type": "code",
   "execution_count": 11,
   "metadata": {},
   "outputs": [],
   "source": [
    "final_data = final.head(250000)"
   ]
  },
  {
   "cell_type": "code",
   "execution_count": 12,
   "metadata": {},
   "outputs": [
    {
     "data": {
      "text/plain": [
       "positive    212075\n",
       "negative     37925\n",
       "Name: Score, dtype: int64"
      ]
     },
     "execution_count": 12,
     "metadata": {},
     "output_type": "execute_result"
    }
   ],
   "source": [
    "final_data['Score'].value_counts()"
   ]
  },
  {
   "cell_type": "markdown",
   "metadata": {},
   "source": [
    "# 7.2.3 Text Preprocessing: Stemming, stop-word removal and Lemmatization.\n",
    "\n",
    "Now that we have finished deduplication our data requires some preprocessing before we go on further with analysis and making the prediction model.\n",
    "\n",
    "Hence in the Preprocessing phase we do the following in the order below:-\n",
    "\n",
    "1. Begin by removing the html tags\n",
    "2. Remove any punctuations or limited set of special characters like , or . or # etc.\n",
    "3. Check if the word is made up of english letters and is not alpha-numeric\n",
    "4. Check to see if the length of the word is greater than 2 (as it was researched that there is no adjective in 2-letters)\n",
    "5. Convert the word to lowercase\n",
    "6. Remove Stopwords\n",
    "7. Finally Snowball Stemming the word (it was obsereved to be better than Porter Stemming)\n",
    "8. After which we collect the words used to describe positive and negative reviews"
   ]
  },
  {
   "cell_type": "code",
   "execution_count": 13,
   "metadata": {},
   "outputs": [
    {
     "name": "stdout",
     "output_type": "stream",
     "text": [
      "6\n",
      "I set aside at least an hour each day to read to my son (3 y/o). At this point, I consider myself a connoisseur of children's books and this is one of the best. Santa Clause put this under the tree. Since then, we've read it perpetually and he loves it.<br /><br />First, this book taught him the months of the year.<br /><br />Second, it's a pleasure to read. Well suited to 1.5 y/o old to 4+.<br /><br />Very few children's books are worth owning. Most should be borrowed from the library. This book, however, deserves a permanent spot on your shelf. Sendak's best.\n"
     ]
    }
   ],
   "source": [
    "# find sentences containing HTML tags\n",
    "import re\n",
    "from nltk.corpus import stopwords\n",
    "from nltk.stem.wordnet import WordNetLemmatizer\n",
    "i=0;\n",
    "for sent in final_data['Text'].values:\n",
    "    if (len(re.findall('<.*?>', sent))):\n",
    "        print(i)\n",
    "        print(sent)\n",
    "        break;\n",
    "    i += 1;"
   ]
  },
  {
   "cell_type": "code",
   "execution_count": 14,
   "metadata": {},
   "outputs": [],
   "source": [
    "stop = set(stopwords.words('english')) #set of stopwords\n",
    "sno = nltk.stem.SnowballStemmer('english') #initialising the snowball stemmer\n",
    "\n",
    "def cleanhtml(sentence): #function to clean the word of any html-tags\n",
    "    cleanr = re.compile('<.*?>')\n",
    "    cleantext = re.sub(cleanr, ' ', sentence)\n",
    "    return cleantext\n",
    "def cleanpunc(sentence): #function to clean the word of any punctuation or special characters\n",
    "    cleaned = re.sub(r'[?|!|\\'|\"|#]',r'',sentence)\n",
    "    cleaned = re.sub(r'[.|,|)|(|\\|/]',r' ',cleaned)\n",
    "    return  cleaned"
   ]
  },
  {
   "cell_type": "code",
   "execution_count": 15,
   "metadata": {},
   "outputs": [],
   "source": [
    "#Code for implementing step-by-step the checks mentioned in the pre-processing phase\n",
    "# this code takes a while to run as it needs to run on 500k sentences.\n",
    "i=0\n",
    "str1=' '\n",
    "final_string=[]\n",
    "all_positive_words=[] # store words from +ve reviews here\n",
    "all_negative_words=[] # store words from -ve reviews here.\n",
    "s=''\n",
    "for sent in final_data['Text'].values:\n",
    "    filtered_sentence=[]\n",
    "    #print(sent);\n",
    "    sent=cleanhtml(sent) # remove HTMl tags\n",
    "    for w in sent.split():\n",
    "        for cleaned_words in cleanpunc(w).split():\n",
    "            if((cleaned_words.isalpha()) & (len(cleaned_words)>2)):    \n",
    "                if(cleaned_words.lower() not in stop):\n",
    "                    s=(sno.stem(cleaned_words.lower())).encode('utf8')\n",
    "                    filtered_sentence.append(s)\n",
    "                    if (final_data['Score'].values)[i] == 'positive': \n",
    "                        all_positive_words.append(s) #list of all words used to describe positive reviews\n",
    "                    if(final_data['Score'].values)[i] == 'negative':\n",
    "                        all_negative_words.append(s) #list of all words used to describe negative reviews reviews\n",
    "                else:\n",
    "                    continue\n",
    "            else:\n",
    "                continue \n",
    "    #print(filtered_sentence)\n",
    "    str1 = b\" \".join(filtered_sentence) #final string of cleaned words\n",
    "    #print(\"***********************************************************************\")\n",
    "    \n",
    "    final_string.append(str1)\n",
    "    i+=1"
   ]
  },
  {
   "cell_type": "code",
   "execution_count": 17,
   "metadata": {},
   "outputs": [],
   "source": [
    "final_data['CleanedText']=final_string #adding a column of CleanedText which displays the data after pre-processing of the review \n",
    "final_data['CleanedText']=final_data['CleanedText'].str.decode(\"utf-8\")"
   ]
  },
  {
   "cell_type": "code",
   "execution_count": 18,
   "metadata": {},
   "outputs": [
    {
     "data": {
      "text/plain": [
       "(250000,)"
      ]
     },
     "execution_count": 18,
     "metadata": {},
     "output_type": "execute_result"
    }
   ],
   "source": [
    "X = final_data[\"CleanedText\"]\n",
    "\n",
    "X.shape"
   ]
  },
  {
   "cell_type": "code",
   "execution_count": 19,
   "metadata": {},
   "outputs": [
    {
     "data": {
      "text/plain": [
       "(250000,)"
      ]
     },
     "execution_count": 19,
     "metadata": {},
     "output_type": "execute_result"
    }
   ],
   "source": [
    "y = final_data['Score']\n",
    "y.shape"
   ]
  },
  {
   "cell_type": "code",
   "execution_count": 20,
   "metadata": {},
   "outputs": [],
   "source": [
    "# split the data set into train and test\n",
    "X_train, x_test, Y_train, y_test = cross_validation.train_test_split(X, y, test_size=0.3, random_state=0)"
   ]
  },
  {
   "cell_type": "code",
   "execution_count": 31,
   "metadata": {},
   "outputs": [],
   "source": [
    "from sklearn.naive_bayes import BernoulliNB\n",
    "\n",
    "def Run_BernoulliNB(X_train, Y_train,x_test,y_test,VectorizationType):\n",
    "    \n",
    "    alpha_values = np.arange(1, 100, 2)\n",
    "    \n",
    "    # empty list that will hold cv scores\n",
    "    cv_scores = []\n",
    "\n",
    "    # perform 10-fold cross validation\n",
    "    for i in alpha_values:\n",
    "        nb = BernoulliNB(alpha=i)\n",
    "        scores = cross_val_score(nb, X_train, Y_train, cv = 10, scoring = 'accuracy')\n",
    "        cv_scores.append(scores.mean())\n",
    "\n",
    "    # changing to misclassification error\n",
    "    MSE = [1 - x for x in cv_scores]\n",
    "    \n",
    "    \n",
    "    # determining best alpha\n",
    "    optimal_alpha = alpha_values[MSE.index(min(MSE))]\n",
    "    print('\\nThe optimal number of alpha is %d.' % optimal_alpha)\n",
    "\n",
    "    # plot misclassification error vs alpha\n",
    "    plt.plot(alpha_values, MSE, marker = '*') \n",
    "\n",
    "    plt.title(\"Misclassification Error vs alpha\")\n",
    "    plt.xlabel('value of alpha')\n",
    "    plt.ylabel('Misclassification Error')\n",
    "    plt.show()\n",
    "\n",
    "    #print(\"the misclassification error for each value of alpha is : \", np.round(MSE,3))\n",
    "    \n",
    "    Optimal_NB = BernoulliNB(alpha=optimal_alpha)\n",
    "        # fitting the model on crossvalidation train\n",
    "    Optimal_NB.fit(X_train, Y_train)\n",
    "    \n",
    "      # predict the response on the crossvalidation train\n",
    "    pred = Optimal_NB.predict(x_test)\n",
    "    \n",
    "    print('\\nDetails for ',VectorizationType,'Vectorization: BernoulliNB')\n",
    "    print('*'*100)\n",
    "    print('Accuracy for NaiveBayes algorithm with alpha =',optimal_alpha,' is ' ,np.round((accuracy_score(y_test, pred)*100),decimals = 2))\n",
    "    print('F1 score for NaiveBayes algorithm with alpha =',optimal_alpha,' is ' , np.round((f1_score(y_test, pred,average= 'macro')*100),decimals = 2))\n",
    "    print('Recall for NaiveBayes agorithm with alpha =',optimal_alpha,' is ' , np.round((recall_score(y_test, pred,average= 'macro')*100),decimals = 2))\n",
    "    print('Precision for NaiveBayes algorithm with aplha =',optimal_alpha,' is ' , np.round((precision_score(y_test, pred,average= 'macro')*100),decimals = 2))\n",
    "    print ('\\n Classification report for NaiveBayes algorithm with alpha =',optimal_alpha,' is \\n ' , classification_report(y_test,pred))\n",
    "    \n",
    "    cm= confusion_matrix(y_test, pred)\n",
    "    class_label = [\"negative\", \"positive\"]\n",
    "    df_cm = pd.DataFrame(cm, index = class_label, columns = class_label)\n",
    "    sns.heatmap(df_cm, annot = True, fmt = \"d\")\n",
    "    plt.title(\"Confusion Matrix\")\n",
    "    plt.xlabel(\"Predicted Label\")\n",
    "    plt.ylabel(\"True Label\")\n",
    "    plt.show()\n",
    "    \n",
    "    return Optimal_NB,optimal_alpha,pred"
   ]
  },
  {
   "cell_type": "code",
   "execution_count": 22,
   "metadata": {},
   "outputs": [],
   "source": [
    "from sklearn.naive_bayes import MultinomialNB\n",
    "\n",
    "def Run_MultinomialNB(X_train, Y_train,x_test,y_test,VectorizationType):\n",
    "    \n",
    "    alpha_values = np.arange(1, 100, 10)\n",
    "    \n",
    "    # empty list that will hold cv scores\n",
    "    cv_scores = []\n",
    "\n",
    "    # perform 10-fold cross validation\n",
    "    for i in alpha_values:\n",
    "        #mnb = MultinomialNB(alpha = i)\n",
    "        mnb = MultinomialNB(alpha=i)\n",
    "        scores = cross_val_score(mnb, X_train, Y_train, cv = 10, scoring = 'accuracy')\n",
    "        cv_scores.append(scores.mean())\n",
    "\n",
    "    # changing to misclassification error\n",
    "    MSE = [1 - x for x in cv_scores]\n",
    "    \n",
    "    \n",
    "    # determining best alpha\n",
    "    optimal_alpha = alpha_values[MSE.index(min(MSE))]\n",
    "    print('\\nThe optimal number of alpha is %d.' % optimal_alpha)\n",
    "\n",
    "    # plot misclassification error vs alpha\n",
    "    plt.plot(alpha_values, MSE, marker = '*') \n",
    "\n",
    "    plt.title(\"Misclassification Error vs alpha\")\n",
    "    plt.xlabel('value of alpha')\n",
    "    plt.ylabel('Misclassification Error')\n",
    "    plt.show()\n",
    "\n",
    "    #print(\"the misclassification error for each value of alpha is : \", np.round(MSE,3))\n",
    "    \n",
    "    Optimal_NB = MultinomialNB(alpha=optimal_alpha)\n",
    "        # fitting the model on crossvalidation train\n",
    "    Optimal_NB.fit(X_train, Y_train)\n",
    "    \n",
    "      # predict the response on the crossvalidation train\n",
    "    pred = Optimal_NB.predict(x_test)\n",
    "    \n",
    "    print('\\nDetails for ',VectorizationType,'Vectorization: MultinomialNB')\n",
    "    print('*'*100)\n",
    "    print('Accuracy for NaiveBayes algorithm with alpha =',optimal_alpha,' is ' ,np.round((accuracy_score(y_test, pred)*100),decimals = 2))\n",
    "    print('F1 score for NaiveBayes algorithm with alpha =',optimal_alpha,' is ' , np.round((f1_score(y_test, pred,average= 'macro')*100),decimals = 2))\n",
    "    print('Recall for NaiveBayes agorithm with alpha =',optimal_alpha,' is ' , np.round((recall_score(y_test, pred,average= 'macro')*100),decimals = 2))\n",
    "    print('Precision for NaiveBayes algorithm with aplha =',optimal_alpha,' is ' , np.round((precision_score(y_test, pred,average= 'macro')*100),decimals = 2))\n",
    "    print ('\\n Classification report for NaiveBayes algorithm with alpha =',optimal_alpha,' is \\n ' , classification_report(y_test,pred))\n",
    "    \n",
    "    cm= confusion_matrix(y_test, pred)\n",
    "    class_label = [\"negative\", \"positive\"]\n",
    "    df_cm = pd.DataFrame(cm, index = class_label, columns = class_label)\n",
    "    sns.heatmap(df_cm, annot = True, fmt = \"d\")\n",
    "    plt.title(\"Confusion Matrix\")\n",
    "    plt.xlabel(\"Predicted Label\")\n",
    "    plt.ylabel(\"True Label\")\n",
    "    plt.show()\n",
    "    \n",
    "    return Optimal_NB,optimal_alpha,pred"
   ]
  },
  {
   "cell_type": "markdown",
   "metadata": {},
   "source": [
    "# BOW"
   ]
  },
  {
   "cell_type": "code",
   "execution_count": 119,
   "metadata": {},
   "outputs": [
    {
     "data": {
      "text/plain": [
       "(175000, 49540)"
      ]
     },
     "execution_count": 119,
     "metadata": {},
     "output_type": "execute_result"
    }
   ],
   "source": [
    "# Train Vectorizor\n",
    "from sklearn.feature_extraction.text import CountVectorizer \n",
    "\n",
    "bow = CountVectorizer(binary = True)\n",
    "X_train_bow = bow.fit_transform(X_train)\n",
    "X_train_bow.shape"
   ]
  },
  {
   "cell_type": "code",
   "execution_count": 120,
   "metadata": {},
   "outputs": [],
   "source": [
    "# Test Vectorizor\n",
    "x_test_bow = bow.transform(x_test)"
   ]
  },
  {
   "cell_type": "code",
   "execution_count": 121,
   "metadata": {},
   "outputs": [
    {
     "data": {
      "text/plain": [
       "(75000, 49540)"
      ]
     },
     "execution_count": 121,
     "metadata": {},
     "output_type": "execute_result"
    }
   ],
   "source": [
    "x_test_bow.shape"
   ]
  },
  {
   "cell_type": "code",
   "execution_count": 73,
   "metadata": {},
   "outputs": [
    {
     "name": "stdout",
     "output_type": "stream",
     "text": [
      "\n",
      "The optimal number of alpha is 1.\n"
     ]
    },
    {
     "data": {
      "image/png": "[encoded data removed]",
      "text/plain": [
       "<Figure size 432x288 with 1 Axes>"
      ]
     },
     "metadata": {},
     "output_type": "display_data"
    },
    {
     "name": "stdout",
     "output_type": "stream",
     "text": [
      "\n",
      "Details for  Bag of Words Vectorization: MultinomialNB\n",
      "****************************************************************************************************\n",
      "Accuracy for NaiveBayes algorithm with alpha = 1.7999999999999998  is  90.76\n",
      "F1 score for NaiveBayes algorithm with alpha = 1.7999999999999998  is  79.9\n",
      "Recall for NaiveBayes agorithm with alpha = 1.7999999999999998  is  77.06\n",
      "Precision for NaiveBayes algorithm with aplha = 1.7999999999999998  is  83.94\n",
      "\n",
      " Classification report for NaiveBayes algorithm with alpha = 1.7999999999999998  is \n",
      "               precision    recall  f1-score   support\n",
      "\n",
      "   negative       0.75      0.57      0.65     11248\n",
      "   positive       0.93      0.97      0.95     63752\n",
      "\n",
      "avg / total       0.90      0.91      0.90     75000\n",
      "\n"
     ]
    },
    {
     "data": {
      "image/png": "[encoded data removed]",
      "text/plain": [
       "<Figure size 432x288 with 2 Axes>"
      ]
     },
     "metadata": {},
     "output_type": "display_data"
    }
   ],
   "source": [
    "opt_MultinomialNB_bow,opt_alpha_MultinomialNB_bow,pred = Run_MultinomialNB(X_train_bow,Y_train,x_test_bow,y_test,'Bag of Words')"
   ]
  },
  {
   "cell_type": "code",
   "execution_count": 74,
   "metadata": {},
   "outputs": [
    {
     "name": "stdout",
     "output_type": "stream",
     "text": [
      "Train accuracy MultinomialNB 0.9123771428571429\n",
      "Train Error MultinomialNB 0.087623%\n"
     ]
    }
   ],
   "source": [
    "# Accuracy on train data\n",
    "train_acc_MultinomialNB_bow = opt_MultinomialNB_bow.score(X_train_bow, Y_train)\n",
    "print(\"Train accuracy MultinomialNB\", train_acc_MultinomialNB_bow)\n",
    "# Error on train data\n",
    "train_err_MultinomialNB_bow = 1-train_acc_MultinomialNB_bow\n",
    "print(\"Train Error MultinomialNB %f%%\" % (train_err_MultinomialNB_bow))"
   ]
  },
  {
   "cell_type": "code",
   "execution_count": 76,
   "metadata": {},
   "outputs": [
    {
     "name": "stdout",
     "output_type": "stream",
     "text": [
      "\n",
      "The accuracy of the MultinomialNB classifier is 90.762667%\n"
     ]
    }
   ],
   "source": [
    "# evaluate accuracy on test data\n",
    "acc_MultinomialNB_bow = accuracy_score(y_test, pred) * 100\n",
    "print('\\nThe accuracy of the MultinomialNB classifier is %f%%' % (acc_MultinomialNB_bow))"
   ]
  },
  {
   "cell_type": "code",
   "execution_count": 77,
   "metadata": {},
   "outputs": [],
   "source": [
    "#Feature Importance for BoW\n",
    "\n",
    "# To get all the features name \n",
    "\n",
    "bow_features = bow.get_feature_names()"
   ]
  },
  {
   "cell_type": "code",
   "execution_count": 78,
   "metadata": {},
   "outputs": [
    {
     "data": {
      "text/plain": [
       "array([[-13.19287569, -12.75104293, -13.19287569, ..., -13.19287569,\n",
       "        -13.19287569, -13.19287569],\n",
       "       [-14.3142923 , -13.16916   , -14.3142923 , ..., -14.3142923 ,\n",
       "        -14.3142923 , -14.3142923 ]])"
      ]
     },
     "execution_count": 78,
     "metadata": {},
     "output_type": "execute_result"
    }
   ],
   "source": [
    "# log probability of features given a class(i.e. P(x_i|y))\n",
    "\n",
    "log_prob = opt_MultinomialNB_bow.feature_log_prob_\n",
    "log_prob"
   ]
  },
  {
   "cell_type": "code",
   "execution_count": 79,
   "metadata": {},
   "outputs": [
    {
     "data": {
      "text/plain": [
       "(49540, 2)"
      ]
     },
     "execution_count": 79,
     "metadata": {},
     "output_type": "execute_result"
    }
   ],
   "source": [
    "feature_prob = pd.DataFrame(log_prob, columns = bow_features)\n",
    "feature_prob_tr = feature_prob.T\n",
    "feature_prob_tr.shape"
   ]
  },
  {
   "cell_type": "markdown",
   "metadata": {},
   "source": [
    "# Top 10 feature from both class MultinomialNB BOW"
   ]
  },
  {
   "cell_type": "code",
   "execution_count": 80,
   "metadata": {},
   "outputs": [
    {
     "name": "stdout",
     "output_type": "stream",
     "text": [
      "Top 10 Negative Features:-\n",
      " tast      -4.618169\n",
      "like      -4.632644\n",
      "product   -4.773687\n",
      "one       -4.961174\n",
      "would     -5.034932\n",
      "tri       -5.107697\n",
      "good      -5.162213\n",
      "buy       -5.196783\n",
      "flavor    -5.223326\n",
      "use       -5.246258\n",
      "Name: 0, dtype: float64\n",
      "\n",
      "\n",
      " Top 10 Positive Features:-\n",
      " like      -4.666001\n",
      "tast      -4.692817\n",
      "love      -4.712880\n",
      "good      -4.728411\n",
      "great     -4.741623\n",
      "use       -4.903118\n",
      "flavor    -4.925632\n",
      "one       -4.932469\n",
      "product   -4.981677\n",
      "tri       -5.006605\n",
      "Name: 1, dtype: float64\n"
     ]
    }
   ],
   "source": [
    "print(\"Top 10 Negative Features:-\\n\",feature_prob_tr[0].sort_values(ascending = False)[0:10])\n",
    "print(\"\\n\\n Top 10 Positive Features:-\\n\",feature_prob_tr[1].sort_values(ascending = False)[0:10])"
   ]
  },
  {
   "cell_type": "code",
   "execution_count": 126,
   "metadata": {},
   "outputs": [
    {
     "name": "stdout",
     "output_type": "stream",
     "text": [
      "\n",
      "The optimal number of alpha is 1.\n"
     ]
    },
    {
     "data": {
      "image/png": "[encoded data removed]",
      "text/plain": [
       "<Figure size 432x288 with 1 Axes>"
      ]
     },
     "metadata": {},
     "output_type": "display_data"
    },
    {
     "name": "stdout",
     "output_type": "stream",
     "text": [
      "\n",
      "Details for  Bag of Words Vectorization: BernoulliNB\n",
      "****************************************************************************************************\n",
      "Accuracy for NaiveBayes algorithm with alpha = 1  is  88.48\n",
      "F1 score for NaiveBayes algorithm with alpha = 1  is  76.3\n",
      "Recall for NaiveBayes agorithm with alpha = 1  is  75.09\n",
      "Precision for NaiveBayes algorithm with aplha = 1  is  77.73\n",
      "\n",
      " Classification report for NaiveBayes algorithm with alpha = 1  is \n",
      "               precision    recall  f1-score   support\n",
      "\n",
      "   negative       0.63      0.56      0.59     11248\n",
      "   positive       0.92      0.94      0.93     63752\n",
      "\n",
      "avg / total       0.88      0.88      0.88     75000\n",
      "\n"
     ]
    },
    {
     "data": {
      "image/png": "[encoded data removed]",
      "text/plain": [
       "<Figure size 432x288 with 2 Axes>"
      ]
     },
     "metadata": {},
     "output_type": "display_data"
    }
   ],
   "source": [
    "opt_BernoulliNB_bow,opt_alpha_BernoulliNB_bow,pred = Run_BernoulliNB(X_train_bow,Y_train,x_test_bow,y_test,'Bag of Words')"
   ]
  },
  {
   "cell_type": "code",
   "execution_count": 127,
   "metadata": {},
   "outputs": [
    {
     "name": "stdout",
     "output_type": "stream",
     "text": [
      "Train accuracy MultinomialNB 0.8901542857142857\n",
      "Train Error BernoulliNB 0.109846%\n"
     ]
    }
   ],
   "source": [
    "# Accuracy on train data\n",
    "train_acc_BernoulliNB_bow = opt_BernoulliNB_bow.score(X_train_bow, Y_train)\n",
    "print(\"Train accuracy MultinomialNB\", train_acc_BernoulliNB_bow)\n",
    "# Error on train data\n",
    "train_err_BernoulliNB_bow = 1-train_acc_BernoulliNB_bow\n",
    "print(\"Train Error BernoulliNB %f%%\" % (train_err_BernoulliNB_bow))"
   ]
  },
  {
   "cell_type": "code",
   "execution_count": 128,
   "metadata": {},
   "outputs": [
    {
     "name": "stdout",
     "output_type": "stream",
     "text": [
      "\n",
      "The accuracy of the BernoulliNB classifier is 88.481333%\n"
     ]
    }
   ],
   "source": [
    "# evaluate accuracy on test data\n",
    "acc_BernoulliNB_bow = accuracy_score(y_test, pred) * 100\n",
    "print('\\nThe accuracy of the BernoulliNB classifier is %f%%' % (acc_BernoulliNB_bow))"
   ]
  },
  {
   "cell_type": "code",
   "execution_count": 129,
   "metadata": {},
   "outputs": [
    {
     "data": {
      "text/plain": [
       "array([[-10.19163202,  -9.49848484, -10.19163202, ..., -10.19163202,\n",
       "        -10.19163202, -10.19163202],\n",
       "       [-11.21401391,  -9.82771955, -11.21401391, ..., -11.21401391,\n",
       "        -11.21401391, -11.21401391]])"
      ]
     },
     "execution_count": 129,
     "metadata": {},
     "output_type": "execute_result"
    }
   ],
   "source": [
    "# log probability of features given a class(i.e. P(x_i|y))\n",
    "\n",
    "log_prob = opt_BernoulliNB_bow.feature_log_prob_\n",
    "log_prob"
   ]
  },
  {
   "cell_type": "code",
   "execution_count": 130,
   "metadata": {},
   "outputs": [
    {
     "data": {
      "text/plain": [
       "(49540, 2)"
      ]
     },
     "execution_count": 130,
     "metadata": {},
     "output_type": "execute_result"
    }
   ],
   "source": [
    "feature_prob = pd.DataFrame(log_prob, columns = bow_features)\n",
    "feature_prob_tr = feature_prob.T\n",
    "feature_prob_tr.shape"
   ]
  },
  {
   "cell_type": "markdown",
   "metadata": {},
   "source": [
    "# Top 10 feature from both class BernoulliNB BOW"
   ]
  },
  {
   "cell_type": "code",
   "execution_count": 131,
   "metadata": {},
   "outputs": [
    {
     "name": "stdout",
     "output_type": "stream",
     "text": [
      "Top 10 Negative Features:-\n",
      " tast      -1.029222\n",
      "like      -1.043699\n",
      "product   -1.184755\n",
      "one       -1.372262\n",
      "would     -1.446029\n",
      "tri       -1.518804\n",
      "good      -1.573327\n",
      "buy       -1.607902\n",
      "flavor    -1.634449\n",
      "use       -1.657385\n",
      "Name: 0, dtype: float64\n",
      "\n",
      "\n",
      " Top 10 Positive Features:-\n",
      " like      -1.229269\n",
      "tast      -1.256086\n",
      "love      -1.276149\n",
      "good      -1.291680\n",
      "great     -1.304892\n",
      "use       -1.466391\n",
      "flavor    -1.488906\n",
      "one       -1.495742\n",
      "product   -1.544952\n",
      "tri       -1.569880\n",
      "Name: 1, dtype: float64\n"
     ]
    }
   ],
   "source": [
    "print(\"Top 10 Negative Features:-\\n\",feature_prob_tr[0].sort_values(ascending = False)[0:10])\n",
    "print(\"\\n\\n Top 10 Positive Features:-\\n\",feature_prob_tr[1].sort_values(ascending = False)[0:10])"
   ]
  },
  {
   "cell_type": "markdown",
   "metadata": {},
   "source": [
    "# TF-IDF"
   ]
  },
  {
   "cell_type": "code",
   "execution_count": 28,
   "metadata": {},
   "outputs": [],
   "source": [
    "tf_idf_vec = TfidfVectorizer(ngram_range=(1,2),binary = True,min_df = 5).fit(X_train)\n",
    "\n",
    "X_tr_vectorized = tf_idf_vec.transform(X_train)\n",
    "X_ts_vectorized = tf_idf_vec.transform(x_test)"
   ]
  },
  {
   "cell_type": "code",
   "execution_count": 29,
   "metadata": {},
   "outputs": [
    {
     "data": {
      "text/plain": [
       "(175000, 214690)"
      ]
     },
     "execution_count": 29,
     "metadata": {},
     "output_type": "execute_result"
    }
   ],
   "source": [
    "from sklearn.preprocessing import StandardScaler\n",
    "\n",
    "X_train_tfidf = StandardScaler(with_mean = False).fit_transform(X_tr_vectorized)\n",
    "\n",
    "x_test_tfidf = StandardScaler(with_mean = False).fit_transform(X_ts_vectorized)\n",
    "\n",
    "X_train_tfidf.shape"
   ]
  },
  {
   "cell_type": "code",
   "execution_count": 30,
   "metadata": {},
   "outputs": [
    {
     "data": {
      "text/plain": [
       "(75000, 214690)"
      ]
     },
     "execution_count": 30,
     "metadata": {},
     "output_type": "execute_result"
    }
   ],
   "source": [
    "x_test_tfidf.shape"
   ]
  },
  {
   "cell_type": "code",
   "execution_count": 103,
   "metadata": {},
   "outputs": [
    {
     "name": "stdout",
     "output_type": "stream",
     "text": [
      "\n",
      "The optimal number of alpha is 1.\n"
     ]
    },
    {
     "data": {
      "image/png": "[encoded data removed]",
      "text/plain": [
       "<Figure size 432x288 with 1 Axes>"
      ]
     },
     "metadata": {},
     "output_type": "display_data"
    },
    {
     "name": "stdout",
     "output_type": "stream",
     "text": [
      "\n",
      "Details for  Tf-Idf Vectorization: MultinomialNB\n",
      "****************************************************************************************************\n",
      "Accuracy for NaiveBayes algorithm with alpha = 1  is  87.33\n",
      "F1 score for NaiveBayes algorithm with alpha = 1  is  69.25\n",
      "Recall for NaiveBayes agorithm with alpha = 1  is  65.99\n",
      "Precision for NaiveBayes algorithm with aplha = 1  is  76.71\n",
      "\n",
      " Classification report for NaiveBayes algorithm with alpha = 1  is \n",
      "               precision    recall  f1-score   support\n",
      "\n",
      "   negative       0.64      0.36      0.46     11248\n",
      "   positive       0.89      0.96      0.93     63752\n",
      "\n",
      "avg / total       0.86      0.87      0.86     75000\n",
      "\n"
     ]
    },
    {
     "data": {
      "image/png": "[encoded data removed]",
      "text/plain": [
       "<Figure size 432x288 with 2 Axes>"
      ]
     },
     "metadata": {},
     "output_type": "display_data"
    }
   ],
   "source": [
    "opt_MultinomialNB_tfidf,opt_alpha_MultinomialNB_tfidf,pred = Run_MultinomialNB(X_train_tfidf,Y_train,x_test_tfidf,y_test,'Tf-Idf')"
   ]
  },
  {
   "cell_type": "code",
   "execution_count": 104,
   "metadata": {},
   "outputs": [
    {
     "name": "stdout",
     "output_type": "stream",
     "text": [
      "Train accuracy MultinomialNB 0.9986285714285714\n",
      "Train Error MultinomialNB 0.001371%\n"
     ]
    }
   ],
   "source": [
    "# Accuracy on train data\n",
    "train_acc_MultinomialNB_tfidf = opt_MultinomialNB_tfidf.score(X_train_tfidf, Y_train)\n",
    "print(\"Train accuracy MultinomialNB\", train_acc_MultinomialNB_tfidf)\n",
    "# Error on train data\n",
    "train_err_MultinomialNB_tfidf = 1-train_acc_MultinomialNB_tfidf\n",
    "print(\"Train Error MultinomialNB %f%%\" % (train_err_MultinomialNB_tfidf))"
   ]
  },
  {
   "cell_type": "code",
   "execution_count": 105,
   "metadata": {},
   "outputs": [
    {
     "name": "stdout",
     "output_type": "stream",
     "text": [
      "\n",
      "The accuracy of the MultinomialNB classifier 87.329333%\n"
     ]
    }
   ],
   "source": [
    "# evaluate accuracy\n",
    "acc_MultinomialNB_tfidf = accuracy_score(y_test, pred) * 100\n",
    "print('\\nThe accuracy of the MultinomialNB classifier %f%%' % ( acc_MultinomialNB_tfidf))"
   ]
  },
  {
   "cell_type": "code",
   "execution_count": 38,
   "metadata": {},
   "outputs": [],
   "source": [
    "#Feature Importance for Tf-Idf\n",
    "\n",
    "# To get all the features name \n",
    "\n",
    "tfidf_features = tf_idf_vec.get_feature_names()"
   ]
  },
  {
   "cell_type": "code",
   "execution_count": 107,
   "metadata": {},
   "outputs": [
    {
     "data": {
      "text/plain": [
       "array([[-19.10432833, -19.10432833, -14.9542302 , ..., -19.10432833,\n",
       "        -19.10432833, -19.10432833],\n",
       "       [-14.58449859, -14.58449859, -13.90962735, ..., -14.58449859,\n",
       "        -14.58449859, -14.58449859]])"
      ]
     },
     "execution_count": 107,
     "metadata": {},
     "output_type": "execute_result"
    }
   ],
   "source": [
    "# log probability of features given a class(i.e. P(x_i|y))\n",
    "\n",
    "log_prob = opt_MultinomialNB_tfidf.feature_log_prob_\n",
    "log_prob"
   ]
  },
  {
   "cell_type": "code",
   "execution_count": 108,
   "metadata": {},
   "outputs": [
    {
     "data": {
      "text/plain": [
       "(1804858, 2)"
      ]
     },
     "execution_count": 108,
     "metadata": {},
     "output_type": "execute_result"
    }
   ],
   "source": [
    "feature_prob = pd.DataFrame(log_prob, columns = tfidf_features)\n",
    "feature_prob_tr = feature_prob.T\n",
    "feature_prob_tr.shape"
   ]
  },
  {
   "cell_type": "markdown",
   "metadata": {},
   "source": [
    "# Top 10 feature from both class MultinomialNB TfIdf"
   ]
  },
  {
   "cell_type": "code",
   "execution_count": 109,
   "metadata": {},
   "outputs": [
    {
     "name": "stdout",
     "output_type": "stream",
     "text": [
      "Top 10 Negative Features:-\n",
      " tast         -9.235185\n",
      "like         -9.341856\n",
      "product      -9.398727\n",
      "disappoint   -9.418171\n",
      "would        -9.456270\n",
      "one          -9.596646\n",
      "bad          -9.611817\n",
      "return       -9.637530\n",
      "dont         -9.682357\n",
      "wast         -9.683024\n",
      "Name: 0, dtype: float64\n",
      "\n",
      "\n",
      " Top 10 Positive Features:-\n",
      " love     -9.306467\n",
      "great    -9.326125\n",
      "like     -9.345187\n",
      "good     -9.345870\n",
      "tast     -9.369360\n",
      "use      -9.449007\n",
      "flavor   -9.486851\n",
      "one      -9.493188\n",
      "tri      -9.520469\n",
      "make     -9.541739\n",
      "Name: 1, dtype: float64\n"
     ]
    }
   ],
   "source": [
    "print(\"Top 10 Negative Features:-\\n\",feature_prob_tr[0].sort_values(ascending = False)[0:10])\n",
    "print(\"\\n\\n Top 10 Positive Features:-\\n\",feature_prob_tr[1].sort_values(ascending = False)[0:10])"
   ]
  },
  {
   "cell_type": "code",
   "execution_count": 32,
   "metadata": {},
   "outputs": [
    {
     "name": "stdout",
     "output_type": "stream",
     "text": [
      "\n",
      "The optimal number of alpha is 1.\n"
     ]
    },
    {
     "data": {
      "image/png": "[encoded data removed]",
      "text/plain": [
       "<Figure size 432x288 with 1 Axes>"
      ]
     },
     "metadata": {},
     "output_type": "display_data"
    },
    {
     "name": "stdout",
     "output_type": "stream",
     "text": [
      "\n",
      "Details for  Tf-Idf Vectorization: BernoulliNB\n",
      "****************************************************************************************************\n",
      "Accuracy for NaiveBayes algorithm with alpha = 1  is  89.72\n",
      "F1 score for NaiveBayes algorithm with alpha = 1  is  79.57\n",
      "Recall for NaiveBayes agorithm with alpha = 1  is  79.19\n",
      "Precision for NaiveBayes algorithm with aplha = 1  is  79.97\n",
      "\n",
      " Classification report for NaiveBayes algorithm with alpha = 1  is \n",
      "               precision    recall  f1-score   support\n",
      "\n",
      "   negative       0.66      0.64      0.65     11248\n",
      "   positive       0.94      0.94      0.94     63752\n",
      "\n",
      "avg / total       0.90      0.90      0.90     75000\n",
      "\n"
     ]
    },
    {
     "data": {
      "image/png": "[encoded data removed]",
      "text/plain": [
       "<Figure size 432x288 with 2 Axes>"
      ]
     },
     "metadata": {},
     "output_type": "display_data"
    }
   ],
   "source": [
    "opt_BernoulliNB_tfidf,opt_alpha_BernoulliNB_tfidf,pred = Run_BernoulliNB(X_train_tfidf,Y_train,x_test_tfidf,y_test,'Tf-Idf')"
   ]
  },
  {
   "cell_type": "code",
   "execution_count": 33,
   "metadata": {},
   "outputs": [
    {
     "name": "stdout",
     "output_type": "stream",
     "text": [
      "Train accuracy BernoulliNB 0.9179885714285714\n",
      "Train Error BernoulliNB 0.082011%\n"
     ]
    }
   ],
   "source": [
    "# Accuracy on train data\n",
    "train_acc_BernoulliNB_tfidf = opt_BernoulliNB_tfidf.score(X_train_tfidf, Y_train)\n",
    "print(\"Train accuracy BernoulliNB\", train_acc_BernoulliNB_tfidf)\n",
    "# Error on train data\n",
    "train_err_BernoulliNB_tfidf = 1-train_acc_BernoulliNB_tfidf\n",
    "print(\"Train Error BernoulliNB %f%%\" % (train_err_BernoulliNB_tfidf))"
   ]
  },
  {
   "cell_type": "code",
   "execution_count": 35,
   "metadata": {},
   "outputs": [
    {
     "name": "stdout",
     "output_type": "stream",
     "text": [
      "\n",
      "The accuracy of the BernoulliNB classifier 89.716000%\n"
     ]
    }
   ],
   "source": [
    "# evaluate accuracy\n",
    "acc_BernoulliNB_tfidf = accuracy_score(y_test, pred) * 100\n",
    "print('\\nThe accuracy of the BernoulliNB classifier %f%%' % ( acc_BernoulliNB_tfidf))"
   ]
  },
  {
   "cell_type": "code",
   "execution_count": 36,
   "metadata": {},
   "outputs": [
    {
     "data": {
      "text/plain": [
       "array([[ -9.49848484, -10.19163202, -10.19163202, ...,  -9.49848484,\n",
       "         -9.49848484,  -9.09301973],\n",
       "       [ -9.82771955,  -9.96125094, -10.11540162, ...,  -9.96125094,\n",
       "        -10.29772318, -10.52086673]])"
      ]
     },
     "execution_count": 36,
     "metadata": {},
     "output_type": "execute_result"
    }
   ],
   "source": [
    "# log probability of features given a class(i.e. P(x_i|y))\n",
    "\n",
    "log_prob = opt_BernoulliNB_tfidf.feature_log_prob_\n",
    "log_prob"
   ]
  },
  {
   "cell_type": "code",
   "execution_count": 39,
   "metadata": {},
   "outputs": [
    {
     "data": {
      "text/plain": [
       "(214690, 2)"
      ]
     },
     "execution_count": 39,
     "metadata": {},
     "output_type": "execute_result"
    }
   ],
   "source": [
    "feature_prob = pd.DataFrame(log_prob, columns = tfidf_features)\n",
    "feature_prob_tr = feature_prob.T\n",
    "feature_prob_tr.shape"
   ]
  },
  {
   "cell_type": "markdown",
   "metadata": {},
   "source": [
    "# Top 10 feature from both class BernoulliNB TfIdf"
   ]
  },
  {
   "cell_type": "code",
   "execution_count": 40,
   "metadata": {},
   "outputs": [
    {
     "name": "stdout",
     "output_type": "stream",
     "text": [
      "Top 10 Negative Features:-\n",
      " tast      -1.029222\n",
      "like      -1.043699\n",
      "product   -1.184755\n",
      "one       -1.372262\n",
      "would     -1.446029\n",
      "tri       -1.518804\n",
      "good      -1.573327\n",
      "buy       -1.607902\n",
      "flavor    -1.634449\n",
      "use       -1.657385\n",
      "Name: 0, dtype: float64\n",
      "\n",
      "\n",
      " Top 10 Positive Features:-\n",
      " like      -1.229269\n",
      "tast      -1.256086\n",
      "love      -1.276149\n",
      "good      -1.291680\n",
      "great     -1.304892\n",
      "use       -1.466391\n",
      "flavor    -1.488906\n",
      "one       -1.495742\n",
      "product   -1.544952\n",
      "tri       -1.569880\n",
      "Name: 1, dtype: float64\n"
     ]
    }
   ],
   "source": [
    "print(\"Top 10 Negative Features:-\\n\",feature_prob_tr[0].sort_values(ascending = False)[0:10])\n",
    "print(\"\\n\\n Top 10 Positive Features:-\\n\",feature_prob_tr[1].sort_values(ascending = False)[0:10])"
   ]
  },
  {
   "cell_type": "markdown",
   "metadata": {},
   "source": [
    "Conclusion:\n",
    "\n",
    "1. Optimal alpha value is 1 using MultinomialNB and BernoulliNB for both Bow and tf-idf vectorizers.\n",
    "\n",
    "2. Accuracy for MultinomialNB is greater than BernoulliNB using Bow but it is opposite for tf-df.\n",
    "\n",
    "3. For Bow using MultinomialNB we got the higher accuaracy and f1 score.\n",
    "\n",
    "4. For tf-idf using BernoulliNB we got higher accuracy and f1 score."
   ]
  }
 ],
 "metadata": {
  "kernelspec": {
   "display_name": "Python 3",
   "language": "python",
   "name": "python3"
  },
  "language_info": {
   "codemirror_mode": {
    "name": "ipython",
    "version": 3
   },
   "file_extension": ".py",
   "mimetype": "text/x-python",
   "name": "python",
   "nbconvert_exporter": "python",
   "pygments_lexer": "ipython3",
   "version": "3.6.5"
  }
 },
 "nbformat": 4,
 "nbformat_minor": 2
}
