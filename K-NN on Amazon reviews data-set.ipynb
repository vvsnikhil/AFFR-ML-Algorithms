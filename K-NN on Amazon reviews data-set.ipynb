{
 "cells": [
  {
   "cell_type": "markdown",
   "metadata": {},
   "source": [
    "# Amazon Fine Food Reviews Analysis\n",
    "The Amazon Fine Food Reviews dataset consists of reviews of fine foods from Amazon.\n",
    "\n",
    " Number of reviews: 568,454                                                                                                     \n",
    " Number of users: 256,059                                                                                                       \n",
    " Number of products: 74,258                                                                                                                                                                                                             \n",
    " Number of Attributes/Columns in data: 10\n",
    " \n",
    " Attributes:\n",
    "1. IdRow Id\n",
    "2. ProductIdUnique identifier for the product\n",
    "3. UserIdUnqiue identifier for the user\n",
    "4. ProfileNameProfile name of the user\n",
    "5. HelpfulnessNumeratorNumber of users who found the review helpful\n",
    "6. HelpfulnessDenominatorNumber of users who indicated whether they found the review helpful\n",
    "7. ScoreRating between 1 and 5\n",
    "8. TimeTimestamp for the review\n",
    "9. SummaryBrief summary of the review\n",
    "10. TextText of the review"
   ]
  },
  {
   "cell_type": "code",
   "execution_count": 3,
   "metadata": {},
   "outputs": [],
   "source": [
    "import warnings\n",
    "warnings.filterwarnings(\"ignore\")"
   ]
  },
  {
   "cell_type": "code",
   "execution_count": 4,
   "metadata": {},
   "outputs": [],
   "source": [
    "# import packages\n",
    "import pandas as pd\n",
    "import numpy as np\n",
    "import matplotlib.pyplot as plt\n",
    "import seaborn as sns\n",
    "import string\n",
    "import sqlite3\n",
    "import re\n",
    "import nltk\n",
    "from nltk.corpus import stopwords\n",
    "from nltk.stem import PorterStemmer\n",
    "from nltk.stem import SnowballStemmer\n",
    "from nltk.stem.wordnet import WordNetLemmatizer\n",
    "from sklearn.neighbors import KNeighborsClassifier\n",
    "from sklearn.metrics import accuracy_score,precision_score,recall_score,confusion_matrix,classification_report,f1_score\n",
    "from sklearn.decomposition import TruncatedSVD\n",
    "from sklearn import cross_validation\n",
    "from sklearn.cross_validation import cross_val_score\n",
    "from sklearn.feature_extraction.text import CountVectorizer\n",
    "from sklearn.feature_extraction.text import TfidfVectorizer\n",
    "import gensim"
   ]
  },
  {
   "cell_type": "code",
   "execution_count": 23,
   "metadata": {},
   "outputs": [],
   "source": [
    "con = sqlite3.connect('./AmazonFFR/database.sqlite')\n",
    "\n",
    "# not taking into consideration those reviews with Score=3 as we need only positive and negative reviews\n",
    "filtered_data = pd.read_sql_query(\"\"\"\n",
    "SELECT * FROM Reviews\n",
    "WHERE Score !=3\"\"\",con)"
   ]
  },
  {
   "cell_type": "code",
   "execution_count": 24,
   "metadata": {},
   "outputs": [],
   "source": [
    "def partition(x):\n",
    "    if x < 3:\n",
    "        return 'negative'\n",
    "    return 'positive'\n",
    "\n",
    "#changing reviews with score greater than 3 to be positive and vice-versa\n",
    "actualScore = filtered_data['Score']\n",
    "positiveNegative = actualScore.map(partition) \n",
    "filtered_data['Score'] = positiveNegative"
   ]
  },
  {
   "cell_type": "code",
   "execution_count": 25,
   "metadata": {},
   "outputs": [],
   "source": [
    "filtered_data_final = filtered_data #looking at the number of attributes and size of the data"
   ]
  },
  {
   "cell_type": "code",
   "execution_count": 26,
   "metadata": {},
   "outputs": [
    {
     "data": {
      "text/plain": [
       "positive    443777\n",
       "negative     82037\n",
       "Name: Score, dtype: int64"
      ]
     },
     "execution_count": 26,
     "metadata": {},
     "output_type": "execute_result"
    }
   ],
   "source": [
    "filtered_data_final['Score'].value_counts()"
   ]
  },
  {
   "cell_type": "code",
   "execution_count": 27,
   "metadata": {},
   "outputs": [],
   "source": [
    "# Data Cleaning :Duplication\n",
    "\n",
    "sort_data = filtered_data_final.sort_values('ProductId',axis =0,ascending=True)\n",
    "\n",
    "final = sort_data.drop_duplicates(subset={\"UserId\",\"ProfileName\",\"Time\",\"Text\"},keep='first',inplace=False)\n",
    "\n",
    "final = final[final.HelpfulnessNumerator<=final.HelpfulnessDenominator]"
   ]
  },
  {
   "cell_type": "code",
   "execution_count": 28,
   "metadata": {},
   "outputs": [
    {
     "data": {
      "text/html": [
       "<div>\n",
       "<style scoped>\n",
       "    .dataframe tbody tr th:only-of-type {\n",
       "        vertical-align: middle;\n",
       "    }\n",
       "\n",
       "    .dataframe tbody tr th {\n",
       "        vertical-align: top;\n",
       "    }\n",
       "\n",
       "    .dataframe thead th {\n",
       "        text-align: right;\n",
       "    }\n",
       "</style>\n",
       "<table border=\"1\" class=\"dataframe\">\n",
       "  <thead>\n",
       "    <tr style=\"text-align: right;\">\n",
       "      <th></th>\n",
       "      <th>Id</th>\n",
       "      <th>ProductId</th>\n",
       "      <th>UserId</th>\n",
       "      <th>ProfileName</th>\n",
       "      <th>HelpfulnessNumerator</th>\n",
       "      <th>HelpfulnessDenominator</th>\n",
       "      <th>Score</th>\n",
       "      <th>Time</th>\n",
       "      <th>Summary</th>\n",
       "      <th>Text</th>\n",
       "    </tr>\n",
       "  </thead>\n",
       "  <tbody>\n",
       "    <tr>\n",
       "      <th>138706</th>\n",
       "      <td>150524</td>\n",
       "      <td>0006641040</td>\n",
       "      <td>ACITT7DI6IDDL</td>\n",
       "      <td>shari zychinski</td>\n",
       "      <td>0</td>\n",
       "      <td>0</td>\n",
       "      <td>positive</td>\n",
       "      <td>939340800</td>\n",
       "      <td>EVERY book is educational</td>\n",
       "      <td>this witty little book makes my son laugh at l...</td>\n",
       "    </tr>\n",
       "    <tr>\n",
       "      <th>138683</th>\n",
       "      <td>150501</td>\n",
       "      <td>0006641040</td>\n",
       "      <td>AJ46FKXOVC7NR</td>\n",
       "      <td>Nicholas A Mesiano</td>\n",
       "      <td>2</td>\n",
       "      <td>2</td>\n",
       "      <td>positive</td>\n",
       "      <td>940809600</td>\n",
       "      <td>This whole series is great way to spend time w...</td>\n",
       "      <td>I can remember seeing the show when it aired o...</td>\n",
       "    </tr>\n",
       "    <tr>\n",
       "      <th>417839</th>\n",
       "      <td>451856</td>\n",
       "      <td>B00004CXX9</td>\n",
       "      <td>AIUWLEQ1ADEG5</td>\n",
       "      <td>Elizabeth Medina</td>\n",
       "      <td>0</td>\n",
       "      <td>0</td>\n",
       "      <td>positive</td>\n",
       "      <td>944092800</td>\n",
       "      <td>Entertainingl Funny!</td>\n",
       "      <td>Beetlejuice is a well written movie ..... ever...</td>\n",
       "    </tr>\n",
       "    <tr>\n",
       "      <th>417859</th>\n",
       "      <td>451878</td>\n",
       "      <td>B00004CXX9</td>\n",
       "      <td>A344SMIA5JECGM</td>\n",
       "      <td>Vincent P. Ross</td>\n",
       "      <td>1</td>\n",
       "      <td>2</td>\n",
       "      <td>positive</td>\n",
       "      <td>944438400</td>\n",
       "      <td>A modern day fairy tale</td>\n",
       "      <td>A twist of rumplestiskin captured on film, sta...</td>\n",
       "    </tr>\n",
       "    <tr>\n",
       "      <th>212472</th>\n",
       "      <td>230285</td>\n",
       "      <td>B00004RYGX</td>\n",
       "      <td>A344SMIA5JECGM</td>\n",
       "      <td>Vincent P. Ross</td>\n",
       "      <td>1</td>\n",
       "      <td>2</td>\n",
       "      <td>positive</td>\n",
       "      <td>944438400</td>\n",
       "      <td>A modern day fairy tale</td>\n",
       "      <td>A twist of rumplestiskin captured on film, sta...</td>\n",
       "    </tr>\n",
       "    <tr>\n",
       "      <th>346055</th>\n",
       "      <td>374359</td>\n",
       "      <td>B00004CI84</td>\n",
       "      <td>A344SMIA5JECGM</td>\n",
       "      <td>Vincent P. Ross</td>\n",
       "      <td>1</td>\n",
       "      <td>2</td>\n",
       "      <td>positive</td>\n",
       "      <td>944438400</td>\n",
       "      <td>A modern day fairy tale</td>\n",
       "      <td>A twist of rumplestiskin captured on film, sta...</td>\n",
       "    </tr>\n",
       "    <tr>\n",
       "      <th>417838</th>\n",
       "      <td>451855</td>\n",
       "      <td>B00004CXX9</td>\n",
       "      <td>AJH6LUC1UT1ON</td>\n",
       "      <td>The Phantom of the Opera</td>\n",
       "      <td>0</td>\n",
       "      <td>0</td>\n",
       "      <td>positive</td>\n",
       "      <td>946857600</td>\n",
       "      <td>FANTASTIC!</td>\n",
       "      <td>Beetlejuice is an excellent and funny movie. K...</td>\n",
       "    </tr>\n",
       "    <tr>\n",
       "      <th>417927</th>\n",
       "      <td>451949</td>\n",
       "      <td>B00004CXX9</td>\n",
       "      <td>A1048CYU0OV4O8</td>\n",
       "      <td>Judy L. Eans</td>\n",
       "      <td>2</td>\n",
       "      <td>2</td>\n",
       "      <td>positive</td>\n",
       "      <td>947376000</td>\n",
       "      <td>GREAT</td>\n",
       "      <td>THIS IS ONE MOVIE THAT SHOULD BE IN YOUR MOVIE...</td>\n",
       "    </tr>\n",
       "    <tr>\n",
       "      <th>212533</th>\n",
       "      <td>230348</td>\n",
       "      <td>B00004RYGX</td>\n",
       "      <td>A1048CYU0OV4O8</td>\n",
       "      <td>Judy L. Eans</td>\n",
       "      <td>2</td>\n",
       "      <td>2</td>\n",
       "      <td>positive</td>\n",
       "      <td>947376000</td>\n",
       "      <td>GREAT</td>\n",
       "      <td>THIS IS ONE MOVIE THAT SHOULD BE IN YOUR MOVIE...</td>\n",
       "    </tr>\n",
       "    <tr>\n",
       "      <th>346116</th>\n",
       "      <td>374422</td>\n",
       "      <td>B00004CI84</td>\n",
       "      <td>A1048CYU0OV4O8</td>\n",
       "      <td>Judy L. Eans</td>\n",
       "      <td>2</td>\n",
       "      <td>2</td>\n",
       "      <td>positive</td>\n",
       "      <td>947376000</td>\n",
       "      <td>GREAT</td>\n",
       "      <td>THIS IS ONE MOVIE THAT SHOULD BE IN YOUR MOVIE...</td>\n",
       "    </tr>\n",
       "    <tr>\n",
       "      <th>417847</th>\n",
       "      <td>451864</td>\n",
       "      <td>B00004CXX9</td>\n",
       "      <td>A1B2IZU1JLZA6</td>\n",
       "      <td>Wes</td>\n",
       "      <td>19</td>\n",
       "      <td>23</td>\n",
       "      <td>negative</td>\n",
       "      <td>948240000</td>\n",
       "      <td>WARNING: CLAMSHELL EDITION IS EDITED TV VERSION</td>\n",
       "      <td>I, myself always enjoyed this movie, it's very...</td>\n",
       "    </tr>\n",
       "    <tr>\n",
       "      <th>346041</th>\n",
       "      <td>374343</td>\n",
       "      <td>B00004CI84</td>\n",
       "      <td>A1B2IZU1JLZA6</td>\n",
       "      <td>Wes</td>\n",
       "      <td>19</td>\n",
       "      <td>23</td>\n",
       "      <td>negative</td>\n",
       "      <td>948240000</td>\n",
       "      <td>WARNING: CLAMSHELL EDITION IS EDITED TV VERSION</td>\n",
       "      <td>I, myself always enjoyed this movie, it's very...</td>\n",
       "    </tr>\n",
       "    <tr>\n",
       "      <th>212458</th>\n",
       "      <td>230269</td>\n",
       "      <td>B00004RYGX</td>\n",
       "      <td>A1B2IZU1JLZA6</td>\n",
       "      <td>Wes</td>\n",
       "      <td>19</td>\n",
       "      <td>23</td>\n",
       "      <td>negative</td>\n",
       "      <td>948240000</td>\n",
       "      <td>WARNING: CLAMSHELL EDITION IS EDITED TV VERSION</td>\n",
       "      <td>I, myself always enjoyed this movie, it's very...</td>\n",
       "    </tr>\n",
       "    <tr>\n",
       "      <th>70688</th>\n",
       "      <td>76882</td>\n",
       "      <td>B00002N8SM</td>\n",
       "      <td>A32DW342WBJ6BX</td>\n",
       "      <td>Buttersugar</td>\n",
       "      <td>0</td>\n",
       "      <td>0</td>\n",
       "      <td>positive</td>\n",
       "      <td>948672000</td>\n",
       "      <td>A sure death for flies</td>\n",
       "      <td>I bought a few of these after my apartment was...</td>\n",
       "    </tr>\n",
       "    <tr>\n",
       "      <th>346141</th>\n",
       "      <td>374450</td>\n",
       "      <td>B00004CI84</td>\n",
       "      <td>ACJR7EQF9S6FP</td>\n",
       "      <td>Jeremy Robertson</td>\n",
       "      <td>2</td>\n",
       "      <td>3</td>\n",
       "      <td>positive</td>\n",
       "      <td>951523200</td>\n",
       "      <td>Bettlejuice...Bettlejuice...BETTLEJUICE!</td>\n",
       "      <td>What happens when you say his name three times...</td>\n",
       "    </tr>\n",
       "    <tr>\n",
       "      <th>417952</th>\n",
       "      <td>451977</td>\n",
       "      <td>B00004CXX9</td>\n",
       "      <td>ACJR7EQF9S6FP</td>\n",
       "      <td>Jeremy Robertson</td>\n",
       "      <td>2</td>\n",
       "      <td>3</td>\n",
       "      <td>positive</td>\n",
       "      <td>951523200</td>\n",
       "      <td>Bettlejuice...Bettlejuice...BETTLEJUICE!</td>\n",
       "      <td>What happens when you say his name three times...</td>\n",
       "    </tr>\n",
       "    <tr>\n",
       "      <th>212558</th>\n",
       "      <td>230376</td>\n",
       "      <td>B00004RYGX</td>\n",
       "      <td>ACJR7EQF9S6FP</td>\n",
       "      <td>Jeremy Robertson</td>\n",
       "      <td>2</td>\n",
       "      <td>3</td>\n",
       "      <td>positive</td>\n",
       "      <td>951523200</td>\n",
       "      <td>Bettlejuice...Bettlejuice...BETTLEJUICE!</td>\n",
       "      <td>What happens when you say his name three times...</td>\n",
       "    </tr>\n",
       "    <tr>\n",
       "      <th>417883</th>\n",
       "      <td>451903</td>\n",
       "      <td>B00004CXX9</td>\n",
       "      <td>A2DEE7F9XKP3ZR</td>\n",
       "      <td>jerome</td>\n",
       "      <td>0</td>\n",
       "      <td>1</td>\n",
       "      <td>positive</td>\n",
       "      <td>959990400</td>\n",
       "      <td>Research</td>\n",
       "      <td>I'm getting crazy.&lt;p&gt;Is it really impossible t...</td>\n",
       "    </tr>\n",
       "    <tr>\n",
       "      <th>212511</th>\n",
       "      <td>230326</td>\n",
       "      <td>B00004RYGX</td>\n",
       "      <td>A2DEE7F9XKP3ZR</td>\n",
       "      <td>jerome</td>\n",
       "      <td>0</td>\n",
       "      <td>3</td>\n",
       "      <td>positive</td>\n",
       "      <td>959990400</td>\n",
       "      <td>Research - Beatlejuice video - French version</td>\n",
       "      <td>I'm getting crazy.I'm looking for Beatlejuice ...</td>\n",
       "    </tr>\n",
       "    <tr>\n",
       "      <th>346094</th>\n",
       "      <td>374400</td>\n",
       "      <td>B00004CI84</td>\n",
       "      <td>A2DEE7F9XKP3ZR</td>\n",
       "      <td>jerome</td>\n",
       "      <td>0</td>\n",
       "      <td>3</td>\n",
       "      <td>positive</td>\n",
       "      <td>959990400</td>\n",
       "      <td>Research - Beatlejuice video - French version</td>\n",
       "      <td>I'm getting crazy.I'm looking for Beatlejuice ...</td>\n",
       "    </tr>\n",
       "    <tr>\n",
       "      <th>1146</th>\n",
       "      <td>1245</td>\n",
       "      <td>B00002Z754</td>\n",
       "      <td>A29Z5PI9BW2PU3</td>\n",
       "      <td>Robbie</td>\n",
       "      <td>7</td>\n",
       "      <td>7</td>\n",
       "      <td>positive</td>\n",
       "      <td>961718400</td>\n",
       "      <td>Great Product</td>\n",
       "      <td>This was a really good idea and the final prod...</td>\n",
       "    </tr>\n",
       "    <tr>\n",
       "      <th>1145</th>\n",
       "      <td>1244</td>\n",
       "      <td>B00002Z754</td>\n",
       "      <td>A3B8RCEI0FXFI6</td>\n",
       "      <td>B G Chase</td>\n",
       "      <td>10</td>\n",
       "      <td>10</td>\n",
       "      <td>positive</td>\n",
       "      <td>962236800</td>\n",
       "      <td>WOW Make your own 'slickers' !</td>\n",
       "      <td>I just received my shipment and could hardly w...</td>\n",
       "    </tr>\n",
       "    <tr>\n",
       "      <th>121041</th>\n",
       "      <td>131217</td>\n",
       "      <td>B00004RAMX</td>\n",
       "      <td>A5NQLNC6QPGSI</td>\n",
       "      <td>Kim Nason</td>\n",
       "      <td>7</td>\n",
       "      <td>8</td>\n",
       "      <td>positive</td>\n",
       "      <td>965001600</td>\n",
       "      <td>End your Gopher Problems</td>\n",
       "      <td>I have just recently purchased the Woodstream ...</td>\n",
       "    </tr>\n",
       "    <tr>\n",
       "      <th>138017</th>\n",
       "      <td>149789</td>\n",
       "      <td>B00004S1C6</td>\n",
       "      <td>A1KXONFPU2XQ5K</td>\n",
       "      <td>Stephanie Manley</td>\n",
       "      <td>26</td>\n",
       "      <td>28</td>\n",
       "      <td>positive</td>\n",
       "      <td>965779200</td>\n",
       "      <td>A must have!</td>\n",
       "      <td>These are easy to use, they do not make a mess...</td>\n",
       "    </tr>\n",
       "    <tr>\n",
       "      <th>138001</th>\n",
       "      <td>149770</td>\n",
       "      <td>B00004S1C5</td>\n",
       "      <td>A1KXONFPU2XQ5K</td>\n",
       "      <td>Stephanie Manley</td>\n",
       "      <td>8</td>\n",
       "      <td>8</td>\n",
       "      <td>positive</td>\n",
       "      <td>965779200</td>\n",
       "      <td>Very easy to use</td>\n",
       "      <td>This are so much easier to use than the Wilson...</td>\n",
       "    </tr>\n",
       "    <tr>\n",
       "      <th>346115</th>\n",
       "      <td>374421</td>\n",
       "      <td>B00004CI84</td>\n",
       "      <td>A1FJOY14X3MUHE</td>\n",
       "      <td>Justin Howard</td>\n",
       "      <td>2</td>\n",
       "      <td>2</td>\n",
       "      <td>positive</td>\n",
       "      <td>966297600</td>\n",
       "      <td>A fresh, original film from master storyteller...</td>\n",
       "      <td>This is such a great film, I don't even know h...</td>\n",
       "    </tr>\n",
       "    <tr>\n",
       "      <th>417926</th>\n",
       "      <td>451948</td>\n",
       "      <td>B00004CXX9</td>\n",
       "      <td>A1FJOY14X3MUHE</td>\n",
       "      <td>Justin Howard</td>\n",
       "      <td>2</td>\n",
       "      <td>2</td>\n",
       "      <td>positive</td>\n",
       "      <td>966297600</td>\n",
       "      <td>A fresh, original film from master storyteller...</td>\n",
       "      <td>This is such a great film, I don't even know h...</td>\n",
       "    </tr>\n",
       "    <tr>\n",
       "      <th>212532</th>\n",
       "      <td>230347</td>\n",
       "      <td>B00004RYGX</td>\n",
       "      <td>A1FJOY14X3MUHE</td>\n",
       "      <td>Justin Howard</td>\n",
       "      <td>2</td>\n",
       "      <td>2</td>\n",
       "      <td>positive</td>\n",
       "      <td>966297600</td>\n",
       "      <td>A fresh, original film from master storyteller...</td>\n",
       "      <td>This is such a great film, I don't even know h...</td>\n",
       "    </tr>\n",
       "    <tr>\n",
       "      <th>212519</th>\n",
       "      <td>230334</td>\n",
       "      <td>B00004RYGX</td>\n",
       "      <td>A1GB1Q193DNFGR</td>\n",
       "      <td>Bruce Lee Pullen</td>\n",
       "      <td>5</td>\n",
       "      <td>5</td>\n",
       "      <td>positive</td>\n",
       "      <td>970531200</td>\n",
       "      <td>Fabulous Comedic Fanasy Directed by a Master</td>\n",
       "      <td>Beetlejuice is an awe-inspiring wonderfully am...</td>\n",
       "    </tr>\n",
       "    <tr>\n",
       "      <th>346102</th>\n",
       "      <td>374408</td>\n",
       "      <td>B00004CI84</td>\n",
       "      <td>A1GB1Q193DNFGR</td>\n",
       "      <td>Bruce Lee Pullen</td>\n",
       "      <td>5</td>\n",
       "      <td>5</td>\n",
       "      <td>positive</td>\n",
       "      <td>970531200</td>\n",
       "      <td>Fabulous Comedic Fanasy Directed by a Master</td>\n",
       "      <td>Beetlejuice is an awe-inspiring wonderfully am...</td>\n",
       "    </tr>\n",
       "    <tr>\n",
       "      <th>...</th>\n",
       "      <td>...</td>\n",
       "      <td>...</td>\n",
       "      <td>...</td>\n",
       "      <td>...</td>\n",
       "      <td>...</td>\n",
       "      <td>...</td>\n",
       "      <td>...</td>\n",
       "      <td>...</td>\n",
       "      <td>...</td>\n",
       "      <td>...</td>\n",
       "    </tr>\n",
       "    <tr>\n",
       "      <th>421516</th>\n",
       "      <td>455891</td>\n",
       "      <td>B008K9TOU0</td>\n",
       "      <td>A3AE4G41HPLMP</td>\n",
       "      <td>ginger walsh</td>\n",
       "      <td>0</td>\n",
       "      <td>0</td>\n",
       "      <td>positive</td>\n",
       "      <td>1351209600</td>\n",
       "      <td>Newman's own Organics Decaf Cups</td>\n",
       "      <td>newman's Own Organics Special Decaf hasGreat f...</td>\n",
       "    </tr>\n",
       "    <tr>\n",
       "      <th>390432</th>\n",
       "      <td>422146</td>\n",
       "      <td>B0001BH5YM</td>\n",
       "      <td>A1BZ3HMAKK0NC</td>\n",
       "      <td>Patricia Campbell \"G.I JANE\"</td>\n",
       "      <td>0</td>\n",
       "      <td>0</td>\n",
       "      <td>positive</td>\n",
       "      <td>1351209600</td>\n",
       "      <td>My favorite and only  MUSTARD</td>\n",
       "      <td>You've just got to experience this mustard... ...</td>\n",
       "    </tr>\n",
       "    <tr>\n",
       "      <th>279331</th>\n",
       "      <td>302676</td>\n",
       "      <td>B000UBH9YE</td>\n",
       "      <td>A1CM50V04TUUPF</td>\n",
       "      <td>Shelly</td>\n",
       "      <td>0</td>\n",
       "      <td>0</td>\n",
       "      <td>positive</td>\n",
       "      <td>1351209600</td>\n",
       "      <td>Love My Senseo!</td>\n",
       "      <td>I I haven't had a bad cup of coffee yet.  So f...</td>\n",
       "    </tr>\n",
       "    <tr>\n",
       "      <th>232506</th>\n",
       "      <td>252202</td>\n",
       "      <td>B007F1MA46</td>\n",
       "      <td>A1LHOKYENR7HP2</td>\n",
       "      <td>L. Barlow \"Barlow Girl\"</td>\n",
       "      <td>0</td>\n",
       "      <td>0</td>\n",
       "      <td>positive</td>\n",
       "      <td>1351209600</td>\n",
       "      <td>Vinegar Is Magic!</td>\n",
       "      <td>I have always heard about vinegar being great ...</td>\n",
       "    </tr>\n",
       "    <tr>\n",
       "      <th>477782</th>\n",
       "      <td>516660</td>\n",
       "      <td>B000H1217M</td>\n",
       "      <td>A1HHNY1GVD3UIS</td>\n",
       "      <td>boomstick</td>\n",
       "      <td>0</td>\n",
       "      <td>0</td>\n",
       "      <td>positive</td>\n",
       "      <td>1351209600</td>\n",
       "      <td>my dogs love the peanut butter!</td>\n",
       "      <td>First off, read the ingredients, no crazy word...</td>\n",
       "    </tr>\n",
       "    <tr>\n",
       "      <th>179039</th>\n",
       "      <td>194172</td>\n",
       "      <td>B005UGSR72</td>\n",
       "      <td>A382RNG86OC7N0</td>\n",
       "      <td>Jennifer</td>\n",
       "      <td>0</td>\n",
       "      <td>0</td>\n",
       "      <td>positive</td>\n",
       "      <td>1351209600</td>\n",
       "      <td>Tully's Coffee</td>\n",
       "      <td>Tully's coffee is the smoothest coffee on the ...</td>\n",
       "    </tr>\n",
       "    <tr>\n",
       "      <th>84914</th>\n",
       "      <td>92421</td>\n",
       "      <td>B007TGDXMK</td>\n",
       "      <td>A1BSGNCHEI1PJI</td>\n",
       "      <td>Kelly Bowser \"Runs W Scissors\"</td>\n",
       "      <td>0</td>\n",
       "      <td>0</td>\n",
       "      <td>positive</td>\n",
       "      <td>1351209600</td>\n",
       "      <td>Very Nice Medium Roast</td>\n",
       "      <td>This coffee has the best aroma!  Great medium ...</td>\n",
       "    </tr>\n",
       "    <tr>\n",
       "      <th>87501</th>\n",
       "      <td>95241</td>\n",
       "      <td>B00401OZ1U</td>\n",
       "      <td>A1KIL93AY6MFGS</td>\n",
       "      <td>John K. Kirk</td>\n",
       "      <td>0</td>\n",
       "      <td>0</td>\n",
       "      <td>positive</td>\n",
       "      <td>1351209600</td>\n",
       "      <td>Metromint or Bust!</td>\n",
       "      <td>Chilled Oragemint is a classic refreshment for...</td>\n",
       "    </tr>\n",
       "    <tr>\n",
       "      <th>495272</th>\n",
       "      <td>535437</td>\n",
       "      <td>B001EO5RSQ</td>\n",
       "      <td>A33W5JAFGHYRQZ</td>\n",
       "      <td>ghermine \"ghermine\"</td>\n",
       "      <td>0</td>\n",
       "      <td>0</td>\n",
       "      <td>positive</td>\n",
       "      <td>1351209600</td>\n",
       "      <td>Love this Cereal!</td>\n",
       "      <td>There is nothing else like this on the market....</td>\n",
       "    </tr>\n",
       "    <tr>\n",
       "      <th>179040</th>\n",
       "      <td>194173</td>\n",
       "      <td>B005UGSR72</td>\n",
       "      <td>A1PFJU470P7MWW</td>\n",
       "      <td>Michael M</td>\n",
       "      <td>0</td>\n",
       "      <td>0</td>\n",
       "      <td>positive</td>\n",
       "      <td>1351209600</td>\n",
       "      <td>Very good, not great</td>\n",
       "      <td>Tastes good, but not sure you can really taste...</td>\n",
       "    </tr>\n",
       "    <tr>\n",
       "      <th>366461</th>\n",
       "      <td>396260</td>\n",
       "      <td>B007FK3JS8</td>\n",
       "      <td>A11X0ENDTFGCEH</td>\n",
       "      <td>marval</td>\n",
       "      <td>0</td>\n",
       "      <td>0</td>\n",
       "      <td>positive</td>\n",
       "      <td>1351209600</td>\n",
       "      <td>Enjoyable, quick cups of coffee with no waste</td>\n",
       "      <td>My mother loves this coffee and the pods fit h...</td>\n",
       "    </tr>\n",
       "    <tr>\n",
       "      <th>281574</th>\n",
       "      <td>305063</td>\n",
       "      <td>B004CQYODW</td>\n",
       "      <td>AM2ADIDTH4SI4</td>\n",
       "      <td>DC Kids</td>\n",
       "      <td>0</td>\n",
       "      <td>0</td>\n",
       "      <td>positive</td>\n",
       "      <td>1351209600</td>\n",
       "      <td>Bing</td>\n",
       "      <td>I love that I can still get this product in Ca...</td>\n",
       "    </tr>\n",
       "    <tr>\n",
       "      <th>340014</th>\n",
       "      <td>367856</td>\n",
       "      <td>B003B3OOPA</td>\n",
       "      <td>A1IDRPIHIMFU3Z</td>\n",
       "      <td>I. K. Anderson \"rollin in the dough\"</td>\n",
       "      <td>0</td>\n",
       "      <td>0</td>\n",
       "      <td>positive</td>\n",
       "      <td>1351209600</td>\n",
       "      <td>Ezcema Treatment</td>\n",
       "      <td>My 7 mo old had ezcema from our laundry deterg...</td>\n",
       "    </tr>\n",
       "    <tr>\n",
       "      <th>429396</th>\n",
       "      <td>464365</td>\n",
       "      <td>B000UBD88A</td>\n",
       "      <td>AWRFQYLG7LQKJ</td>\n",
       "      <td>Rocdoc \"Roc\"</td>\n",
       "      <td>0</td>\n",
       "      <td>0</td>\n",
       "      <td>negative</td>\n",
       "      <td>1351209600</td>\n",
       "      <td>Not very strong</td>\n",
       "      <td>Not as strong as the regular dark coffee.  Dis...</td>\n",
       "    </tr>\n",
       "    <tr>\n",
       "      <th>192891</th>\n",
       "      <td>209139</td>\n",
       "      <td>B00004RAMY</td>\n",
       "      <td>A24GR1MZXO4MOM</td>\n",
       "      <td>MO</td>\n",
       "      <td>0</td>\n",
       "      <td>0</td>\n",
       "      <td>positive</td>\n",
       "      <td>1351209600</td>\n",
       "      <td>Great Mole Trap</td>\n",
       "      <td>A very well built mole trap that works great w...</td>\n",
       "    </tr>\n",
       "    <tr>\n",
       "      <th>295506</th>\n",
       "      <td>320109</td>\n",
       "      <td>B003Z6W32E</td>\n",
       "      <td>A2GW6JUVTALDPV</td>\n",
       "      <td>DL</td>\n",
       "      <td>0</td>\n",
       "      <td>0</td>\n",
       "      <td>negative</td>\n",
       "      <td>1351209600</td>\n",
       "      <td>I did not receive my order</td>\n",
       "      <td>I placed my order through Amazon and after abo...</td>\n",
       "    </tr>\n",
       "    <tr>\n",
       "      <th>192892</th>\n",
       "      <td>209140</td>\n",
       "      <td>B00004RAMY</td>\n",
       "      <td>AEQ2FUEQEQVTI</td>\n",
       "      <td>heathcliff</td>\n",
       "      <td>0</td>\n",
       "      <td>0</td>\n",
       "      <td>negative</td>\n",
       "      <td>1351209600</td>\n",
       "      <td>defective device</td>\n",
       "      <td>no instructions provided. Trap would not open....</td>\n",
       "    </tr>\n",
       "    <tr>\n",
       "      <th>156339</th>\n",
       "      <td>169542</td>\n",
       "      <td>B005HI557S</td>\n",
       "      <td>A36ERNIM0TKG3T</td>\n",
       "      <td>Donald E. Bolton</td>\n",
       "      <td>0</td>\n",
       "      <td>0</td>\n",
       "      <td>positive</td>\n",
       "      <td>1351209600</td>\n",
       "      <td>Hidden Springs Maple syrup</td>\n",
       "      <td>This is one of the very finest maple syrups I ...</td>\n",
       "    </tr>\n",
       "    <tr>\n",
       "      <th>310825</th>\n",
       "      <td>336543</td>\n",
       "      <td>B000BRR8VQ</td>\n",
       "      <td>A1HHNY1GVD3UIS</td>\n",
       "      <td>boomstick</td>\n",
       "      <td>0</td>\n",
       "      <td>0</td>\n",
       "      <td>positive</td>\n",
       "      <td>1351209600</td>\n",
       "      <td>my dogs love the peanut butter!</td>\n",
       "      <td>First off, read the ingredients, no crazy word...</td>\n",
       "    </tr>\n",
       "    <tr>\n",
       "      <th>96263</th>\n",
       "      <td>104607</td>\n",
       "      <td>B000FACFIA</td>\n",
       "      <td>A1TTGEM50SIS2R</td>\n",
       "      <td>Abby</td>\n",
       "      <td>0</td>\n",
       "      <td>0</td>\n",
       "      <td>positive</td>\n",
       "      <td>1351209600</td>\n",
       "      <td>Licorice Scottie Dogs, Red</td>\n",
       "      <td>I love the Gimbals Red Licorice Scottie dogs I...</td>\n",
       "    </tr>\n",
       "    <tr>\n",
       "      <th>511276</th>\n",
       "      <td>552817</td>\n",
       "      <td>B004TBCP22</td>\n",
       "      <td>A2P9JQ1B3PIVB4</td>\n",
       "      <td>Jan C</td>\n",
       "      <td>0</td>\n",
       "      <td>0</td>\n",
       "      <td>negative</td>\n",
       "      <td>1351209600</td>\n",
       "      <td>TASTED &amp; SMELLED STALE</td>\n",
       "      <td>I just got back from a 3 week Rhine River crui...</td>\n",
       "    </tr>\n",
       "    <tr>\n",
       "      <th>319733</th>\n",
       "      <td>346131</td>\n",
       "      <td>B004TJF3BE</td>\n",
       "      <td>A2TZKSY1ZWPOU9</td>\n",
       "      <td>wejani</td>\n",
       "      <td>0</td>\n",
       "      <td>0</td>\n",
       "      <td>positive</td>\n",
       "      <td>1351209600</td>\n",
       "      <td>Great Hot Cider!!!</td>\n",
       "      <td>It is hard to find much of anything sugarfree ...</td>\n",
       "    </tr>\n",
       "    <tr>\n",
       "      <th>30235</th>\n",
       "      <td>32932</td>\n",
       "      <td>B001P05K8Q</td>\n",
       "      <td>A3L0B5NBTQ7ZHO</td>\n",
       "      <td>Julie</td>\n",
       "      <td>0</td>\n",
       "      <td>0</td>\n",
       "      <td>positive</td>\n",
       "      <td>1351209600</td>\n",
       "      <td>Great results but they stink</td>\n",
       "      <td>We originally purchased these chews from our v...</td>\n",
       "    </tr>\n",
       "    <tr>\n",
       "      <th>55730</th>\n",
       "      <td>60463</td>\n",
       "      <td>B003QNJYXM</td>\n",
       "      <td>AYTSBGA5A3UWI</td>\n",
       "      <td>Imran Ali</td>\n",
       "      <td>0</td>\n",
       "      <td>0</td>\n",
       "      <td>positive</td>\n",
       "      <td>1351209600</td>\n",
       "      <td>A God Sent Remedy!!!</td>\n",
       "      <td>I love this stuff! It's a God sent Remedy for ...</td>\n",
       "    </tr>\n",
       "    <tr>\n",
       "      <th>55731</th>\n",
       "      <td>60464</td>\n",
       "      <td>B003QNJYXM</td>\n",
       "      <td>A2E2F8WSUB33VE</td>\n",
       "      <td>Maria A. Alfonzo</td>\n",
       "      <td>0</td>\n",
       "      <td>0</td>\n",
       "      <td>positive</td>\n",
       "      <td>1351209600</td>\n",
       "      <td>Excelent</td>\n",
       "      <td>Good price, flavor, fast delivery And good pre...</td>\n",
       "    </tr>\n",
       "    <tr>\n",
       "      <th>250505</th>\n",
       "      <td>271615</td>\n",
       "      <td>B001E52ZJ4</td>\n",
       "      <td>A34U0B84YB7FL2</td>\n",
       "      <td>Alan D. Roskam</td>\n",
       "      <td>0</td>\n",
       "      <td>0</td>\n",
       "      <td>positive</td>\n",
       "      <td>1351209600</td>\n",
       "      <td>Best of the Bunch</td>\n",
       "      <td>Tastes great and full of fiber. The new breakf...</td>\n",
       "    </tr>\n",
       "    <tr>\n",
       "      <th>189914</th>\n",
       "      <td>205938</td>\n",
       "      <td>B00005C2M2</td>\n",
       "      <td>A3IVNUHADVJKFA</td>\n",
       "      <td>Krystalyn A Kirschner</td>\n",
       "      <td>0</td>\n",
       "      <td>0</td>\n",
       "      <td>positive</td>\n",
       "      <td>1351209600</td>\n",
       "      <td>Perfect Gift</td>\n",
       "      <td>I got these to give out in a goodie bag for th...</td>\n",
       "    </tr>\n",
       "    <tr>\n",
       "      <th>517176</th>\n",
       "      <td>559158</td>\n",
       "      <td>B004LLGBQG</td>\n",
       "      <td>A4IL0CLL27Q33</td>\n",
       "      <td>D. Brennan</td>\n",
       "      <td>0</td>\n",
       "      <td>0</td>\n",
       "      <td>negative</td>\n",
       "      <td>1351209600</td>\n",
       "      <td>Buyer beware</td>\n",
       "      <td>Nespresso makes GREAT coffee and GREAT machine...</td>\n",
       "    </tr>\n",
       "    <tr>\n",
       "      <th>156284</th>\n",
       "      <td>169487</td>\n",
       "      <td>B000NM1BHQ</td>\n",
       "      <td>A2JDXKFZ0PFHKU</td>\n",
       "      <td>James W. Shondel</td>\n",
       "      <td>0</td>\n",
       "      <td>0</td>\n",
       "      <td>negative</td>\n",
       "      <td>1351209600</td>\n",
       "      <td>Received broken</td>\n",
       "      <td>I bought these to use as decorative center pie...</td>\n",
       "    </tr>\n",
       "    <tr>\n",
       "      <th>386211</th>\n",
       "      <td>417644</td>\n",
       "      <td>B001HTIUDC</td>\n",
       "      <td>A27RDA09KDYVGY</td>\n",
       "      <td>Lou85</td>\n",
       "      <td>0</td>\n",
       "      <td>0</td>\n",
       "      <td>positive</td>\n",
       "      <td>1351209600</td>\n",
       "      <td>Delicious</td>\n",
       "      <td>This product is a great alternative to peanut ...</td>\n",
       "    </tr>\n",
       "  </tbody>\n",
       "</table>\n",
       "<p>525814 rows × 10 columns</p>\n",
       "</div>"
      ],
      "text/plain": [
       "            Id   ProductId          UserId  \\\n",
       "138706  150524  0006641040   ACITT7DI6IDDL   \n",
       "138683  150501  0006641040   AJ46FKXOVC7NR   \n",
       "417839  451856  B00004CXX9   AIUWLEQ1ADEG5   \n",
       "417859  451878  B00004CXX9  A344SMIA5JECGM   \n",
       "212472  230285  B00004RYGX  A344SMIA5JECGM   \n",
       "346055  374359  B00004CI84  A344SMIA5JECGM   \n",
       "417838  451855  B00004CXX9   AJH6LUC1UT1ON   \n",
       "417927  451949  B00004CXX9  A1048CYU0OV4O8   \n",
       "212533  230348  B00004RYGX  A1048CYU0OV4O8   \n",
       "346116  374422  B00004CI84  A1048CYU0OV4O8   \n",
       "417847  451864  B00004CXX9   A1B2IZU1JLZA6   \n",
       "346041  374343  B00004CI84   A1B2IZU1JLZA6   \n",
       "212458  230269  B00004RYGX   A1B2IZU1JLZA6   \n",
       "70688    76882  B00002N8SM  A32DW342WBJ6BX   \n",
       "346141  374450  B00004CI84   ACJR7EQF9S6FP   \n",
       "417952  451977  B00004CXX9   ACJR7EQF9S6FP   \n",
       "212558  230376  B00004RYGX   ACJR7EQF9S6FP   \n",
       "417883  451903  B00004CXX9  A2DEE7F9XKP3ZR   \n",
       "212511  230326  B00004RYGX  A2DEE7F9XKP3ZR   \n",
       "346094  374400  B00004CI84  A2DEE7F9XKP3ZR   \n",
       "1146      1245  B00002Z754  A29Z5PI9BW2PU3   \n",
       "1145      1244  B00002Z754  A3B8RCEI0FXFI6   \n",
       "121041  131217  B00004RAMX   A5NQLNC6QPGSI   \n",
       "138017  149789  B00004S1C6  A1KXONFPU2XQ5K   \n",
       "138001  149770  B00004S1C5  A1KXONFPU2XQ5K   \n",
       "346115  374421  B00004CI84  A1FJOY14X3MUHE   \n",
       "417926  451948  B00004CXX9  A1FJOY14X3MUHE   \n",
       "212532  230347  B00004RYGX  A1FJOY14X3MUHE   \n",
       "212519  230334  B00004RYGX  A1GB1Q193DNFGR   \n",
       "346102  374408  B00004CI84  A1GB1Q193DNFGR   \n",
       "...        ...         ...             ...   \n",
       "421516  455891  B008K9TOU0   A3AE4G41HPLMP   \n",
       "390432  422146  B0001BH5YM   A1BZ3HMAKK0NC   \n",
       "279331  302676  B000UBH9YE  A1CM50V04TUUPF   \n",
       "232506  252202  B007F1MA46  A1LHOKYENR7HP2   \n",
       "477782  516660  B000H1217M  A1HHNY1GVD3UIS   \n",
       "179039  194172  B005UGSR72  A382RNG86OC7N0   \n",
       "84914    92421  B007TGDXMK  A1BSGNCHEI1PJI   \n",
       "87501    95241  B00401OZ1U  A1KIL93AY6MFGS   \n",
       "495272  535437  B001EO5RSQ  A33W5JAFGHYRQZ   \n",
       "179040  194173  B005UGSR72  A1PFJU470P7MWW   \n",
       "366461  396260  B007FK3JS8  A11X0ENDTFGCEH   \n",
       "281574  305063  B004CQYODW   AM2ADIDTH4SI4   \n",
       "340014  367856  B003B3OOPA  A1IDRPIHIMFU3Z   \n",
       "429396  464365  B000UBD88A   AWRFQYLG7LQKJ   \n",
       "192891  209139  B00004RAMY  A24GR1MZXO4MOM   \n",
       "295506  320109  B003Z6W32E  A2GW6JUVTALDPV   \n",
       "192892  209140  B00004RAMY   AEQ2FUEQEQVTI   \n",
       "156339  169542  B005HI557S  A36ERNIM0TKG3T   \n",
       "310825  336543  B000BRR8VQ  A1HHNY1GVD3UIS   \n",
       "96263   104607  B000FACFIA  A1TTGEM50SIS2R   \n",
       "511276  552817  B004TBCP22  A2P9JQ1B3PIVB4   \n",
       "319733  346131  B004TJF3BE  A2TZKSY1ZWPOU9   \n",
       "30235    32932  B001P05K8Q  A3L0B5NBTQ7ZHO   \n",
       "55730    60463  B003QNJYXM   AYTSBGA5A3UWI   \n",
       "55731    60464  B003QNJYXM  A2E2F8WSUB33VE   \n",
       "250505  271615  B001E52ZJ4  A34U0B84YB7FL2   \n",
       "189914  205938  B00005C2M2  A3IVNUHADVJKFA   \n",
       "517176  559158  B004LLGBQG   A4IL0CLL27Q33   \n",
       "156284  169487  B000NM1BHQ  A2JDXKFZ0PFHKU   \n",
       "386211  417644  B001HTIUDC  A27RDA09KDYVGY   \n",
       "\n",
       "                                 ProfileName  HelpfulnessNumerator  \\\n",
       "138706                       shari zychinski                     0   \n",
       "138683                    Nicholas A Mesiano                     2   \n",
       "417839                      Elizabeth Medina                     0   \n",
       "417859                       Vincent P. Ross                     1   \n",
       "212472                       Vincent P. Ross                     1   \n",
       "346055                       Vincent P. Ross                     1   \n",
       "417838              The Phantom of the Opera                     0   \n",
       "417927                          Judy L. Eans                     2   \n",
       "212533                          Judy L. Eans                     2   \n",
       "346116                          Judy L. Eans                     2   \n",
       "417847                                   Wes                    19   \n",
       "346041                                   Wes                    19   \n",
       "212458                                   Wes                    19   \n",
       "70688                            Buttersugar                     0   \n",
       "346141                      Jeremy Robertson                     2   \n",
       "417952                      Jeremy Robertson                     2   \n",
       "212558                      Jeremy Robertson                     2   \n",
       "417883                                jerome                     0   \n",
       "212511                                jerome                     0   \n",
       "346094                                jerome                     0   \n",
       "1146                                  Robbie                     7   \n",
       "1145                               B G Chase                    10   \n",
       "121041                             Kim Nason                     7   \n",
       "138017                      Stephanie Manley                    26   \n",
       "138001                      Stephanie Manley                     8   \n",
       "346115                         Justin Howard                     2   \n",
       "417926                         Justin Howard                     2   \n",
       "212532                         Justin Howard                     2   \n",
       "212519                      Bruce Lee Pullen                     5   \n",
       "346102                      Bruce Lee Pullen                     5   \n",
       "...                                      ...                   ...   \n",
       "421516                          ginger walsh                     0   \n",
       "390432          Patricia Campbell \"G.I JANE\"                     0   \n",
       "279331                                Shelly                     0   \n",
       "232506               L. Barlow \"Barlow Girl\"                     0   \n",
       "477782                             boomstick                     0   \n",
       "179039                              Jennifer                     0   \n",
       "84914         Kelly Bowser \"Runs W Scissors\"                     0   \n",
       "87501                           John K. Kirk                     0   \n",
       "495272                   ghermine \"ghermine\"                     0   \n",
       "179040                             Michael M                     0   \n",
       "366461                                marval                     0   \n",
       "281574                               DC Kids                     0   \n",
       "340014  I. K. Anderson \"rollin in the dough\"                     0   \n",
       "429396                          Rocdoc \"Roc\"                     0   \n",
       "192891                                    MO                     0   \n",
       "295506                                    DL                     0   \n",
       "192892                            heathcliff                     0   \n",
       "156339                      Donald E. Bolton                     0   \n",
       "310825                             boomstick                     0   \n",
       "96263                                   Abby                     0   \n",
       "511276                                 Jan C                     0   \n",
       "319733                                wejani                     0   \n",
       "30235                                  Julie                     0   \n",
       "55730                              Imran Ali                     0   \n",
       "55731                       Maria A. Alfonzo                     0   \n",
       "250505                        Alan D. Roskam                     0   \n",
       "189914                 Krystalyn A Kirschner                     0   \n",
       "517176                            D. Brennan                     0   \n",
       "156284                      James W. Shondel                     0   \n",
       "386211                                 Lou85                     0   \n",
       "\n",
       "        HelpfulnessDenominator     Score        Time  \\\n",
       "138706                       0  positive   939340800   \n",
       "138683                       2  positive   940809600   \n",
       "417839                       0  positive   944092800   \n",
       "417859                       2  positive   944438400   \n",
       "212472                       2  positive   944438400   \n",
       "346055                       2  positive   944438400   \n",
       "417838                       0  positive   946857600   \n",
       "417927                       2  positive   947376000   \n",
       "212533                       2  positive   947376000   \n",
       "346116                       2  positive   947376000   \n",
       "417847                      23  negative   948240000   \n",
       "346041                      23  negative   948240000   \n",
       "212458                      23  negative   948240000   \n",
       "70688                        0  positive   948672000   \n",
       "346141                       3  positive   951523200   \n",
       "417952                       3  positive   951523200   \n",
       "212558                       3  positive   951523200   \n",
       "417883                       1  positive   959990400   \n",
       "212511                       3  positive   959990400   \n",
       "346094                       3  positive   959990400   \n",
       "1146                         7  positive   961718400   \n",
       "1145                        10  positive   962236800   \n",
       "121041                       8  positive   965001600   \n",
       "138017                      28  positive   965779200   \n",
       "138001                       8  positive   965779200   \n",
       "346115                       2  positive   966297600   \n",
       "417926                       2  positive   966297600   \n",
       "212532                       2  positive   966297600   \n",
       "212519                       5  positive   970531200   \n",
       "346102                       5  positive   970531200   \n",
       "...                        ...       ...         ...   \n",
       "421516                       0  positive  1351209600   \n",
       "390432                       0  positive  1351209600   \n",
       "279331                       0  positive  1351209600   \n",
       "232506                       0  positive  1351209600   \n",
       "477782                       0  positive  1351209600   \n",
       "179039                       0  positive  1351209600   \n",
       "84914                        0  positive  1351209600   \n",
       "87501                        0  positive  1351209600   \n",
       "495272                       0  positive  1351209600   \n",
       "179040                       0  positive  1351209600   \n",
       "366461                       0  positive  1351209600   \n",
       "281574                       0  positive  1351209600   \n",
       "340014                       0  positive  1351209600   \n",
       "429396                       0  negative  1351209600   \n",
       "192891                       0  positive  1351209600   \n",
       "295506                       0  negative  1351209600   \n",
       "192892                       0  negative  1351209600   \n",
       "156339                       0  positive  1351209600   \n",
       "310825                       0  positive  1351209600   \n",
       "96263                        0  positive  1351209600   \n",
       "511276                       0  negative  1351209600   \n",
       "319733                       0  positive  1351209600   \n",
       "30235                        0  positive  1351209600   \n",
       "55730                        0  positive  1351209600   \n",
       "55731                        0  positive  1351209600   \n",
       "250505                       0  positive  1351209600   \n",
       "189914                       0  positive  1351209600   \n",
       "517176                       0  negative  1351209600   \n",
       "156284                       0  negative  1351209600   \n",
       "386211                       0  positive  1351209600   \n",
       "\n",
       "                                                  Summary  \\\n",
       "138706                          EVERY book is educational   \n",
       "138683  This whole series is great way to spend time w...   \n",
       "417839                               Entertainingl Funny!   \n",
       "417859                            A modern day fairy tale   \n",
       "212472                            A modern day fairy tale   \n",
       "346055                            A modern day fairy tale   \n",
       "417838                                         FANTASTIC!   \n",
       "417927                                              GREAT   \n",
       "212533                                              GREAT   \n",
       "346116                                              GREAT   \n",
       "417847    WARNING: CLAMSHELL EDITION IS EDITED TV VERSION   \n",
       "346041    WARNING: CLAMSHELL EDITION IS EDITED TV VERSION   \n",
       "212458    WARNING: CLAMSHELL EDITION IS EDITED TV VERSION   \n",
       "70688                              A sure death for flies   \n",
       "346141           Bettlejuice...Bettlejuice...BETTLEJUICE!   \n",
       "417952           Bettlejuice...Bettlejuice...BETTLEJUICE!   \n",
       "212558           Bettlejuice...Bettlejuice...BETTLEJUICE!   \n",
       "417883                                           Research   \n",
       "212511      Research - Beatlejuice video - French version   \n",
       "346094      Research - Beatlejuice video - French version   \n",
       "1146                                        Great Product   \n",
       "1145                       WOW Make your own 'slickers' !   \n",
       "121041                           End your Gopher Problems   \n",
       "138017                                       A must have!   \n",
       "138001                                   Very easy to use   \n",
       "346115  A fresh, original film from master storyteller...   \n",
       "417926  A fresh, original film from master storyteller...   \n",
       "212532  A fresh, original film from master storyteller...   \n",
       "212519       Fabulous Comedic Fanasy Directed by a Master   \n",
       "346102       Fabulous Comedic Fanasy Directed by a Master   \n",
       "...                                                   ...   \n",
       "421516                   Newman's own Organics Decaf Cups   \n",
       "390432                      My favorite and only  MUSTARD   \n",
       "279331                                    Love My Senseo!   \n",
       "232506                                  Vinegar Is Magic!   \n",
       "477782                    my dogs love the peanut butter!   \n",
       "179039                                     Tully's Coffee   \n",
       "84914                              Very Nice Medium Roast   \n",
       "87501                                  Metromint or Bust!   \n",
       "495272                                  Love this Cereal!   \n",
       "179040                               Very good, not great   \n",
       "366461      Enjoyable, quick cups of coffee with no waste   \n",
       "281574                                               Bing   \n",
       "340014                                   Ezcema Treatment   \n",
       "429396                                    Not very strong   \n",
       "192891                                    Great Mole Trap   \n",
       "295506                         I did not receive my order   \n",
       "192892                                   defective device   \n",
       "156339                         Hidden Springs Maple syrup   \n",
       "310825                    my dogs love the peanut butter!   \n",
       "96263                          Licorice Scottie Dogs, Red   \n",
       "511276                             TASTED & SMELLED STALE   \n",
       "319733                                 Great Hot Cider!!!   \n",
       "30235                        Great results but they stink   \n",
       "55730                                A God Sent Remedy!!!   \n",
       "55731                                            Excelent   \n",
       "250505                                  Best of the Bunch   \n",
       "189914                                       Perfect Gift   \n",
       "517176                                       Buyer beware   \n",
       "156284                                    Received broken   \n",
       "386211                                          Delicious   \n",
       "\n",
       "                                                     Text  \n",
       "138706  this witty little book makes my son laugh at l...  \n",
       "138683  I can remember seeing the show when it aired o...  \n",
       "417839  Beetlejuice is a well written movie ..... ever...  \n",
       "417859  A twist of rumplestiskin captured on film, sta...  \n",
       "212472  A twist of rumplestiskin captured on film, sta...  \n",
       "346055  A twist of rumplestiskin captured on film, sta...  \n",
       "417838  Beetlejuice is an excellent and funny movie. K...  \n",
       "417927  THIS IS ONE MOVIE THAT SHOULD BE IN YOUR MOVIE...  \n",
       "212533  THIS IS ONE MOVIE THAT SHOULD BE IN YOUR MOVIE...  \n",
       "346116  THIS IS ONE MOVIE THAT SHOULD BE IN YOUR MOVIE...  \n",
       "417847  I, myself always enjoyed this movie, it's very...  \n",
       "346041  I, myself always enjoyed this movie, it's very...  \n",
       "212458  I, myself always enjoyed this movie, it's very...  \n",
       "70688   I bought a few of these after my apartment was...  \n",
       "346141  What happens when you say his name three times...  \n",
       "417952  What happens when you say his name three times...  \n",
       "212558  What happens when you say his name three times...  \n",
       "417883  I'm getting crazy.<p>Is it really impossible t...  \n",
       "212511  I'm getting crazy.I'm looking for Beatlejuice ...  \n",
       "346094  I'm getting crazy.I'm looking for Beatlejuice ...  \n",
       "1146    This was a really good idea and the final prod...  \n",
       "1145    I just received my shipment and could hardly w...  \n",
       "121041  I have just recently purchased the Woodstream ...  \n",
       "138017  These are easy to use, they do not make a mess...  \n",
       "138001  This are so much easier to use than the Wilson...  \n",
       "346115  This is such a great film, I don't even know h...  \n",
       "417926  This is such a great film, I don't even know h...  \n",
       "212532  This is such a great film, I don't even know h...  \n",
       "212519  Beetlejuice is an awe-inspiring wonderfully am...  \n",
       "346102  Beetlejuice is an awe-inspiring wonderfully am...  \n",
       "...                                                   ...  \n",
       "421516  newman's Own Organics Special Decaf hasGreat f...  \n",
       "390432  You've just got to experience this mustard... ...  \n",
       "279331  I I haven't had a bad cup of coffee yet.  So f...  \n",
       "232506  I have always heard about vinegar being great ...  \n",
       "477782  First off, read the ingredients, no crazy word...  \n",
       "179039  Tully's coffee is the smoothest coffee on the ...  \n",
       "84914   This coffee has the best aroma!  Great medium ...  \n",
       "87501   Chilled Oragemint is a classic refreshment for...  \n",
       "495272  There is nothing else like this on the market....  \n",
       "179040  Tastes good, but not sure you can really taste...  \n",
       "366461  My mother loves this coffee and the pods fit h...  \n",
       "281574  I love that I can still get this product in Ca...  \n",
       "340014  My 7 mo old had ezcema from our laundry deterg...  \n",
       "429396  Not as strong as the regular dark coffee.  Dis...  \n",
       "192891  A very well built mole trap that works great w...  \n",
       "295506  I placed my order through Amazon and after abo...  \n",
       "192892  no instructions provided. Trap would not open....  \n",
       "156339  This is one of the very finest maple syrups I ...  \n",
       "310825  First off, read the ingredients, no crazy word...  \n",
       "96263   I love the Gimbals Red Licorice Scottie dogs I...  \n",
       "511276  I just got back from a 3 week Rhine River crui...  \n",
       "319733  It is hard to find much of anything sugarfree ...  \n",
       "30235   We originally purchased these chews from our v...  \n",
       "55730   I love this stuff! It's a God sent Remedy for ...  \n",
       "55731   Good price, flavor, fast delivery And good pre...  \n",
       "250505  Tastes great and full of fiber. The new breakf...  \n",
       "189914  I got these to give out in a goodie bag for th...  \n",
       "517176  Nespresso makes GREAT coffee and GREAT machine...  \n",
       "156284  I bought these to use as decorative center pie...  \n",
       "386211  This product is a great alternative to peanut ...  \n",
       "\n",
       "[525814 rows x 10 columns]"
      ]
     },
     "execution_count": 28,
     "metadata": {},
     "output_type": "execute_result"
    }
   ],
   "source": [
    "filtered_data_final.sort_values('Time')"
   ]
  },
  {
   "cell_type": "markdown",
   "metadata": {},
   "source": [
    "# Data Preprocessing"
   ]
  },
  {
   "cell_type": "code",
   "execution_count": 63,
   "metadata": {},
   "outputs": [
    {
     "data": {
      "text/plain": [
       "positive    307061\n",
       "negative     57110\n",
       "Name: Score, dtype: int64"
      ]
     },
     "execution_count": 63,
     "metadata": {},
     "output_type": "execute_result"
    }
   ],
   "source": [
    "#Checking the counts of postive and negative reviews\n",
    "\n",
    "final['Score'].value_counts()"
   ]
  },
  {
   "cell_type": "code",
   "execution_count": 86,
   "metadata": {},
   "outputs": [
    {
     "data": {
      "text/plain": [
       "positive    500\n",
       "negative    500\n",
       "Name: Score, dtype: int64"
      ]
     },
     "execution_count": 86,
     "metadata": {},
     "output_type": "execute_result"
    }
   ],
   "source": [
    "# Randomly sample 10k points from both class\n",
    "\n",
    "data_pos = final[final[\"Score\"] == \"positive\"].sample(n = 500)\n",
    "data_neg = final[final[\"Score\"] == \"negative\"].sample(n = 500)\n",
    "final_data = pd.concat([data_pos, data_neg])\n",
    "\n",
    "final_data['Score'].value_counts()"
   ]
  },
  {
   "cell_type": "markdown",
   "metadata": {},
   "source": [
    "# 7.2.3 Text Preprocessing: Stemming, stop-word removal and Lemmatization.\n",
    "\n",
    "Now that we have finished deduplication our data requires some preprocessing before we go on further with analysis and making the prediction model.\n",
    "\n",
    "Hence in the Preprocessing phase we do the following in the order below:-\n",
    "\n",
    "1. Begin by removing the html tags\n",
    "2. Remove any punctuations or limited set of special characters like , or . or # etc.\n",
    "3. Check if the word is made up of english letters and is not alpha-numeric\n",
    "4. Check to see if the length of the word is greater than 2 (as it was researched that there is no adjective in 2-letters)\n",
    "5. Convert the word to lowercase\n",
    "6. Remove Stopwords\n",
    "7. Finally Snowball Stemming the word (it was obsereved to be better than Porter Stemming)\n",
    "8. After which we collect the words used to describe positive and negative reviews"
   ]
  },
  {
   "cell_type": "code",
   "execution_count": 87,
   "metadata": {},
   "outputs": [
    {
     "name": "stdout",
     "output_type": "stream",
     "text": [
      "6\n",
      "This is really a fantastic little product.  I am using mine for the first time this morning to brew some Yerba mate 'gringo style' and it works great.<br /><br />I would give it five stars but the other reviewer has a point, the holes on the bottom of the infuser do let out little pieces of the tea, however a bit of common sense can get around this problem.<br /><br />After you load up your tea and put the lid on the infuser, turn it upside town (holes up), and shake vigorously.  The small particles will sift to the bottom (the top) so when you turn it back over they're all at the top of the tea.  Problem solved.<br /><br />One other problem I just discovered is that the lid of the infuser doesn't seal so after you're done making your tea and you turn the infuser over to set it down (holes up) the liquid still in the tea slowly leaks out the bottom to make a small mess on your counter.  Not cool!\n"
     ]
    }
   ],
   "source": [
    "# find sentences containing HTML tags\n",
    "import re\n",
    "from nltk.corpus import stopwords\n",
    "from nltk.stem.wordnet import WordNetLemmatizer\n",
    "i=0;\n",
    "for sent in final_data['Text'].values:\n",
    "    if (len(re.findall('<.*?>', sent))):\n",
    "        print(i)\n",
    "        print(sent)\n",
    "        break;\n",
    "    i += 1;"
   ]
  },
  {
   "cell_type": "code",
   "execution_count": 88,
   "metadata": {},
   "outputs": [],
   "source": [
    "stop = set(stopwords.words('english')) #set of stopwords\n",
    "sno = nltk.stem.SnowballStemmer('english') #initialising the snowball stemmer\n",
    "\n",
    "def cleanhtml(sentence): #function to clean the word of any html-tags\n",
    "    cleanr = re.compile('<.*?>')\n",
    "    cleantext = re.sub(cleanr, ' ', sentence)\n",
    "    return cleantext\n",
    "def cleanpunc(sentence): #function to clean the word of any punctuation or special characters\n",
    "    cleaned = re.sub(r'[?|!|\\'|\"|#]',r'',sentence)\n",
    "    cleaned = re.sub(r'[.|,|)|(|\\|/]',r' ',cleaned)\n",
    "    return  cleaned"
   ]
  },
  {
   "cell_type": "code",
   "execution_count": 89,
   "metadata": {},
   "outputs": [],
   "source": [
    "#Code for implementing step-by-step the checks mentioned in the pre-processing phase\n",
    "# this code takes a while to run as it needs to run on 500k sentences.\n",
    "i=0\n",
    "str1=' '\n",
    "final_string=[]\n",
    "all_positive_words=[] # store words from +ve reviews here\n",
    "all_negative_words=[] # store words from -ve reviews here.\n",
    "s=''\n",
    "for sent in final_data['Text'].values:\n",
    "    filtered_sentence=[]\n",
    "    #print(sent);\n",
    "    sent=cleanhtml(sent) # remove HTMl tags\n",
    "    for w in sent.split():\n",
    "        for cleaned_words in cleanpunc(w).split():\n",
    "            if((cleaned_words.isalpha()) & (len(cleaned_words)>2)):    \n",
    "                if(cleaned_words.lower() not in stop):\n",
    "                    s=(sno.stem(cleaned_words.lower())).encode('utf8')\n",
    "                    filtered_sentence.append(s)\n",
    "                    if (final_data['Score'].values)[i] == 'positive': \n",
    "                        all_positive_words.append(s) #list of all words used to describe positive reviews\n",
    "                    if(final_data['Score'].values)[i] == 'negative':\n",
    "                        all_negative_words.append(s) #list of all words used to describe negative reviews reviews\n",
    "                else:\n",
    "                    continue\n",
    "            else:\n",
    "                continue \n",
    "    #print(filtered_sentence)\n",
    "    str1 = b\" \".join(filtered_sentence) #final string of cleaned words\n",
    "    #print(\"***********************************************************************\")\n",
    "    \n",
    "    final_string.append(str1)\n",
    "    i+=1"
   ]
  },
  {
   "cell_type": "code",
   "execution_count": 90,
   "metadata": {},
   "outputs": [],
   "source": [
    "final_data['CleanedText']=final_string #adding a column of CleanedText which displays the data after pre-processing of the review \n",
    "final_data['CleanedText']=final_data['CleanedText'].str.decode(\"utf-8\")"
   ]
  },
  {
   "cell_type": "code",
   "execution_count": 91,
   "metadata": {},
   "outputs": [
    {
     "data": {
      "text/plain": [
       "(1000,)"
      ]
     },
     "execution_count": 91,
     "metadata": {},
     "output_type": "execute_result"
    }
   ],
   "source": [
    "X = final_data[\"CleanedText\"]\n",
    "\n",
    "X.shape"
   ]
  },
  {
   "cell_type": "code",
   "execution_count": 92,
   "metadata": {},
   "outputs": [
    {
     "data": {
      "text/plain": [
       "(1000,)"
      ]
     },
     "execution_count": 92,
     "metadata": {},
     "output_type": "execute_result"
    }
   ],
   "source": [
    "y = final_data['Score']\n",
    "y.shape"
   ]
  },
  {
   "cell_type": "markdown",
   "metadata": {},
   "source": [
    "# KNN with KdTree and Brute"
   ]
  },
  {
   "cell_type": "code",
   "execution_count": 93,
   "metadata": {},
   "outputs": [],
   "source": [
    "def determineknn(X_1_input,X_test_input,y_1_input,y_test_input,VectorizationType):\n",
    "    \n",
    "    cv_scores = []\n",
    "    algorithm = ['kd_tree','brute']\n",
    "    \n",
    "    myList = list(range(0,50))\n",
    "    neighbors = list(filter(lambda x: x % 2 != 0, myList))\n",
    "    \n",
    "    for algo in algorithm:\n",
    "        # since kd_tree cannot consume Sparse Matrix. Converting Sparse Matrix to Dense using Truncated SVD.\n",
    "        \n",
    "        if algo == 'kd_tree':\n",
    "            svd = TruncatedSVD()\n",
    "            X_tr_input1 = svd.fit_transform(X_1_input)\n",
    "            x_test_input1 = svd.fit_transform(X_test_input)\n",
    "            X_1_input = X_tr_input1\n",
    "            X_test_input = x_test_input1\n",
    "        \n",
    "        for i in neighbors:\n",
    "            knn = KNeighborsClassifier(n_neighbors=i,algorithm = algo)\n",
    "\n",
    "            scores = cross_val_score(knn, X_1_input, y_1_input, cv=10, scoring='accuracy')\n",
    "            cv_scores.append(scores.mean())\n",
    "        \n",
    "        # changing to misclassification error\n",
    "        MSE = []\n",
    "        for x in cv_scores:\n",
    "            MSE.append(1-x)\n",
    "\n",
    "        k_optimum = neighbors[MSE.index(min(MSE))]\n",
    "        \n",
    "        plt.plot(neighbors, MSE)\n",
    "\n",
    "        plt.xlabel('Number of Neighbors K')\n",
    "        plt.ylabel('Misclassification Error')\n",
    "        plt.show()\n",
    "        \n",
    "        MSE.clear()\n",
    "        cv_scores.clear()\n",
    "        \n",
    "        knn = KNeighborsClassifier(n_neighbors=k_optimum,algorithm = algo)\n",
    "        # fitting the model on crossvalidation train\n",
    "        knn.fit(X_1_input, y_1_input)\n",
    "\n",
    "        # predict the response on test\n",
    "        pred = knn.predict(X_test_input)\n",
    "        \n",
    "        #Accuracy on train data\n",
    "        train_acc = knn.score(X_1_input, y_1_input)\n",
    "        train_err = 1-train_acc\n",
    "        \n",
    "        #Accuracy on test data\n",
    "        test_acc = accuracy_score(y_test_input, pred)*100\n",
    "        test_err = 1- test_acc\n",
    "        \n",
    "        # evaluate test accuracy\n",
    "        #acc = accuracy_score(test, pred, normalize=True) * float(100)\n",
    "        print('Details for ',VectorizationType,'Vectorization:')\n",
    "        print('*'*100)\n",
    "        print('Accuracy for',algo,' algorithm with K =',k_optimum,' is ' ,np.round(accuracy_score(y_test_input, pred)*100))\n",
    "        print ('\\n clasification report for',algo,' algorithm with K =',k_optimum,' is \\n ' , classification_report(y_test_input,pred))\n",
    "        print ('\\n confussion matrix for',algo,' algorithm with K =',k_optimum,' is \\n' ,confusion_matrix(y_test_input, pred))\n",
    "        \n",
    "        cm= confusion_matrix(y_test_input, pred)\n",
    "        class_label = [\"negative\", \"positive\"]\n",
    "        df_cm = pd.DataFrame(cm, index = class_label, columns = class_label)\n",
    "        sns.heatmap(df_cm, annot = True, fmt = \"d\")\n",
    "        plt.title(\"Confusion Matrix\")\n",
    "        plt.xlabel(\"Predicted Label\")\n",
    "        plt.ylabel(\"True Label\")\n",
    "        plt.show()\n",
    "\n",
    "    return k_optimum,train_err, test_err"
   ]
  },
  {
   "cell_type": "code",
   "execution_count": 94,
   "metadata": {},
   "outputs": [],
   "source": [
    "# split the data set into train and test\n",
    "X_1, X_test, y_1, y_test = cross_validation.train_test_split(X, y, test_size=0.3, random_state=0)"
   ]
  },
  {
   "cell_type": "markdown",
   "metadata": {},
   "source": [
    "# Calculating optimal K value and accuracy when K = optimal K for BOW"
   ]
  },
  {
   "cell_type": "code",
   "execution_count": 95,
   "metadata": {},
   "outputs": [],
   "source": [
    "#BOW\n",
    "count_vec = CountVectorizer(ngram_range=(1,2))  \n",
    "\n",
    "vect = count_vec.fit(X)\n",
    "\n",
    "X_1 = vect.transform(X_1)\n",
    "\n",
    "X_test = vect.transform(X_test)"
   ]
  },
  {
   "cell_type": "code",
   "execution_count": 96,
   "metadata": {},
   "outputs": [
    {
     "data": {
      "image/png": "[encoded data removed]",
      "text/plain": [
       "<Figure size 432x288 with 1 Axes>"
      ]
     },
     "metadata": {},
     "output_type": "display_data"
    },
    {
     "name": "stdout",
     "output_type": "stream",
     "text": [
      "Details for  Bag Of Words Vectorization:\n",
      "****************************************************************************************************\n",
      "Accuracy for kd_tree  algorithm with K = 7  is  56.0\n",
      "\n",
      " clasification report for kd_tree  algorithm with K = 7  is \n",
      "               precision    recall  f1-score   support\n",
      "\n",
      "   negative       0.57      0.60      0.58       156\n",
      "   positive       0.54      0.52      0.53       144\n",
      "\n",
      "avg / total       0.56      0.56      0.56       300\n",
      "\n",
      "\n",
      " confussion matrix for kd_tree  algorithm with K = 7  is \n",
      " [[93 63]\n",
      " [69 75]]\n"
     ]
    },
    {
     "data": {
      "image/png": "[encoded data removed]",
      "text/plain": [
       "<Figure size 432x288 with 2 Axes>"
      ]
     },
     "metadata": {},
     "output_type": "display_data"
    },
    {
     "data": {
      "image/png": "[encoded data removed]",
      "text/plain": [
       "<Figure size 432x288 with 1 Axes>"
      ]
     },
     "metadata": {},
     "output_type": "display_data"
    },
    {
     "name": "stdout",
     "output_type": "stream",
     "text": [
      "Details for  Bag Of Words Vectorization:\n",
      "****************************************************************************************************\n",
      "Accuracy for brute  algorithm with K = 7  is  56.0\n",
      "\n",
      " clasification report for brute  algorithm with K = 7  is \n",
      "               precision    recall  f1-score   support\n",
      "\n",
      "   negative       0.57      0.60      0.58       156\n",
      "   positive       0.54      0.52      0.53       144\n",
      "\n",
      "avg / total       0.56      0.56      0.56       300\n",
      "\n",
      "\n",
      " confussion matrix for brute  algorithm with K = 7  is \n",
      " [[93 63]\n",
      " [69 75]]\n"
     ]
    },
    {
     "data": {
      "image/png": "[encoded data removed]",
      "text/plain": [
       "<Figure size 432x288 with 2 Axes>"
      ]
     },
     "metadata": {},
     "output_type": "display_data"
    }
   ],
   "source": [
    "#Optimal K \n",
    "optimalk_bow,train_err_bow,test_err_bow = determineknn(X_1,X_test,y_1,y_test,\"Bag Of Words\")"
   ]
  },
  {
   "cell_type": "markdown",
   "metadata": {},
   "source": [
    "# Calculating optimal K value and accuracy when K = optimal K for Td-Idf"
   ]
  },
  {
   "cell_type": "code",
   "execution_count": 64,
   "metadata": {},
   "outputs": [],
   "source": [
    "tf_idf_vec = TfidfVectorizer(ngram_range=(1,2)).fit(X)\n",
    "\n",
    "X_tr_vectorized = tf_idf_vec.transform(X_1)\n",
    "X_ts_vectorized = tf_idf_vec.transform(X_test)"
   ]
  },
  {
   "cell_type": "code",
   "execution_count": 32,
   "metadata": {},
   "outputs": [
    {
     "data": {
      "text/plain": [
       "(7000, 238873)"
      ]
     },
     "execution_count": 32,
     "metadata": {},
     "output_type": "execute_result"
    }
   ],
   "source": [
    "from sklearn.preprocessing import StandardScaler\n",
    "\n",
    "X_1 = StandardScaler(with_mean = False).fit_transform(X_tr_vectorized)\n",
    "\n",
    "X_test = StandardScaler(with_mean = False).fit_transform(X_ts_vectorized)\n",
    "\n",
    "X_1.shape"
   ]
  },
  {
   "cell_type": "code",
   "execution_count": 33,
   "metadata": {},
   "outputs": [
    {
     "data": {
      "text/plain": [
       "(3000, 238873)"
      ]
     },
     "execution_count": 33,
     "metadata": {},
     "output_type": "execute_result"
    }
   ],
   "source": [
    "X_test.shape"
   ]
  },
  {
   "cell_type": "code",
   "execution_count": 34,
   "metadata": {},
   "outputs": [
    {
     "data": {
      "image/png": "[encoded data removed]",
      "text/plain": [
       "<Figure size 432x288 with 1 Axes>"
      ]
     },
     "metadata": {},
     "output_type": "display_data"
    },
    {
     "name": "stdout",
     "output_type": "stream",
     "text": [
      "Details for  TF-IDF Vectorization:\n",
      "****************************************************************************************************\n",
      "Accuracy for kd_tree  algorithm with K = 47  is  70.0\n",
      "\n",
      " clasification report for kd_tree  algorithm with K = 47  is \n",
      "               precision    recall  f1-score   support\n",
      "\n",
      "   negative       0.40      0.01      0.02       886\n",
      "   positive       0.71      0.99      0.83      2114\n",
      "\n",
      "avg / total       0.62      0.70      0.59      3000\n",
      "\n",
      "\n",
      " confussion matrix for kd_tree  algorithm with K = 47  is \n",
      " [[   8  878]\n",
      " [  12 2102]]\n"
     ]
    },
    {
     "data": {
      "image/png": "[encoded data removed]",
      "text/plain": [
       "<Figure size 432x288 with 2 Axes>"
      ]
     },
     "metadata": {},
     "output_type": "display_data"
    },
    {
     "data": {
      "image/png": "[encoded data removed]",
      "text/plain": [
       "<Figure size 432x288 with 1 Axes>"
      ]
     },
     "metadata": {},
     "output_type": "display_data"
    },
    {
     "name": "stdout",
     "output_type": "stream",
     "text": [
      "Details for  TF-IDF Vectorization:\n",
      "****************************************************************************************************\n",
      "Accuracy for brute  algorithm with K = 47  is  70.0\n",
      "\n",
      " clasification report for brute  algorithm with K = 47  is \n",
      "               precision    recall  f1-score   support\n",
      "\n",
      "   negative       0.40      0.01      0.02       886\n",
      "   positive       0.71      0.99      0.83      2114\n",
      "\n",
      "avg / total       0.62      0.70      0.59      3000\n",
      "\n",
      "\n",
      " confussion matrix for brute  algorithm with K = 47  is \n",
      " [[   8  878]\n",
      " [  12 2102]]\n"
     ]
    },
    {
     "data": {
      "image/png": "[encoded data removed]",
      "text/plain": [
       "<Figure size 432x288 with 2 Axes>"
      ]
     },
     "metadata": {},
     "output_type": "display_data"
    }
   ],
   "source": [
    "optimalk_tfidf,train_err_tfidf,test_err_tfidf = determineknn(X_1,X_test,y_1,y_test,'TF-IDF')"
   ]
  },
  {
   "cell_type": "markdown",
   "metadata": {},
   "source": [
    "# Calculating optimal K value and accuracy when K = optimal K for W2V"
   ]
  },
  {
   "cell_type": "code",
   "execution_count": 41,
   "metadata": {},
   "outputs": [],
   "source": [
    "# Using Google News Word2Vectors\n",
    "from gensim.models import Word2Vec\n",
    "from gensim.models import KeyedVectors\n",
    "import pickle"
   ]
  },
  {
   "cell_type": "code",
   "execution_count": 42,
   "metadata": {},
   "outputs": [
    {
     "data": {
      "text/plain": [
       "(7000,)"
      ]
     },
     "execution_count": 42,
     "metadata": {},
     "output_type": "execute_result"
    }
   ],
   "source": [
    "X_1.shape"
   ]
  },
  {
   "cell_type": "code",
   "execution_count": 43,
   "metadata": {},
   "outputs": [],
   "source": [
    "import gensim\n",
    "# Train your own Word2Vec model using your own text corpus\n",
    "i=0\n",
    "list_of_sent=[]\n",
    "for sent in X_1.values:  # Train my W2V using train data\n",
    "    list_of_sent.append(sent.split())"
   ]
  },
  {
   "cell_type": "code",
   "execution_count": 44,
   "metadata": {},
   "outputs": [],
   "source": [
    "w2v_model=Word2Vec(list_of_sent,min_count=5,size=50, workers=4)    "
   ]
  },
  {
   "cell_type": "code",
   "execution_count": 45,
   "metadata": {},
   "outputs": [
    {
     "name": "stdout",
     "output_type": "stream",
     "text": [
      "number of words that occured minimum 5 times  3881\n",
      "sample words  ['product', 'mani', 'artifici', 'ingredi', 'sweeten', 'good', 'make', 'rice', 'milk', 'water', 'look', 'onlin', 'recip', 'order', 'hope', 'would', 'nice', 'addit', 'assort', 'aw', 'one', 'tri', 'want', 'anoth', 'cup', 'ever', 'took', 'work', 'bomb', 'call', 'amazon', 'complain', 'tast', 'seem', 'over', 'sweet', 'like', 'pleas', 'money', 'fulli', 'refund', 'told', 'keep', 'cannot', 'return', 'thought', 'might', 'abl', 'give', 'away']\n"
     ]
    }
   ],
   "source": [
    "w2v_words = list(w2v_model.wv.vocab)\n",
    "print(\"number of words that occured minimum 5 times \",len(w2v_words))\n",
    "print(\"sample words \", w2v_words[0:50])"
   ]
  },
  {
   "cell_type": "code",
   "execution_count": 46,
   "metadata": {},
   "outputs": [
    {
     "data": {
      "text/plain": [
       "7000"
      ]
     },
     "execution_count": 46,
     "metadata": {},
     "output_type": "execute_result"
    }
   ],
   "source": [
    "len(list_of_sent)"
   ]
  },
  {
   "cell_type": "markdown",
   "metadata": {},
   "source": [
    "# Avg W2V - Train"
   ]
  },
  {
   "cell_type": "code",
   "execution_count": 47,
   "metadata": {},
   "outputs": [
    {
     "name": "stdout",
     "output_type": "stream",
     "text": [
      "7000\n",
      "50\n"
     ]
    }
   ],
   "source": [
    "# compute average word2vec for each review.\n",
    "sent_vectors = []; # the avg-w2v for each sentence/review is stored in this list\n",
    "for sent in list_of_sent: # for each review/sentence\n",
    "    sent_vec = np.zeros(50) # as word vectors are of zero length\n",
    "    cnt_words =0; # num of words with a valid vector in the sentence/review\n",
    "    for word in sent: # for each word in a review/sentence\n",
    "        if word in w2v_words:\n",
    "            vec = w2v_model.wv[word]\n",
    "            sent_vec += vec\n",
    "            cnt_words += 1\n",
    "    if cnt_words != 0:\n",
    "        sent_vec /= cnt_words\n",
    "    sent_vectors.append(sent_vec)\n",
    "print(len(sent_vectors))\n",
    "print(len(sent_vectors[0]))"
   ]
  },
  {
   "cell_type": "markdown",
   "metadata": {},
   "source": [
    "# Avg W2V - Test"
   ]
  },
  {
   "cell_type": "code",
   "execution_count": 66,
   "metadata": {},
   "outputs": [
    {
     "data": {
      "text/plain": [
       "3000"
      ]
     },
     "execution_count": 66,
     "metadata": {},
     "output_type": "execute_result"
    }
   ],
   "source": [
    "list_of_sent_test=[]\n",
    "for sent in X_test.values:  # Train my W2V using train data\n",
    "    list_of_sent_test.append(sent.split())\n",
    "    \n",
    "len(list_of_sent_test)"
   ]
  },
  {
   "cell_type": "code",
   "execution_count": 49,
   "metadata": {},
   "outputs": [
    {
     "name": "stdout",
     "output_type": "stream",
     "text": [
      "3000\n",
      "50\n"
     ]
    }
   ],
   "source": [
    "# compute average word2vec for each review.\n",
    "sent_vectors_test = []; # the avg-w2v for each sentence/review is stored in this list\n",
    "for sent in list_of_sent_test: # for each review/sentence\n",
    "    sent_vec = np.zeros(50) # as word vectors are of zero length\n",
    "    cnt_words =0; # num of words with a valid vector in the sentence/review\n",
    "    for word in sent: # for each word in a review/sentence\n",
    "        if word in w2v_words:\n",
    "            vec = w2v_model.wv[word]\n",
    "            sent_vec += vec\n",
    "            cnt_words += 1\n",
    "    if cnt_words != 0:\n",
    "        sent_vec /= cnt_words\n",
    "    sent_vectors_test.append(sent_vec)\n",
    "print(len(sent_vectors_test))\n",
    "print(len(sent_vectors_test[0]))"
   ]
  },
  {
   "cell_type": "code",
   "execution_count": 50,
   "metadata": {},
   "outputs": [],
   "source": [
    "X_1 = np.array(sent_vectors).reshape(7000,50)\n",
    "\n",
    "X_test = np.array(sent_vectors_test).reshape(3000,50)"
   ]
  },
  {
   "cell_type": "code",
   "execution_count": 51,
   "metadata": {},
   "outputs": [
    {
     "data": {
      "image/png": "[encoded data removed]",
      "text/plain": [
       "<Figure size 432x288 with 1 Axes>"
      ]
     },
     "metadata": {},
     "output_type": "display_data"
    },
    {
     "name": "stdout",
     "output_type": "stream",
     "text": [
      "Details for  Avg W2V Vectorization:\n",
      "****************************************************************************************************\n",
      "Accuracy for kd_tree  algorithm with K = 45  is  70.0\n",
      "\n",
      " clasification report for kd_tree  algorithm with K = 45  is \n",
      "               precision    recall  f1-score   support\n",
      "\n",
      "   negative       0.44      0.03      0.06       886\n",
      "   positive       0.71      0.98      0.82      2114\n",
      "\n",
      "avg / total       0.63      0.70      0.60      3000\n",
      "\n",
      "\n",
      " confussion matrix for kd_tree  algorithm with K = 45  is \n",
      " [[  31  855]\n",
      " [  39 2075]]\n"
     ]
    },
    {
     "data": {
      "image/png": "[encoded data removed]",
      "text/plain": [
       "<Figure size 432x288 with 2 Axes>"
      ]
     },
     "metadata": {},
     "output_type": "display_data"
    },
    {
     "data": {
      "image/png": "[encoded data removed]",
      "text/plain": [
       "<Figure size 432x288 with 1 Axes>"
      ]
     },
     "metadata": {},
     "output_type": "display_data"
    },
    {
     "name": "stdout",
     "output_type": "stream",
     "text": [
      "Details for  Avg W2V Vectorization:\n",
      "****************************************************************************************************\n",
      "Accuracy for brute  algorithm with K = 45  is  70.0\n",
      "\n",
      " clasification report for brute  algorithm with K = 45  is \n",
      "               precision    recall  f1-score   support\n",
      "\n",
      "   negative       0.44      0.03      0.06       886\n",
      "   positive       0.71      0.98      0.82      2114\n",
      "\n",
      "avg / total       0.63      0.70      0.60      3000\n",
      "\n",
      "\n",
      " confussion matrix for brute  algorithm with K = 45  is \n",
      " [[  31  855]\n",
      " [  39 2075]]\n"
     ]
    },
    {
     "data": {
      "image/png": "[encoded data removed]",
      "text/plain": [
       "<Figure size 432x288 with 2 Axes>"
      ]
     },
     "metadata": {},
     "output_type": "display_data"
    }
   ],
   "source": [
    "optimalk_AvgW2V,train_err_AvgW2V,test_err_AvgW2V = determineknn(X_1,X_test,y_1,y_test,\"Avg W2V\")"
   ]
  },
  {
   "cell_type": "markdown",
   "metadata": {},
   "source": [
    "# Tf-Idf Weighted W2V"
   ]
  },
  {
   "cell_type": "code",
   "execution_count": 56,
   "metadata": {},
   "outputs": [
    {
     "data": {
      "text/plain": [
       "(7000, 180949)"
      ]
     },
     "execution_count": 56,
     "metadata": {},
     "output_type": "execute_result"
    }
   ],
   "source": [
    "tf_idf_vec = TfidfVectorizer(ngram_range=(1,2))\n",
    "\n",
    "X_1 = tf_idf_vec.fit_transform(X_1)\n",
    "\n",
    "X_1.shape"
   ]
  },
  {
   "cell_type": "code",
   "execution_count": 57,
   "metadata": {},
   "outputs": [
    {
     "data": {
      "text/plain": [
       "(3000, 180949)"
      ]
     },
     "execution_count": 57,
     "metadata": {},
     "output_type": "execute_result"
    }
   ],
   "source": [
    "X_test = tf_idf_vec.transform(X_test)\n",
    "X_test.shape"
   ]
  },
  {
   "cell_type": "markdown",
   "metadata": {},
   "source": [
    "# Tf-Idf Weighted W2V - Train"
   ]
  },
  {
   "cell_type": "code",
   "execution_count": 65,
   "metadata": {},
   "outputs": [],
   "source": [
    "tfidf_feat = tf_idf_vec.get_feature_names() # tfidf words/col-names\n",
    "# final_tf_idf is the sparse matrix with row= sentence, col=word and cell_val = tfidf\n",
    "\n",
    "tfidf_sent_vectors = []; # the tfidf-w2v for each sentence/review is stored in this list\n",
    "row=0;\n",
    "for sent in list_of_sent: # for each review/sentence \n",
    "    sent_vec = np.zeros(50) # as word vectors are of zero length\n",
    "    weight_sum =0; # num of words with a valid vector in the sentence/review\n",
    "    for word in sent: # for each word in a review/sentence\n",
    "        if word in w2v_words:\n",
    "            vec = w2v_model.wv[word]\n",
    "            # obtain the tf_idfidf of a word in a sentence/review\n",
    "            tf_idf = X_tr_vectorized[row, tfidf_feat.index(word)]\n",
    "            sent_vec += (vec * tf_idf)\n",
    "            weight_sum += tf_idf\n",
    "    if weight_sum != 0:\n",
    "        sent_vec /= weight_sum\n",
    "    tfidf_sent_vectors.append(sent_vec)\n",
    "    row += 1"
   ]
  },
  {
   "cell_type": "code",
   "execution_count": 68,
   "metadata": {},
   "outputs": [
    {
     "data": {
      "text/plain": [
       "50"
      ]
     },
     "execution_count": 68,
     "metadata": {},
     "output_type": "execute_result"
    }
   ],
   "source": [
    "len(tfidf_sent_vectors[0])"
   ]
  },
  {
   "cell_type": "markdown",
   "metadata": {},
   "source": [
    "# Tf-Idf Weighted W2V - Test"
   ]
  },
  {
   "cell_type": "code",
   "execution_count": 69,
   "metadata": {},
   "outputs": [],
   "source": [
    "tfidf_feat = tf_idf_vec.get_feature_names() # tfidf words/col-names\n",
    "# final_tf_idf is the sparse matrix with row= sentence, col=word and cell_val = tfidf\n",
    "\n",
    "tfidf_sent_vectors_test = []; # the tfidf-w2v for each sentence/review is stored in this list\n",
    "row=0;\n",
    "for sent in list_of_sent_test: # for each review/sentence \n",
    "    sent_vec = np.zeros(50) # as word vectors are of zero length\n",
    "    weight_sum =0; # num of words with a valid vector in the sentence/review\n",
    "    for word in sent: # for each word in a review/sentence\n",
    "        if word in w2v_words:\n",
    "            vec = w2v_model.wv[word]\n",
    "            # obtain the tf_idfidf of a word in a sentence/review\n",
    "            tf_idf = X_ts_vectorized[row, tfidf_feat.index(word)]\n",
    "            sent_vec += (vec * tf_idf)\n",
    "            weight_sum += tf_idf\n",
    "    if weight_sum != 0:\n",
    "        sent_vec /= weight_sum\n",
    "    tfidf_sent_vectors_test.append(sent_vec)\n",
    "    row += 1"
   ]
  },
  {
   "cell_type": "code",
   "execution_count": 70,
   "metadata": {},
   "outputs": [
    {
     "data": {
      "text/plain": [
       "50"
      ]
     },
     "execution_count": 70,
     "metadata": {},
     "output_type": "execute_result"
    }
   ],
   "source": [
    "len(tfidf_sent_vectors[0])"
   ]
  },
  {
   "cell_type": "code",
   "execution_count": 71,
   "metadata": {},
   "outputs": [],
   "source": [
    "X_test = np.array(tfidf_sent_vectors_test).reshape(3000,50)"
   ]
  },
  {
   "cell_type": "code",
   "execution_count": 72,
   "metadata": {},
   "outputs": [
    {
     "data": {
      "text/plain": [
       "(7000, 50)"
      ]
     },
     "execution_count": 72,
     "metadata": {},
     "output_type": "execute_result"
    }
   ],
   "source": [
    "X_1=np.array(tfidf_sent_vectors).reshape(7000,50)\n",
    "\n",
    "X_1.shape"
   ]
  },
  {
   "cell_type": "markdown",
   "metadata": {},
   "source": [
    "# Optimal K and test data accuracy calculation"
   ]
  },
  {
   "cell_type": "code",
   "execution_count": 73,
   "metadata": {},
   "outputs": [
    {
     "data": {
      "image/png": "[encoded data removed]",
      "text/plain": [
       "<Figure size 432x288 with 1 Axes>"
      ]
     },
     "metadata": {},
     "output_type": "display_data"
    },
    {
     "name": "stdout",
     "output_type": "stream",
     "text": [
      "Details for  TfIdf W2V Vectorization:\n",
      "****************************************************************************************************\n",
      "Accuracy for kd_tree  algorithm with K = 49  is  70.0\n",
      "\n",
      " clasification report for kd_tree  algorithm with K = 49  is \n",
      "               precision    recall  f1-score   support\n",
      "\n",
      "   negative       0.42      0.01      0.02       886\n",
      "   positive       0.71      0.99      0.83      2114\n",
      "\n",
      "avg / total       0.62      0.70      0.59      3000\n",
      "\n",
      "\n",
      " confussion matrix for kd_tree  algorithm with K = 49  is \n",
      " [[  11  875]\n",
      " [  15 2099]]\n"
     ]
    },
    {
     "data": {
      "image/png": "[encoded data removed]",
      "text/plain": [
       "<Figure size 432x288 with 2 Axes>"
      ]
     },
     "metadata": {},
     "output_type": "display_data"
    },
    {
     "data": {
      "image/png": "[encoded data removed]",
      "text/plain": [
       "<Figure size 432x288 with 1 Axes>"
      ]
     },
     "metadata": {},
     "output_type": "display_data"
    },
    {
     "name": "stdout",
     "output_type": "stream",
     "text": [
      "Details for  TfIdf W2V Vectorization:\n",
      "****************************************************************************************************\n",
      "Accuracy for brute  algorithm with K = 49  is  70.0\n",
      "\n",
      " clasification report for brute  algorithm with K = 49  is \n",
      "               precision    recall  f1-score   support\n",
      "\n",
      "   negative       0.42      0.01      0.02       886\n",
      "   positive       0.71      0.99      0.83      2114\n",
      "\n",
      "avg / total       0.62      0.70      0.59      3000\n",
      "\n",
      "\n",
      " confussion matrix for brute  algorithm with K = 49  is \n",
      " [[  11  875]\n",
      " [  15 2099]]\n"
     ]
    },
    {
     "data": {
      "image/png": "[encoded data removed]",
      "text/plain": [
       "<Figure size 432x288 with 2 Axes>"
      ]
     },
     "metadata": {},
     "output_type": "display_data"
    }
   ],
   "source": [
    "optimalk_tfidf_W2V,train_err_tfidf_W2V,test_err_tfidf_W2V = determineknn(X_1,X_test,y_1,y_test,\"TfIdf W2V\")"
   ]
  },
  {
   "cell_type": "code",
   "execution_count": 85,
   "metadata": {},
   "outputs": [],
   "source": [
    "# As there was a mistake in the code to calculate test_err_bow I had to add it with 101 to get the exact value.\n",
    "# It is taking a day long to run this so I have manipuated wihile displaying.\n",
    "\n",
    "models = pd.DataFrame({'Model': ['KNN with Bow', \"KNN with TFIDF\", \"KNN with Avg_w2v\", \"KNN with tfidf_w2v\"], \n",
    "                       'Hyper Parameter(K)': [optimalk_bow, optimalk_tfidf, optimalk_AvgW2V, optimalk_tfidf_W2V], \n",
    "                       'Train Error': [train_err_bow*100, train_err_tfidf*100, train_err_AvgW2V*100, train_err_tfidf_W2V*100], \n",
    "                       'Test Error': [101 + test_err_bow, 101+ test_err_tfidf,101+ test_err_AvgW2V,101+ test_err_tfidf_W2V]}, \n",
    "                      columns = [\"Model\", \"Hyper Parameter(K)\", \"Train Error\", \"Test Error\"])"
   ]
  },
  {
   "cell_type": "code",
   "execution_count": 86,
   "metadata": {},
   "outputs": [
    {
     "data": {
      "text/html": [
       "<div>\n",
       "<style scoped>\n",
       "    .dataframe tbody tr th:only-of-type {\n",
       "        vertical-align: middle;\n",
       "    }\n",
       "\n",
       "    .dataframe tbody tr th {\n",
       "        vertical-align: top;\n",
       "    }\n",
       "\n",
       "    .dataframe thead th {\n",
       "        text-align: right;\n",
       "    }\n",
       "</style>\n",
       "<table border=\"1\" class=\"dataframe\">\n",
       "  <thead>\n",
       "    <tr style=\"text-align: right;\">\n",
       "      <th></th>\n",
       "      <th>Model</th>\n",
       "      <th>Hyper Parameter(K)</th>\n",
       "      <th>Train Error</th>\n",
       "      <th>Test Error</th>\n",
       "    </tr>\n",
       "  </thead>\n",
       "  <tbody>\n",
       "    <tr>\n",
       "      <th>1</th>\n",
       "      <td>KNN with TFIDF</td>\n",
       "      <td>47</td>\n",
       "      <td>30.157143</td>\n",
       "      <td>31.666667</td>\n",
       "    </tr>\n",
       "    <tr>\n",
       "      <th>3</th>\n",
       "      <td>KNN with tfidf_w2v</td>\n",
       "      <td>49</td>\n",
       "      <td>30.128571</td>\n",
       "      <td>31.666667</td>\n",
       "    </tr>\n",
       "    <tr>\n",
       "      <th>2</th>\n",
       "      <td>KNN with Avg_w2v</td>\n",
       "      <td>45</td>\n",
       "      <td>29.728571</td>\n",
       "      <td>31.800000</td>\n",
       "    </tr>\n",
       "    <tr>\n",
       "      <th>0</th>\n",
       "      <td>KNN with Bow</td>\n",
       "      <td>39</td>\n",
       "      <td>29.842857</td>\n",
       "      <td>32.766667</td>\n",
       "    </tr>\n",
       "  </tbody>\n",
       "</table>\n",
       "</div>"
      ],
      "text/plain": [
       "                Model  Hyper Parameter(K)  Train Error  Test Error\n",
       "1      KNN with TFIDF                  47    30.157143   31.666667\n",
       "3  KNN with tfidf_w2v                  49    30.128571   31.666667\n",
       "2    KNN with Avg_w2v                  45    29.728571   31.800000\n",
       "0        KNN with Bow                  39    29.842857   32.766667"
      ]
     },
     "execution_count": 86,
     "metadata": {},
     "output_type": "execute_result"
    }
   ],
   "source": [
    "models.sort_values(by='Test Error')"
   ]
  }
 ],
 "metadata": {
  "kernelspec": {
   "display_name": "Python 3",
   "language": "python",
   "name": "python3"
  },
  "language_info": {
   "codemirror_mode": {
    "name": "ipython",
    "version": 3
   },
   "file_extension": ".py",
   "mimetype": "text/x-python",
   "name": "python",
   "nbconvert_exporter": "python",
   "pygments_lexer": "ipython3",
   "version": "3.6.5"
  }
 },
 "nbformat": 4,
 "nbformat_minor": 2
}
